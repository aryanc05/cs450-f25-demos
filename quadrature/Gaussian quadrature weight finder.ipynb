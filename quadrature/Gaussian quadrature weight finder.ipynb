{
 "cells": [
  {
   "cell_type": "markdown",
   "metadata": {},
   "source": [
    "# Finding the Weights in Gaussian Quadrature"
   ]
  },
  {
   "cell_type": "code",
   "execution_count": null,
   "metadata": {},
   "outputs": [],
   "source": [
    "import numpy as np\n",
    "import numpy.linalg as la\n",
    "import scipy.special as sps\n",
    "import matplotlib.pyplot as plt"
   ]
  },
  {
   "cell_type": "markdown",
   "metadata": {},
   "source": [
    "Here's a utility routine to do biseciton, to use below:"
   ]
  },
  {
   "cell_type": "code",
   "execution_count": null,
   "metadata": {},
   "outputs": [],
   "source": [
    "def bisection(f, a, b, tol=1e-14):\n",
    "    assert np.sign(f(a)) != np.sign(f(b))\n",
    "    while b-a > tol:\n",
    "        m = a + (b-a)/2\n",
    "        fm = f(m)\n",
    "        if np.sign(f(a)) != np.sign(fm):\n",
    "            b = m\n",
    "        else:\n",
    "            a = m\n",
    "            \n",
    "    return m"
   ]
  },
  {
   "cell_type": "markdown",
   "metadata": {},
   "source": [
    "Set the number of nodes:"
   ]
  },
  {
   "cell_type": "code",
   "execution_count": null,
   "metadata": {},
   "outputs": [],
   "source": [
    "n = 12"
   ]
  },
  {
   "cell_type": "markdown",
   "metadata": {},
   "source": [
    "### Node selection: Plain Gauss"
   ]
  },
  {
   "cell_type": "markdown",
   "metadata": {},
   "source": [
    "Gauss nodes are the roots of the $n$th Legendre polynomial $P_n$:"
   ]
  },
  {
   "cell_type": "code",
   "execution_count": null,
   "metadata": {},
   "outputs": [],
   "source": [
    "nodes = sps.legendre(n).weights[:, 0]\n",
    "\n",
    "mesh = np.linspace(-1, 1, 300)\n",
    "\n",
    "plt.plot(mesh, sps.eval_legendre(n, mesh))\n",
    "plt.plot(nodes, 0*nodes, \"o\")\n",
    "print(nodes)"
   ]
  },
  {
   "cell_type": "markdown",
   "metadata": {},
   "source": [
    "### Node Selection: Gauss-Lobatto"
   ]
  },
  {
   "cell_type": "markdown",
   "metadata": {},
   "source": [
    "Gauss-Lobatto nodes are (except for the endpoints) the roots of $P_{n-1}'$:\n",
    "\n",
    "(See [here](https://en.wikipedia.org/wiki/Legendre_polynomials#Additional_properties_of_Legendre_polynomials) or [here](http://dlmf.nist.gov/18.9.17) for a formula for $P_n'$.)"
   ]
  },
  {
   "cell_type": "code",
   "execution_count": null,
   "metadata": {},
   "outputs": [],
   "source": [
    "def eval_legendre_deriv(n, x):\n",
    "    return (\n",
    "        (x*sps.eval_legendre(n, x) - sps.eval_legendre(n-1, x))\n",
    "        /\n",
    "        ((x**2-1)/n))\n",
    "\n",
    "brackets = sps.legendre(n-1).weights[:, 0]\n",
    "\n",
    "nodes = np.zeros(n)\n",
    "nodes[0] = -1\n",
    "nodes[-1] = 1\n",
    "\n",
    "from functools import partial\n",
    "\n",
    "# Use the fact that the roots of P_{n-1} bracket the roots of P_{n-1}':\n",
    "for i in range(n-2):\n",
    "    nodes[i+1] = bisection(\n",
    "        partial(eval_legendre_deriv, n-1),\n",
    "        brackets[i], brackets[i+1])\n",
    "\n",
    "mesh = np.linspace(-1, 1, 300)\n",
    "\n",
    "plt.plot(mesh, eval_legendre_deriv(n-1, mesh))\n",
    "plt.plot(nodes, 0*nodes, \"o\")"
   ]
  },
  {
   "cell_type": "markdown",
   "metadata": {},
   "source": [
    "### Node Selection: Gauss-Radau"
   ]
  },
  {
   "cell_type": "markdown",
   "metadata": {},
   "source": [
    "For Gauss-Radau (with the left endpoint included), the nodes are the roots of the following function:"
   ]
  },
  {
   "cell_type": "code",
   "execution_count": null,
   "metadata": {},
   "outputs": [],
   "source": [
    "def radau_func(n, x):\n",
    "    return (\n",
    "        (sps.eval_legendre(n-1, x) + sps.eval_legendre(n, x))\n",
    "        /\n",
    "        (1+x))\n",
    "\n",
    "brackets = sps.legendre(n).weights[:, 0]\n",
    "\n",
    "nodes = None\n",
    "# Root finding left as an exercise for the reader. :)\n",
    "nodes = np.zeros(n)\n",
    "nodes[0] = -1\n",
    "\n",
    "from functools import partial\n",
    "\n",
    "# Use the fact that the roots of P_{n-1} bracket the roots of P_{n-1}':\n",
    "for i in range(n-1):\n",
    "    nodes[i+1] = bisection(\n",
    "        partial(radau_func, n),\n",
    "        brackets[i], brackets[i+1])\n",
    "\n",
    "mesh = np.linspace(-1, 1, 300)\n",
    "plt.plot(mesh, radau_func(n, mesh))\n",
    "plt.plot(nodes, 0*nodes, \"o\")\n",
    "print(nodes)"
   ]
  },
  {
   "cell_type": "markdown",
   "metadata": {},
   "source": [
    "### Finding the weights"
   ]
  },
  {
   "cell_type": "markdown",
   "metadata": {},
   "source": [
    "Use method of undetermined coefficients to find the interpolatory quadrature rule for `nodes`:"
   ]
  },
  {
   "cell_type": "code",
   "execution_count": null,
   "metadata": {},
   "outputs": [],
   "source": [
    "max_degree = len(nodes) - 1\n",
    "powers = np.arange(max_degree+1)\n",
    "\n",
    "Vt = nodes ** powers.reshape(-1, 1)\n",
    "\n",
    "a, b = -1, 1\n",
    "rhs = 1/(powers+1) * (b**(powers+1) - a**(powers+1))\n",
    "\n",
    "weights = la.solve(Vt, rhs)"
   ]
  },
  {
   "cell_type": "markdown",
   "metadata": {},
   "source": [
    "Now compare the approximate integrals of monomials from our rule with the true answers:"
   ]
  },
  {
   "cell_type": "code",
   "execution_count": null,
   "metadata": {},
   "outputs": [],
   "source": [
    "for i in range(2*n + 1):\n",
    "    approx = weights @ nodes**i\n",
    "    true = 1/(i+1)*(1. - (-1)**(i+1))\n",
    "    \n",
    "    print(\"Error at degree %d: %g\" % (i, approx-true))"
   ]
  },
  {
   "cell_type": "code",
   "execution_count": null,
   "metadata": {},
   "outputs": [],
   "source": [
    "len(nodes)"
   ]
  },
  {
   "cell_type": "code",
   "execution_count": null,
   "metadata": {},
   "outputs": [],
   "source": []
  }
 ],
 "metadata": {
  "kernelspec": {
   "display_name": "Python 3 (ipykernel)",
   "language": "python",
   "name": "python3"
  },
  "language_info": {
   "codemirror_mode": {
    "name": "ipython",
    "version": 3
   },
   "file_extension": ".py",
   "mimetype": "text/x-python",
   "name": "python",
   "nbconvert_exporter": "python",
   "pygments_lexer": "ipython3",
   "version": "3.12.11"
  }
 },
 "nbformat": 4,
 "nbformat_minor": 4
}
