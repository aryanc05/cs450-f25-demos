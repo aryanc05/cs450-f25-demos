{
 "cells": [
  {
   "cell_type": "markdown",
   "metadata": {},
   "source": [
    "# Gram-Schmidt and Modified Gram-Schmidt"
   ]
  },
  {
   "cell_type": "code",
   "execution_count": null,
   "metadata": {},
   "outputs": [],
   "source": [
    "import numpy as np\n",
    "import numpy.linalg as la"
   ]
  },
  {
   "cell_type": "code",
   "execution_count": null,
   "metadata": {},
   "outputs": [],
   "source": [
    "A = np.random.randn(3, 3)"
   ]
  },
  {
   "cell_type": "code",
   "execution_count": null,
   "metadata": {},
   "outputs": [],
   "source": [
    "def test_orthogonality(Q):\n",
    "    print(\"Q:\")\n",
    "    print(Q)\n",
    "    \n",
    "    print(\"Q^T Q:\")\n",
    "    QtQ = np.dot(Q.T, Q)\n",
    "    QtQ[np.abs(QtQ) < 1e-15] = 0\n",
    "    print(QtQ)"
   ]
  },
  {
   "cell_type": "code",
   "execution_count": null,
   "metadata": {},
   "outputs": [],
   "source": [
    "Q = np.zeros(A.shape)"
   ]
  },
  {
   "cell_type": "markdown",
   "metadata": {},
   "source": [
    "Now let us generalize the process we used for three vectors earlier:"
   ]
  },
  {
   "cell_type": "code",
   "execution_count": null,
   "metadata": {},
   "outputs": [],
   "source": [
    "#clear\n",
    "for k in range(A.shape[1]):\n",
    "    avec = A[:, k]\n",
    "    q = avec\n",
    "    for j in range(k):\n",
    "        q = q - np.dot(avec, Q[:,j])*Q[:,j]\n",
    "    \n",
    "    Q[:, k] = q/la.norm(q)"
   ]
  },
  {
   "cell_type": "markdown",
   "metadata": {},
   "source": [
    "This procedure is called [Gram-Schmidt Orthonormalization](https://en.wikipedia.org/wiki/Gram–Schmidt_process)."
   ]
  },
  {
   "cell_type": "code",
   "execution_count": null,
   "metadata": {},
   "outputs": [],
   "source": [
    "test_orthogonality(Q)"
   ]
  },
  {
   "cell_type": "markdown",
   "metadata": {},
   "source": [
    "Now let us try a different example ([Source](http://fgiesen.wordpress.com/2013/06/02/modified-gram-schmidt-orthogonalization/)):"
   ]
  },
  {
   "cell_type": "code",
   "execution_count": null,
   "metadata": {},
   "outputs": [],
   "source": [
    "\n",
    "np.set_printoptions(precision=13)\n",
    "\n",
    "eps = 1e-8\n",
    "\n",
    "A = np.array([\n",
    "    [1,  1,  1],\n",
    "    [eps,eps,0],\n",
    "    [eps,0,  eps]\n",
    "    ])\n",
    "\n",
    "A"
   ]
  },
  {
   "cell_type": "code",
   "execution_count": null,
   "metadata": {},
   "outputs": [],
   "source": [
    "Q = np.zeros(A.shape)"
   ]
  },
  {
   "cell_type": "code",
   "execution_count": null,
   "metadata": {},
   "outputs": [],
   "source": [
    "for k in range(A.shape[1]):\n",
    "    avec = A[:, k]\n",
    "    q = avec\n",
    "    for j in range(k):\n",
    "        print(q)\n",
    "        q = q - np.dot(avec, Q[:,j])*Q[:,j]\n",
    "    \n",
    "    print(q)\n",
    "    q = q/la.norm(q)\n",
    "    Q[:, k] = q\n",
    "    print(\"norm -->\", q)\n",
    "    print(\"-------\")"
   ]
  },
  {
   "cell_type": "code",
   "execution_count": null,
   "metadata": {},
   "outputs": [],
   "source": [
    "test_orthogonality(Q)"
   ]
  },
  {
   "cell_type": "markdown",
   "metadata": {},
   "source": [
    "Questions:\n",
    "\n",
    "* What happened?\n",
    "* How do we fix it?"
   ]
  },
  {
   "cell_type": "code",
   "execution_count": null,
   "metadata": {},
   "outputs": [],
   "source": [
    "Q = np.zeros(A.shape)"
   ]
  },
  {
   "cell_type": "code",
   "execution_count": null,
   "metadata": {},
   "outputs": [],
   "source": [
    "#clear\n",
    "for k in range(A.shape[1]):\n",
    "    q = A[:, k]\n",
    "    for j in range(k):\n",
    "        q = q - np.dot(q, Q[:,j])*Q[:,j]\n",
    "    \n",
    "    Q[:, k] = q/la.norm(q)"
   ]
  },
  {
   "cell_type": "code",
   "execution_count": null,
   "metadata": {},
   "outputs": [],
   "source": [
    "test_orthogonality(Q)"
   ]
  },
  {
   "cell_type": "markdown",
   "metadata": {},
   "source": [
    "This procedure is called *Modified* Gram-Schmidt Orthogonalization.\n",
    "\n",
    "Questions:\n",
    "\n",
    "* Is there a difference mathematically between modified and unmodified?\n",
    "* Why are there $10^{-8}$ values left in $Q^TQ$?"
   ]
  },
  {
   "cell_type": "code",
   "execution_count": null,
   "metadata": {},
   "outputs": [],
   "source": []
  }
 ],
 "metadata": {
  "kernelspec": {
   "display_name": "Python 3 (ipykernel)",
   "language": "python",
   "name": "python3"
  },
  "language_info": {
   "codemirror_mode": {
    "name": "ipython",
    "version": 3
   },
   "file_extension": ".py",
   "mimetype": "text/x-python",
   "name": "python",
   "nbconvert_exporter": "python",
   "pygments_lexer": "ipython3",
   "version": "3.12.11"
  }
 },
 "nbformat": 4,
 "nbformat_minor": 4
}
