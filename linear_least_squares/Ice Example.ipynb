{
 "cells": [
  {
   "cell_type": "markdown",
   "metadata": {},
   "source": [
    "http://ww2.amstat.org/publications/jse/v21n1/witt.pdf\n",
    "\n",
    "https://noaadata.apps.nsidc.org/NOAA/G02135/north/monthly/data/N_08_extent_v4.0.csv"
   ]
  },
  {
   "cell_type": "code",
   "execution_count": null,
   "metadata": {},
   "outputs": [],
   "source": [
    "import numpy as np\n",
    "import numpy.linalg as la\n",
    "import matplotlib.pyplot as plt\n",
    "\n",
    "import pandas as pd\n",
    "\n",
    "from scipy import stats"
   ]
  },
  {
   "cell_type": "markdown",
   "metadata": {},
   "source": [
    "## Read Data"
   ]
  },
  {
   "cell_type": "code",
   "execution_count": null,
   "metadata": {},
   "outputs": [],
   "source": [
    "data = pd.read_csv('N_08_extent_v4.0.csv',\n",
    "                   dtype={'year': np.int32, 'extent': np.double})"
   ]
  },
  {
   "cell_type": "code",
   "execution_count": null,
   "metadata": {},
   "outputs": [],
   "source": [
    "data"
   ]
  },
  {
   "cell_type": "code",
   "execution_count": null,
   "metadata": {},
   "outputs": [],
   "source": [
    "data.dtypes"
   ]
  },
  {
   "cell_type": "code",
   "execution_count": null,
   "metadata": {},
   "outputs": [],
   "source": [
    "year = data['year']\n",
    "extent = data[' extent']"
   ]
  },
  {
   "cell_type": "code",
   "execution_count": null,
   "metadata": {},
   "outputs": [],
   "source": [
    "plt.figure(figsize=(8,4))\n",
    "plt.plot(year, extent, 'o')"
   ]
  },
  {
   "cell_type": "markdown",
   "metadata": {},
   "source": [
    "## Try a linear fit"
   ]
  },
  {
   "cell_type": "code",
   "execution_count": null,
   "metadata": {},
   "outputs": [],
   "source": [
    "year = data['year']\n",
    "extent = data[' extent']\n",
    "slope, intercept, rvalue, pvalue, stderr = stats.linregress(year, extent)\n",
    "yfit = slope*year + intercept\n",
    "\n",
    "plt.figure(figsize=(6,3))\n",
    "plt.plot(year, yfit, 'r-')\n",
    "plt.plot(year, extent, 'o')\n",
    "print(slope)\n",
    "print(intercept)\n",
    "print(rvalue)\n",
    "print(rvalue**2)"
   ]
  },
  {
   "cell_type": "markdown",
   "metadata": {},
   "source": [
    "### How far off is this fit?"
   ]
  },
  {
   "cell_type": "code",
   "execution_count": null,
   "metadata": {},
   "outputs": [],
   "source": [
    "plt.figure(figsize=(6,3))\n",
    "\n",
    "plt.plot(year, extent - yfit, 'o')\n",
    "slope\n",
    "intercept"
   ]
  },
  {
   "cell_type": "code",
   "execution_count": null,
   "metadata": {},
   "outputs": [],
   "source": [
    "stderr"
   ]
  },
  {
   "cell_type": "markdown",
   "metadata": {},
   "source": [
    "### How did the linear fit \"fit\" as time time progresses?"
   ]
  },
  {
   "cell_type": "code",
   "execution_count": null,
   "metadata": {},
   "outputs": [],
   "source": [
    "plt.figure(figsize=(20,8))\n",
    "res = []\n",
    "for y in range(22, len(extent)+1):\n",
    "    slope, intercept, rvalue, pvalue, stderr = \\\n",
    "    stats.linregress(year[:y], extent[:y])\n",
    "    yfit = slope*year[:y] + intercept\n",
    "\n",
    "    plt.plot(year[:y], yfit, '-', label='%d' % (1979+y))\n",
    "\n",
    "plt.plot(year[:y], extent[:y], 'o')\n",
    "plt.legend()"
   ]
  },
  {
   "cell_type": "markdown",
   "metadata": {},
   "source": [
    "### Let's try a quadratic fit"
   ]
  },
  {
   "cell_type": "code",
   "execution_count": null,
   "metadata": {},
   "outputs": [],
   "source": [
    "quadratic, linear, intercept = np.polyfit(year, extent, 2)\n",
    "yfit = quadratic*year**2 + linear*year + intercept\n",
    "\n",
    "plt.figure(figsize=(6,3))\n",
    "plt.plot(year, yfit, 'r-')\n",
    "plt.plot(year, extent, 'o')\n",
    "\n",
    "rvalue = np.sqrt(1 - ((yfit - extent)**2).sum() / ((extent - np.mean(extent))**2).sum())\n",
    "\n",
    "print(rvalue)"
   ]
  },
  {
   "cell_type": "code",
   "execution_count": null,
   "metadata": {},
   "outputs": [],
   "source": [
    "plt.plot(year, extent - yfit, 'o')"
   ]
  },
  {
   "cell_type": "markdown",
   "metadata": {},
   "source": [
    "## What about a cubic?\n",
    "\n",
    "What goes wrong here?"
   ]
  },
  {
   "cell_type": "code",
   "execution_count": null,
   "metadata": {},
   "outputs": [],
   "source": [
    "year = year\n",
    "cubic, quadratic, linear, intercept = np.polyfit(year, extent, 3)\n",
    "yfit = cubic*year**3 + quadratic*year**2 + linear*year + intercept\n",
    "\n",
    "plt.figure(figsize=(4,3))\n",
    "plt.plot(year, yfit, 'r-')\n",
    "plt.plot(year, extent, 'o')\n",
    "\n",
    "rvalue = np.sqrt(1 - ((yfit - extent)**2).sum() / ((extent - np.mean(extent))**2).sum())\n",
    "\n",
    "print(rvalue)"
   ]
  },
  {
   "cell_type": "code",
   "execution_count": null,
   "metadata": {},
   "outputs": [],
   "source": []
  }
 ],
 "metadata": {
  "kernelspec": {
   "display_name": "Python 3 (ipykernel)",
   "language": "python",
   "name": "python3"
  },
  "language_info": {
   "codemirror_mode": {
    "name": "ipython",
    "version": 3
   },
   "file_extension": ".py",
   "mimetype": "text/x-python",
   "name": "python",
   "nbconvert_exporter": "python",
   "pygments_lexer": "ipython3",
   "version": "3.12.11"
  }
 },
 "nbformat": 4,
 "nbformat_minor": 4
}
