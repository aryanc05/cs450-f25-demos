{
 "cells": [
  {
   "cell_type": "markdown",
   "metadata": {},
   "source": [
    "Much of this is from the following source: https://onlinecourses.science.psu.edu/stat501/node/257"
   ]
  },
  {
   "cell_type": "code",
   "execution_count": null,
   "metadata": {},
   "outputs": [],
   "source": [
    "import numpy as np\n",
    "import numpy.linalg as la\n",
    "import matplotlib.pyplot as plt\n",
    "\n",
    "import pandas as pd\n",
    "\n",
    "from scipy import stats"
   ]
  },
  {
   "cell_type": "markdown",
   "metadata": {},
   "source": [
    "### Example: building stories vs height"
   ]
  },
  {
   "cell_type": "code",
   "execution_count": null,
   "metadata": {},
   "outputs": [],
   "source": [
    "data = pd.read_csv('./bldgstories.txt', sep=r'\\s+')"
   ]
  },
  {
   "cell_type": "code",
   "execution_count": null,
   "metadata": {},
   "outputs": [],
   "source": [
    "data\n",
    "\n",
    "year = data.values[:,0]\n",
    "hght = data.values[:,1]\n",
    "stories= data.values[:,2]"
   ]
  },
  {
   "cell_type": "code",
   "execution_count": null,
   "metadata": {},
   "outputs": [],
   "source": [
    "plt.figure(figsize=(6,3))\n",
    "plt.plot(hght, stories, 'o')\n",
    "plt.xlabel('height')\n",
    "plt.ylabel('stories')"
   ]
  },
  {
   "cell_type": "markdown",
   "metadata": {},
   "source": [
    "#### Add a linear regresssion line\n",
    "\n",
    "This is of the form\n",
    "$$\n",
    "m x + b\n",
    "$$\n",
    "where $m$ is the slope and $b$ is the intercept."
   ]
  },
  {
   "cell_type": "code",
   "execution_count": null,
   "metadata": {},
   "outputs": [],
   "source": [
    "slope, intercept, rvalue, pvalue, stderr = stats.linregress(hght, stories)\n",
    "yfit = slope*hght + intercept\n",
    "plt.figure(figsize=(6,3))\n",
    "\n",
    "plt.plot(hght, yfit, 'r-')\n",
    "\n",
    "plt.plot(hght, stories, 'o')\n",
    "plt.xlabel('height')\n",
    "plt.ylabel('stories')"
   ]
  },
  {
   "cell_type": "markdown",
   "metadata": {},
   "source": [
    "#### Now add a line representing the distance to the linear line"
   ]
  },
  {
   "cell_type": "code",
   "execution_count": null,
   "metadata": {},
   "outputs": [],
   "source": [
    "slope, intercept, rvalue, pvalue, stderr = stats.linregress(hght, stories)\n",
    "yfit = slope*hght + intercept\n",
    "plt.figure(figsize=(6,3))\n",
    "\n",
    "plt.plot(hght, yfit, 'r-')\n",
    "\n",
    "for i in range(len(hght)):\n",
    "    x = hght[i]\n",
    "    y = yfit[i]\n",
    "    s = stories[i]\n",
    "    plt.plot([x, x], [y, s], 'k-')\n",
    "\n",
    "plt.plot(hght, stories, 'o')\n",
    "plt.xlabel('height')\n",
    "plt.ylabel('stories')"
   ]
  },
  {
   "cell_type": "markdown",
   "metadata": {},
   "source": [
    "### How far away is each dot from the red line?\n",
    "\n",
    "`yfit` is the straight line\n",
    "\n",
    "`stories` is the data\n",
    "\n",
    "If `yfit`-`stories` were 0, then this would be a perfect fit, meaning a strong correlation and a good fit with a line would be 100% (or 1.0).  In addition we divide by `stories`-mean(`stories`)."
   ]
  },
  {
   "cell_type": "code",
   "execution_count": null,
   "metadata": {},
   "outputs": [],
   "source": [
    "np.sqrt(1 - ((yfit - stories)**2).sum() / ((stories - np.mean(stories))**2).sum())"
   ]
  },
  {
   "cell_type": "markdown",
   "metadata": {},
   "source": [
    "This is also called the rvalue or correlation coefficient."
   ]
  },
  {
   "cell_type": "code",
   "execution_count": null,
   "metadata": {},
   "outputs": [],
   "source": [
    "rvalue"
   ]
  },
  {
   "cell_type": "code",
   "execution_count": null,
   "metadata": {},
   "outputs": [],
   "source": []
  }
 ],
 "metadata": {
  "kernelspec": {
   "display_name": "Python 3 (ipykernel)",
   "language": "python",
   "name": "python3"
  },
  "language_info": {
   "codemirror_mode": {
    "name": "ipython",
    "version": 3
   },
   "file_extension": ".py",
   "mimetype": "text/x-python",
   "name": "python",
   "nbconvert_exporter": "python",
   "pygments_lexer": "ipython3",
   "version": "3.12.11"
  }
 },
 "nbformat": 4,
 "nbformat_minor": 4
}
