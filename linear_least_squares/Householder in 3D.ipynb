{
 "cells": [
  {
   "cell_type": "markdown",
   "id": "89725b36-70b7-4c88-a8c4-c77d2a398e1f",
   "metadata": {},
   "source": [
    "# Householder in 3D\n",
    "\n",
    "Copyright (C) 2024 Andreas Kloeckner\n",
    "\n",
    "<details>\n",
    "<summary>MIT License</summary>\n",
    "Permission is hereby granted, free of charge, to any person obtaining a copy\n",
    "of this software and associated documentation files (the \"Software\"), to deal\n",
    "in the Software without restriction, including without limitation the rights\n",
    "to use, copy, modify, merge, publish, distribute, sublicense, and/or sell\n",
    "copies of the Software, and to permit persons to whom the Software is\n",
    "furnished to do so, subject to the following conditions:\n",
    "\n",
    "The above copyright notice and this permission notice shall be included in\n",
    "all copies or substantial portions of the Software.\n",
    "\n",
    "THE SOFTWARE IS PROVIDED \"AS IS\", WITHOUT WARRANTY OF ANY KIND, EXPRESS OR\n",
    "IMPLIED, INCLUDING BUT NOT LIMITED TO THE WARRANTIES OF MERCHANTABILITY,\n",
    "FITNESS FOR A PARTICULAR PURPOSE AND NONINFRINGEMENT. IN NO EVENT SHALL THE\n",
    "AUTHORS OR COPYRIGHT HOLDERS BE LIABLE FOR ANY CLAIM, DAMAGES OR OTHER\n",
    "LIABILITY, WHETHER IN AN ACTION OF CONTRACT, TORT OR OTHERWISE, ARISING FROM,\n",
    "OUT OF OR IN CONNECTION WITH THE SOFTWARE OR THE USE OR OTHER DEALINGS IN\n",
    "THE SOFTWARE.\n",
    "</details>"
   ]
  },
  {
   "cell_type": "markdown",
   "id": "59adfbc8-8814-4bcb-906a-2b97cbf9744b",
   "metadata": {},
   "source": [
    "Requirements to run this:\n",
    "```\n",
    "pip install ipywidgets pyvista[all,trame]\n",
    "```\n",
    "(will need Jupyter server restart and browser hard-reload)\n",
    "\n",
    "*Note:* This will not work in the web-based JupyterLab, because software."
   ]
  },
  {
   "cell_type": "code",
   "execution_count": null,
   "id": "e1cc4b37-9eca-4630-9abd-0b87e0c01dc2",
   "metadata": {},
   "outputs": [],
   "source": [
    "import numpy as np\n",
    "import numpy.linalg as la\n",
    "import pyvista as pv\n",
    "pv.set_jupyter_backend('trame')"
   ]
  },
  {
   "cell_type": "code",
   "execution_count": null,
   "id": "89aa5557-f236-4854-9be7-66df3403c82f",
   "metadata": {},
   "outputs": [],
   "source": [
    "pl = pv.Plotter()\n",
    "\n",
    "a = np.array([-0.4, 0.8, -0.3])\n",
    "e1 = np.array([1, 0, 0])\n",
    "inplane = a + la.norm(a, 2) * e1\n",
    "ntilde = a - la.norm(a, 2) * e1\n",
    "n = ntilde/la.norm(ntilde, 2)\n",
    "\n",
    "def plot_plane(normal, **kwargs):\n",
    "    pl.add_mesh(pv.Plane(direction=normal, i_size=2, j_size=2), **kwargs)\n",
    "\n",
    "def plot_vector(v, label, **kwargs):\n",
    "    v = np.asarray(v, dtype=np.float32)\n",
    "    pl.add_mesh(pv.Arrow(direction=v, scale=\"auto\", shaft_radius=0.02, tip_radius=0.04), **kwargs)\n",
    "    pl.add_point_labels([v], [label])\n",
    "\n",
    "plot_plane(n)\n",
    "plot_plane(np.cross(e1, a), opacity=0.5)\n",
    "\n",
    "plot_vector(n, \"n\")\n",
    "plot_vector(e1, \"e1\")\n",
    "plot_vector(a, \"a\")\n",
    "plot_vector(inplane, \"inplane\")\n",
    "\n",
    "pl.show()"
   ]
  },
  {
   "cell_type": "code",
   "execution_count": null,
   "id": "61331c66-8cc7-4e31-bfc5-61d068e9743e",
   "metadata": {},
   "outputs": [],
   "source": []
  }
 ],
 "metadata": {
  "kernelspec": {
   "display_name": "Python 3 (ipykernel)",
   "language": "python",
   "name": "python3"
  },
  "language_info": {
   "codemirror_mode": {
    "name": "ipython",
    "version": 3
   },
   "file_extension": ".py",
   "mimetype": "text/x-python",
   "name": "python",
   "nbconvert_exporter": "python",
   "pygments_lexer": "ipython3",
   "version": "3.12.11"
  }
 },
 "nbformat": 4,
 "nbformat_minor": 5
}
