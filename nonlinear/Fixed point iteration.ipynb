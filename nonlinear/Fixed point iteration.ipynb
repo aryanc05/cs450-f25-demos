{
 "cells": [
  {
   "cell_type": "markdown",
   "metadata": {},
   "source": [
    "# Fixed Point Iteration\n",
    "\n",
    "Copyright (C) 2020 Andreas Kloeckner\n",
    "\n",
    "<details>\n",
    "<summary>MIT License</summary>\n",
    "Permission is hereby granted, free of charge, to any person obtaining a copy\n",
    "of this software and associated documentation files (the \"Software\"), to deal\n",
    "in the Software without restriction, including without limitation the rights\n",
    "to use, copy, modify, merge, publish, distribute, sublicense, and/or sell\n",
    "copies of the Software, and to permit persons to whom the Software is\n",
    "furnished to do so, subject to the following conditions:\n",
    "\n",
    "The above copyright notice and this permission notice shall be included in\n",
    "all copies or substantial portions of the Software.\n",
    "\n",
    "THE SOFTWARE IS PROVIDED \"AS IS\", WITHOUT WARRANTY OF ANY KIND, EXPRESS OR\n",
    "IMPLIED, INCLUDING BUT NOT LIMITED TO THE WARRANTIES OF MERCHANTABILITY,\n",
    "FITNESS FOR A PARTICULAR PURPOSE AND NONINFRINGEMENT. IN NO EVENT SHALL THE\n",
    "AUTHORS OR COPYRIGHT HOLDERS BE LIABLE FOR ANY CLAIM, DAMAGES OR OTHER\n",
    "LIABILITY, WHETHER IN AN ACTION OF CONTRACT, TORT OR OTHERWISE, ARISING FROM,\n",
    "OUT OF OR IN CONNECTION WITH THE SOFTWARE OR THE USE OR OTHER DEALINGS IN\n",
    "THE SOFTWARE.\n",
    "</details>"
   ]
  },
  {
   "cell_type": "code",
   "execution_count": null,
   "metadata": {
    "jupyter": {
     "outputs_hidden": false
    }
   },
   "outputs": [],
   "source": [
    "import numpy as np\n",
    "import matplotlib.pyplot as pt"
   ]
  },
  {
   "cell_type": "markdown",
   "metadata": {},
   "source": [
    "**Task:** Find a root of the function below by fixed point iteration."
   ]
  },
  {
   "cell_type": "code",
   "execution_count": null,
   "metadata": {
    "jupyter": {
     "outputs_hidden": false
    }
   },
   "outputs": [],
   "source": [
    "x = np.linspace(0, 4.5, 200)\n",
    "\n",
    "def f(x):\n",
    "    return x**2 - x - 2\n",
    "\n",
    "pt.plot(x, f(x))\n",
    "pt.grid()"
   ]
  },
  {
   "cell_type": "markdown",
   "metadata": {},
   "source": [
    "Actual roots: $2$ and $-1$. Here: focusing on $x=2$."
   ]
  },
  {
   "cell_type": "markdown",
   "metadata": {},
   "source": [
    "We can choose a wide variety of functions that have a fixed point at the root $x=2$:\n",
    "\n",
    "(These are chosen knowing the root. But here we are only out to study the *behavior* of fixed point iteration, not the finding of fixed point functions--so that is OK.)"
   ]
  },
  {
   "cell_type": "code",
   "execution_count": null,
   "metadata": {
    "jupyter": {
     "outputs_hidden": false
    }
   },
   "outputs": [],
   "source": [
    "def fp1(x): return x**2-2\n",
    "def fp2(x): return np.sqrt(x+2)\n",
    "def fp3(x): return 1+2/x\n",
    "def fp4(x): return (x**2+2)/(2*x-1)\n",
    "\n",
    "fixed_point_functions = [fp1, fp2, fp3, fp4]"
   ]
  },
  {
   "cell_type": "code",
   "execution_count": null,
   "metadata": {
    "jupyter": {
     "outputs_hidden": false
    }
   },
   "outputs": [],
   "source": [
    "for fp in fixed_point_functions:\n",
    "    pt.plot(x, fp(x), label=fp.__name__)\n",
    "pt.ylim([0, 3])\n",
    "pt.legend(loc=\"best\")"
   ]
  },
  {
   "cell_type": "markdown",
   "metadata": {},
   "source": [
    "Common feature?"
   ]
  },
  {
   "cell_type": "code",
   "execution_count": null,
   "metadata": {
    "jupyter": {
     "outputs_hidden": false
    }
   },
   "outputs": [],
   "source": [
    "#clear\n",
    "for fp in fixed_point_functions:\n",
    "    print(fp(2))\n",
    "    \n",
    "# All functions have 2 as a fixed point."
   ]
  },
  {
   "cell_type": "code",
   "execution_count": null,
   "metadata": {
    "jupyter": {
     "outputs_hidden": false
    }
   },
   "outputs": [],
   "source": [
    "z = 2.1; fp = fp1\n",
    "z = 1; fp = fp2\n",
    "z = 1; fp = fp3\n",
    "z = 1; fp = fp4\n",
    "\n",
    "n_iterations = 4\n",
    "\n",
    "pt.figure(figsize=(8,8))\n",
    "pt.plot(x, fp(x), label=fp.__name__)\n",
    "pt.plot(x, x, \"--\", label=\"$y=x$\")\n",
    "pt.gca().set_aspect(\"equal\")\n",
    "pt.xlim([0, 4])\n",
    "pt.ylim([-0.5, 4])\n",
    "pt.legend(loc=\"best\")\n",
    "\n",
    "for i in range(n_iterations):\n",
    "    z_new = fp(z)\n",
    "    \n",
    "    pt.arrow(z, z, 0, z_new-z)\n",
    "    pt.arrow(z, z_new, z_new-z, 0)\n",
    "    \n",
    "    z = z_new\n",
    "    print(z)"
   ]
  },
  {
   "cell_type": "code",
   "execution_count": null,
   "metadata": {
    "jupyter": {
     "outputs_hidden": false
    }
   },
   "outputs": [],
   "source": []
  }
 ],
 "metadata": {
  "kernelspec": {
   "display_name": "Python 3 (ipykernel)",
   "language": "python",
   "name": "python3"
  },
  "language_info": {
   "codemirror_mode": {
    "name": "ipython",
    "version": 3
   },
   "file_extension": ".py",
   "mimetype": "text/x-python",
   "name": "python",
   "nbconvert_exporter": "python",
   "pygments_lexer": "ipython3",
   "version": "3.12.11"
  }
 },
 "nbformat": 4,
 "nbformat_minor": 4
}
