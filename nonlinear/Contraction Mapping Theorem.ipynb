{
 "cells": [
  {
   "cell_type": "code",
   "execution_count": null,
   "metadata": {},
   "outputs": [],
   "source": [
    "import numpy as np\n",
    "import matplotlib.pyplot as plt\n",
    "\n",
    "from matplotlib import pyplot as plt\n",
    "from matplotlib.patches import Rectangle"
   ]
  },
  {
   "cell_type": "markdown",
   "metadata": {},
   "source": [
    "Examples are taken from here: http://terpconnect.umd.edu/~petersd/666/fixedpoint.pdf"
   ]
  },
  {
   "cell_type": "markdown",
   "metadata": {},
   "source": [
    "# Test Case 1\n",
    "\n",
    "Let's start with a function\n",
    "$$\n",
    "\\begin{align}\n",
    "x_0 & = 0.1 * (1 - x_1 - np.sin(x_0 + x_1))\\\\\n",
    "x_1 & = 0.1 * (2 + x_0 + np.cos(x_0 - x_1))\n",
    "\\end{align}\n",
    "$$"
   ]
  },
  {
   "cell_type": "code",
   "execution_count": null,
   "metadata": {},
   "outputs": [],
   "source": [
    "def g(x):\n",
    "    xnew = np.zeros_like(x)\n",
    "    xnew[0] = 0.1 * (1 - x[1] - np.sin(x[0] + x[1]))\n",
    "    xnew[1] = 0.1 * (2 + x[0] + np.cos(x[0] - x[1]))\n",
    "    return xnew"
   ]
  },
  {
   "cell_type": "code",
   "execution_count": null,
   "metadata": {},
   "outputs": [],
   "source": [
    "x = np.zeros(2)\n",
    "\n",
    "for i in range(10):\n",
    "    x = g(x)\n",
    "    print(x)"
   ]
  },
  {
   "cell_type": "code",
   "execution_count": null,
   "metadata": {},
   "outputs": [],
   "source": [
    "x = np.zeros(2)\n",
    "q = 0.3\n",
    "\n",
    "for i in range(10):\n",
    "    xnew = g(x)\n",
    "    \n",
    "    dk = q / (1 - q) * np.linalg.norm(xnew - x, np.inf)\n",
    "    \n",
    "    x = xnew\n",
    "    print(x, dk)"
   ]
  },
  {
   "cell_type": "code",
   "execution_count": null,
   "metadata": {},
   "outputs": [],
   "source": [
    "x = np.zeros(2)\n",
    "q = 0.3\n",
    "\n",
    "plt.figure()\n",
    "plt.plot(x[0], x[1], 'ro')\n",
    "plt.axis([-1,1,-1,1])\n",
    "dks = []\n",
    "\n",
    "for i in range(10):\n",
    "    xnew = g(x)\n",
    "    \n",
    "    dk = q / (1 - q) * np.linalg.norm(xnew - x, np.inf)\n",
    "    dks.append(dk)\n",
    "    \n",
    "    x = xnew\n",
    "    print(x, dk)\n",
    "    \n",
    "    # plot\n",
    "    plt.plot(x[0], x[1], 'b.')\n",
    "    ax = plt.gca()\n",
    "    ax.add_patch(Rectangle((x[0]-dk, x[1]-dk), 2*dk, 2*dk, fill=None, alpha=1))"
   ]
  },
  {
   "cell_type": "code",
   "execution_count": null,
   "metadata": {},
   "outputs": [],
   "source": [
    "plt.semilogy(dks)"
   ]
  },
  {
   "cell_type": "markdown",
   "metadata": {},
   "source": [
    "# Test Case 2\n",
    "\n",
    "For this problem try\n",
    "$$\n",
    "\\begin{align}\n",
    "x_0 = (1/3) * (x_0 - x_0*x_1 + 1)\\\\\n",
    "x_1 = (1/3) * (x_1 + x_0*x_1**2 + 1)\n",
    "\\end{align}\n",
    "$$"
   ]
  },
  {
   "cell_type": "code",
   "execution_count": null,
   "metadata": {},
   "outputs": [],
   "source": [
    "def g(x):\n",
    "    xnew = np.zeros_like(x)\n",
    "    xnew[0] = (1/3) * (x[0] - x[0]*x[1] + 1)\n",
    "    xnew[1] = (1/3) * (x[1] + x[0]*x[1]**2 + 1)\n",
    "    return xnew"
   ]
  },
  {
   "cell_type": "code",
   "execution_count": null,
   "metadata": {},
   "outputs": [],
   "source": [
    "x = np.zeros(2)\n",
    "q = 19 / 27\n",
    "\n",
    "for i in range(10):\n",
    "    xnew = g(x)\n",
    "    \n",
    "    dk = q / (1 - q) * np.linalg.norm(xnew - x, np.inf)\n",
    "    \n",
    "    x = xnew\n",
    "    print(x, dk)"
   ]
  },
  {
   "cell_type": "code",
   "execution_count": null,
   "metadata": {},
   "outputs": [],
   "source": [
    "x = np.zeros(2)\n",
    "q = 19/27\n",
    "\n",
    "plt.figure()\n",
    "plt.plot(x[0], x[1], 'ro')\n",
    "plt.axis([-1,1,-1,1])\n",
    "plt.plot(x[0], x[1], 'b.')\n",
    "ax = plt.gca()\n",
    "ax.add_patch(Rectangle((-2/3,-2/3), 2*2/3, 2*2/3, fill=None, alpha=1,\n",
    "                       edgecolor='r', linestyle='--'))\n",
    "    \n",
    "for i in range(10):\n",
    "    xnew = g(x)\n",
    "    \n",
    "    dk = q / (1 - q) * np.linalg.norm(xnew - x, np.inf)\n",
    "    \n",
    "    x = xnew\n",
    "    print(x, dk)\n",
    "    \n",
    "    # plot\n",
    "    plt.plot(x[0], x[1], 'b.')\n",
    "    ax = plt.gca()\n",
    "    ax.add_patch(Rectangle((x[0]-dk, x[1]-dk), 2*dk, 2*dk, fill=None, alpha=1))"
   ]
  }
 ],
 "metadata": {
  "kernelspec": {
   "display_name": "Python 3 (ipykernel)",
   "language": "python",
   "name": "python3"
  },
  "language_info": {
   "codemirror_mode": {
    "name": "ipython",
    "version": 3
   },
   "file_extension": ".py",
   "mimetype": "text/x-python",
   "name": "python",
   "nbconvert_exporter": "python",
   "pygments_lexer": "ipython3",
   "version": "3.12.11"
  }
 },
 "nbformat": 4,
 "nbformat_minor": 4
}
