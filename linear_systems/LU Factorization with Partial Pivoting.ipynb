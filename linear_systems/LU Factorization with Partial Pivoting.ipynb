{
 "cells": [
  {
   "cell_type": "markdown",
   "id": "bc1d698a",
   "metadata": {},
   "source": [
    "# LU Factorization with Partial Pivoting\n",
    "\n",
    "Copyright (C) 2021 Andreas Kloeckner\n",
    "\n",
    "<details>\n",
    "<summary>MIT License</summary>\n",
    "Permission is hereby granted, free of charge, to any person obtaining a copy\n",
    "of this software and associated documentation files (the \"Software\"), to deal\n",
    "in the Software without restriction, including without limitation the rights\n",
    "to use, copy, modify, merge, publish, distribute, sublicense, and/or sell\n",
    "copies of the Software, and to permit persons to whom the Software is\n",
    "furnished to do so, subject to the following conditions:\n",
    "\n",
    "The above copyright notice and this permission notice shall be included in\n",
    "all copies or substantial portions of the Software.\n",
    "\n",
    "THE SOFTWARE IS PROVIDED \"AS IS\", WITHOUT WARRANTY OF ANY KIND, EXPRESS OR\n",
    "IMPLIED, INCLUDING BUT NOT LIMITED TO THE WARRANTIES OF MERCHANTABILITY,\n",
    "FITNESS FOR A PARTICULAR PURPOSE AND NONINFRINGEMENT. IN NO EVENT SHALL THE\n",
    "AUTHORS OR COPYRIGHT HOLDERS BE LIABLE FOR ANY CLAIM, DAMAGES OR OTHER\n",
    "LIABILITY, WHETHER IN AN ACTION OF CONTRACT, TORT OR OTHERWISE, ARISING FROM,\n",
    "OUT OF OR IN CONNECTION WITH THE SOFTWARE OR THE USE OR OTHER DEALINGS IN\n",
    "THE SOFTWARE.\n",
    "</details>"
   ]
  },
  {
   "cell_type": "code",
   "execution_count": 70,
   "id": "e3870ac7",
   "metadata": {},
   "outputs": [],
   "source": [
    "import numpy as np\n",
    "import numpy.linalg as la   \n",
    "np.set_printoptions(linewidth=150, suppress=True, precision=3)"
   ]
  },
  {
   "cell_type": "code",
   "execution_count": null,
   "id": "b6d88824",
   "metadata": {},
   "outputs": [
    {
     "data": {
      "text/plain": [
       "array([[ 2,  4, -2],\n",
       "       [ 4,  9, -3],\n",
       "       [-2, -3,  7]])"
      ]
     },
     "execution_count": 71,
     "metadata": {},
     "output_type": "execute_result"
    }
   ],
   "source": [
    "n = 5\n",
    "\n",
    "A = np.array([[2, 4, -2], [4, 9, -3], [-2, -3, 7]])\n",
    "# A[0,0] = 0\n",
    "A"
   ]
  },
  {
   "cell_type": "markdown",
   "id": "ab8f98af",
   "metadata": {},
   "source": [
    "## Permutation Matrices\n",
    "This function returns a matrix that swaps rows `i` and `j`:"
   ]
  },
  {
   "cell_type": "code",
   "execution_count": 72,
   "id": "038264c2",
   "metadata": {},
   "outputs": [],
   "source": [
    "def row_swap_mat(i, j):\n",
    "    P = np.eye(3)\n",
    "    P[i] = 0\n",
    "    P[j] = 0\n",
    "    P[i, j] = 1\n",
    "    P[j, i] = 1\n",
    "    return P"
   ]
  },
  {
   "cell_type": "markdown",
   "id": "b572140f",
   "metadata": {},
   "source": [
    "## Pivoted LU: Initialization\n",
    "\n",
    "We're trying to obtain $PA=LU$. Initialize:"
   ]
  },
  {
   "cell_type": "code",
   "execution_count": 73,
   "id": "700c46d5",
   "metadata": {},
   "outputs": [
    {
     "data": {
      "text/plain": [
       "array([[ 2,  4, -2],\n",
       "       [ 4,  9, -3],\n",
       "       [-2, -3,  7]])"
      ]
     },
     "execution_count": 73,
     "metadata": {},
     "output_type": "execute_result"
    }
   ],
   "source": [
    "i = 0\n",
    "I = np.eye(3)\n",
    "P = I.copy()\n",
    "Lsub = np.zeros_like(A)\n",
    "U = np.zeros_like(A)\n",
    "remaining = A.copy()\n",
    "remaining"
   ]
  },
  {
   "cell_type": "markdown",
   "id": "43fe5db1",
   "metadata": {},
   "source": [
    "## First column\n",
    "\n",
    "First, find the pivot as `ipiv`:"
   ]
  },
  {
   "cell_type": "code",
   "execution_count": 74,
   "id": "bdd681ad",
   "metadata": {},
   "outputs": [
    {
     "data": {
      "text/plain": [
       "1"
      ]
     },
     "execution_count": 74,
     "metadata": {},
     "output_type": "execute_result"
    }
   ],
   "source": [
    "#clear\n",
    "ipiv = i + np.argmax(np.abs(remaining[i:, i]))\n",
    "ipiv"
   ]
  },
  {
   "cell_type": "markdown",
   "id": "3264b602",
   "metadata": {},
   "source": [
    "Swap the rows in `remaining`, record in `P`:"
   ]
  },
  {
   "cell_type": "code",
   "execution_count": 75,
   "id": "e3392a5d",
   "metadata": {},
   "outputs": [
    {
     "name": "stdout",
     "output_type": "stream",
     "text": [
      "[[0. 1. 0.]\n",
      " [1. 0. 0.]\n",
      " [0. 0. 1.]]\n",
      "[[0. 1. 0.]\n",
      " [1. 0. 0.]\n",
      " [0. 0. 1.]]\n"
     ]
    },
    {
     "data": {
      "text/plain": [
       "array([[ 4.,  9., -3.],\n",
       "       [ 2.,  4., -2.],\n",
       "       [-2., -3.,  7.]])"
      ]
     },
     "execution_count": 75,
     "metadata": {},
     "output_type": "execute_result"
    }
   ],
   "source": [
    "#clear\n",
    "swap_mat = row_swap_mat(i, ipiv)\n",
    "print(swap_mat)\n",
    "P = swap_mat @ P\n",
    "print(P)\n",
    "remaining = swap_mat @ remaining\n",
    "remaining"
   ]
  },
  {
   "cell_type": "code",
   "execution_count": null,
   "id": "83fb1a88",
   "metadata": {},
   "outputs": [],
   "source": []
  },
  {
   "cell_type": "markdown",
   "id": "df47c716",
   "metadata": {},
   "source": [
    "Now carry out a step of LU, as above:"
   ]
  },
  {
   "cell_type": "code",
   "execution_count": 77,
   "id": "9f304b89",
   "metadata": {},
   "outputs": [
    {
     "name": "stdout",
     "output_type": "stream",
     "text": [
      "[[0 0]\n",
      " [0 0]]\n",
      "[[ 4.  9. -3.]\n",
      " [ 2.  4. -2.]\n",
      " [-2. -3.  7.]]\n"
     ]
    }
   ],
   "source": [
    "\n",
    "U[i, i:] = remaining[i, i:]\n",
    "Lsub[i+1:,i] = remaining[i+1:,i]/ U[i,i]\n",
    "remaining[i+1:, i+1:] -= np.outer(Lsub[i+1:,i], U[i, i+1:])\n",
    "val = np.outer(Lsub[i+1:,i], U[i, i+1:])\n",
    "print(val)\n",
    "print(remaining)\n",
    "# print(P@A-(Lsub+I)@U)"
   ]
  },
  {
   "cell_type": "markdown",
   "id": "0f48f3a8",
   "metadata": {},
   "source": [
    "## Subsequent columns\n",
    "\n",
    "Find the pivot and perform the swaps so that you still have a valid $PA=LU$ factorization:"
   ]
  },
  {
   "cell_type": "code",
   "execution_count": 34,
   "id": "1085cf23",
   "metadata": {},
   "outputs": [
    {
     "name": "stdout",
     "output_type": "stream",
     "text": [
      "1\n"
     ]
    }
   ],
   "source": [
    "#clear\n",
    "ipiv = i + np.argmax(np.abs(remaining[i:, i]))\n",
    "swap_mat = row_swap_mat(i, ipiv)\n",
    "\n",
    "P = swap_mat @ P\n",
    "Lsub = swap_mat @ Lsub\n",
    "\n",
    "# We need to similarly swap the rows in the L_sub here.\n",
    "\n",
    "remaining = swap_mat @ remaining\n",
    "\n",
    "print(ipiv)"
   ]
  },
  {
   "cell_type": "markdown",
   "id": "3e4f943d",
   "metadata": {},
   "source": [
    "Here are some checks to make sure you're on the right track:"
   ]
  },
  {
   "cell_type": "code",
   "execution_count": 35,
   "id": "e1a29b4d",
   "metadata": {},
   "outputs": [
    {
     "name": "stdout",
     "output_type": "stream",
     "text": [
      "Should maintain the same 'zero fringe' as the previous step:\n",
      "[[ 0.  0.  0.]\n",
      " [ 2.  4. -2.]\n",
      " [-2. -3.  7.]]\n",
      "Should be zero:\n",
      "[[0. 0.]\n",
      " [0. 0.]]\n"
     ]
    }
   ],
   "source": [
    "print(\"Should maintain the same 'zero fringe' as the previous step:\")\n",
    "print(P @ A - (Lsub+I) @ U)\n",
    "\n",
    "print(\"Should be zero:\")\n",
    "print(remaining[i:, i:] - (P @ A - (Lsub+I) @ U)[i:, i:])"
   ]
  },
  {
   "cell_type": "markdown",
   "id": "a3740eb8",
   "metadata": {},
   "source": [
    "Carry out a step of LU, as always:"
   ]
  },
  {
   "cell_type": "code",
   "execution_count": null,
   "id": "b82d2655",
   "metadata": {},
   "outputs": [
    {
     "name": "stdout",
     "output_type": "stream",
     "text": [
      "[[ 3.  9. -3.]\n",
      " [ 2.  3. -2.]\n",
      " [-2. -3.  6.]]\n",
      "[[ 0.  0.  0.]\n",
      " [ 2.  4. -2.]\n",
      " [-2. -3.  7.]]\n"
     ]
    }
   ],
   "source": [
    "# U[i, i:] = remaining[i, i:]\n",
    "# Lsub[i+1:,i] = remaining[i+1:,i]/U[i,i]\n",
    "# remaining[i+1:, i+1:] -= np.outer(Lsub[i+1:,i], U[i, i+1:])\n",
    "val = np.outer(Lsub[i+1:,i], U[i, i+1:])\n",
    "print(val)\n",
    "# i = i + 1\n",
    "# remaining = remaining - np.array([[1, 0, 0], [0, 1, 0], [0, 0, 1]])\n",
    "print(remaining)\n",
    "print(P@A-(Lsub+I)@U)"
   ]
  },
  {
   "cell_type": "markdown",
   "id": "b46b2fec",
   "metadata": {},
   "source": [
    "## Inspect the result"
   ]
  },
  {
   "cell_type": "code",
   "execution_count": 39,
   "id": "a2e7f787",
   "metadata": {},
   "outputs": [
    {
     "data": {
      "text/plain": [
       "array([[0., 0., 0., 1., 0.],\n",
       "       [0., 0., 1., 0., 0.],\n",
       "       [0., 1., 0., 0., 0.],\n",
       "       [1., 0., 0., 0., 0.],\n",
       "       [0., 0., 0., 0., 1.]])"
      ]
     },
     "execution_count": 39,
     "metadata": {},
     "output_type": "execute_result"
    }
   ],
   "source": [
    "P"
   ]
  },
  {
   "cell_type": "code",
   "execution_count": 40,
   "id": "c80c48c2",
   "metadata": {},
   "outputs": [
    {
     "data": {
      "text/plain": [
       "array([[ 1.   ,  0.   ,  0.   ,  0.   ,  0.   ],\n",
       "       [-0.571,  1.   ,  0.   ,  0.   ,  0.   ],\n",
       "       [ 0.856,  0.515,  1.   ,  0.   ,  0.   ],\n",
       "       [ 0.   , -0.508,  0.   ,  1.   ,  0.   ],\n",
       "       [ 0.021,  0.627,  0.   ,  0.   ,  1.   ]])"
      ]
     },
     "execution_count": 40,
     "metadata": {},
     "output_type": "execute_result"
    }
   ],
   "source": [
    "I+Lsub"
   ]
  },
  {
   "cell_type": "code",
   "execution_count": null,
   "id": "83124465",
   "metadata": {},
   "outputs": [],
   "source": [
    "U"
   ]
  },
  {
   "cell_type": "markdown",
   "id": "3170908d",
   "metadata": {},
   "source": [
    "## Questions\n",
    "\n",
    "Why do we switch to maintaining `Lsub` instead of all of `L`?\n",
    "\n",
    "<details>\n",
    "Realize that <code>P</code> is a permutation of the \"trailing\" rows. Applying to <code>Lsub</code> avoids disturbing the diagonal.\n",
    "</details>\n",
    "\n",
    "---\n",
    "\n",
    "Why is it mathematically correct to only apply the permutations to `Lsub` and not all of `L`?\n",
    "\n",
    "<details>\n",
    "Realize that <code>P</code> is a permutation of the \"trailing\" rows. If we applied to <code>Lsub + I</code> instead, then the pivots would need to go into the row to which the 1 from the diagonal was permuted. Instead, it goes into <code>U[i,i]</code>, and leaving the diagonal of <code>L</code> undisturbed reflects that.\n",
    "</details>"
   ]
  },
  {
   "cell_type": "code",
   "execution_count": 81,
   "id": "fb14cb4f",
   "metadata": {},
   "outputs": [
    {
     "name": "stdout",
     "output_type": "stream",
     "text": [
      "\n",
      "--- Iteration 0 ---\n",
      "Pivot: 1\n",
      "Remaining after swap:\n",
      " [[ 4.  9. -3.]\n",
      " [ 2.  4. -2.]\n",
      " [-2. -3.  7.]]\n",
      "Outer product:\n",
      " [[ 4.5 -1.5]\n",
      " [-4.5  1.5]]\n",
      "Remaining after update:\n",
      " [[ 4.   9.  -3. ]\n",
      " [ 2.  -0.5 -0.5]\n",
      " [-2.   1.5  5.5]]\n",
      "\n",
      "--- Iteration 1 ---\n",
      "Pivot: 2\n",
      "Remaining after swap:\n",
      " [[ 4.   9.  -3. ]\n",
      " [-2.   1.5  5.5]\n",
      " [ 2.  -0.5 -0.5]]\n",
      "Outer product:\n",
      " [[-1.833]]\n",
      "Remaining after update:\n",
      " [[ 4.     9.    -3.   ]\n",
      " [-2.     1.5    5.5  ]\n",
      " [ 2.    -0.5    1.333]]\n",
      "\n",
      "--- Iteration 2 ---\n",
      "Pivot: 2\n",
      "Remaining after swap:\n",
      " [[ 4.     9.    -3.   ]\n",
      " [-2.     1.5    5.5  ]\n",
      " [ 2.    -0.5    1.333]]\n",
      "Outer product:\n",
      " []\n",
      "Remaining after update:\n",
      " [[ 4.     9.    -3.   ]\n",
      " [-2.     1.5    5.5  ]\n",
      " [ 2.    -0.5    1.333]]\n",
      "\n",
      "Final matrices:\n",
      "P =\n",
      " [[0. 1. 0.]\n",
      " [0. 0. 1.]\n",
      " [1. 0. 0.]]\n",
      "L =\n",
      " [[ 1.     0.     0.   ]\n",
      " [-0.5    1.     0.   ]\n",
      " [ 0.5   -0.333  1.   ]]\n",
      "U =\n",
      " [[ 4.     9.    -3.   ]\n",
      " [ 0.     1.5    5.5  ]\n",
      " [ 0.     0.     1.333]]\n",
      "\n",
      "Check: P@A =\n",
      " [[ 4.  9. -3.]\n",
      " [-2. -3.  7.]\n",
      " [ 2.  4. -2.]]\n",
      "L@U =\n",
      " [[ 4.  9. -3.]\n",
      " [-2. -3.  7.]\n",
      " [ 2.  4. -2.]]\n"
     ]
    }
   ],
   "source": [
    "import numpy as np\n",
    "np.set_printoptions(linewidth=150, suppress=True, precision=3)\n",
    "\n",
    "A = np.array([[2., 4., -2.],\n",
    "              [4., 9., -3.],\n",
    "              [-2., -3., 7.]])\n",
    "\n",
    "n = A.shape[0]\n",
    "remaining = A.copy()\n",
    "U = np.zeros_like(A)\n",
    "Lsub = np.eye(n)\n",
    "P = np.eye(n)\n",
    "\n",
    "def row_swap_mat(i, j, n=3):\n",
    "    P = np.eye(n)\n",
    "    if i != j:\n",
    "        P[[i, j]] = P[[j, i]]\n",
    "    return P\n",
    "\n",
    "for i in range(n):\n",
    "    ipiv = i + np.argmax(np.abs(remaining[i:, i]))\n",
    "    swap_mat = row_swap_mat(i, ipiv, n)\n",
    "    remaining = swap_mat @ remaining\n",
    "    P = swap_mat @ P\n",
    "    \n",
    "    # Only swap L's *previous columns* (not full matrix!)\n",
    "    if i > 0:\n",
    "        Lsub[[i, ipiv], :i] = Lsub[[ipiv, i], :i]\n",
    "    \n",
    "    print(f\"\\n--- Iteration {i} ---\")\n",
    "    print(\"Pivot:\", ipiv)\n",
    "    print(\"Remaining after swap:\\n\", remaining)\n",
    "    \n",
    "    U[i, i:] = remaining[i, i:]\n",
    "    Lsub[i+1:, i] = remaining[i+1:, i] / U[i, i]\n",
    "    \n",
    "    outer = np.outer(Lsub[i+1:, i], U[i, i+1:])\n",
    "    print(\"Outer product:\\n\", outer)\n",
    "    \n",
    "    remaining[i+1:, i+1:] -= outer\n",
    "    print(\"Remaining after update:\\n\", remaining)\n",
    "\n",
    "print(\"\\nFinal matrices:\")\n",
    "print(\"P =\\n\", P)\n",
    "print(\"L =\\n\", Lsub)\n",
    "print(\"U =\\n\", U)\n",
    "print(\"\\nCheck: P@A =\\n\", P@A)\n",
    "print(\"L@U =\\n\", Lsub@U)\n"
   ]
  },
  {
   "cell_type": "code",
   "execution_count": null,
   "id": "8c75bf24",
   "metadata": {},
   "outputs": [],
   "source": [
    "for i in range(n):\n",
    "    ipiv = i + np.argmax(np.abs(remaining[i:, i]))\n",
    "    swap_mat = row_swap_mat(i, ipiv, n)\n",
    "    remaining = swap_mat @ remaining\n",
    "    P = swap_mat @ P\n",
    "    \n",
    "    # Only swap L's *previous columns* (not full matrix!)\n",
    "    if i > 0:\n",
    "        Lsub[[i, ipiv], :i] = Lsub[[ipiv, i], :i]\n",
    "    \n",
    "    print(f\"\\n--- Iteration {i} ---\")\n",
    "    print(\"Pivot:\", ipiv)\n",
    "    print(\"Remaining after swap:\\n\", remaining)\n",
    "    \n",
    "    U[i, i:] = remaining[i, i:]\n",
    "    Lsub[i+1:, i] = remaining[i+1:, i] / U[i, i]\n",
    "    \n",
    "    outer = np.outer(Lsub[i+1:, i], U[i, i+1:])\n",
    "    print(\"Outer product:\\n\", outer)\n",
    "    \n",
    "    remaining[i+1:, i+1:] -= outer\n",
    "    print(\"Remaining after update:\\n\", remaining)\n"
   ]
  }
 ],
 "metadata": {
  "kernelspec": {
   "display_name": "Python 3",
   "language": "python",
   "name": "python3"
  },
  "language_info": {
   "codemirror_mode": {
    "name": "ipython",
    "version": 3
   },
   "file_extension": ".py",
   "mimetype": "text/x-python",
   "name": "python",
   "nbconvert_exporter": "python",
   "pygments_lexer": "ipython3",
   "version": "3.11.5"
  }
 },
 "nbformat": 4,
 "nbformat_minor": 5
}
