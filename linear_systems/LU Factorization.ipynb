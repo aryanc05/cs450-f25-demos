{
 "cells": [
  {
   "cell_type": "markdown",
   "id": "ec255016",
   "metadata": {},
   "source": [
    "# LU Factorization\n",
    "\n",
    "Copyright (C) 2021 Andreas Kloeckner\n",
    "\n",
    "In part based on material by Edgar Solomonik\n",
    "\n",
    "<details>\n",
    "<summary>MIT License</summary>\n",
    "Permission is hereby granted, free of charge, to any person obtaining a copy\n",
    "of this software and associated documentation files (the \"Software\"), to deal\n",
    "in the Software without restriction, including without limitation the rights\n",
    "to use, copy, modify, merge, publish, distribute, sublicense, and/or sell\n",
    "copies of the Software, and to permit persons to whom the Software is\n",
    "furnished to do so, subject to the following conditions:\n",
    "\n",
    "The above copyright notice and this permission notice shall be included in\n",
    "all copies or substantial portions of the Software.\n",
    "\n",
    "THE SOFTWARE IS PROVIDED \"AS IS\", WITHOUT WARRANTY OF ANY KIND, EXPRESS OR\n",
    "IMPLIED, INCLUDING BUT NOT LIMITED TO THE WARRANTIES OF MERCHANTABILITY,\n",
    "FITNESS FOR A PARTICULAR PURPOSE AND NONINFRINGEMENT. IN NO EVENT SHALL THE\n",
    "AUTHORS OR COPYRIGHT HOLDERS BE LIABLE FOR ANY CLAIM, DAMAGES OR OTHER\n",
    "LIABILITY, WHETHER IN AN ACTION OF CONTRACT, TORT OR OTHERWISE, ARISING FROM,\n",
    "OUT OF OR IN CONNECTION WITH THE SOFTWARE OR THE USE OR OTHER DEALINGS IN\n",
    "THE SOFTWARE.\n",
    "</details>"
   ]
  },
  {
   "cell_type": "code",
   "execution_count": 6,
   "id": "5f6fb009",
   "metadata": {},
   "outputs": [],
   "source": [
    "import numpy as np\n",
    "import numpy.linalg as la\n",
    "\n",
    "np.set_printoptions(linewidth=150, suppress=True, precision=3)"
   ]
  },
  {
   "cell_type": "code",
   "execution_count": 3,
   "id": "789c5d4a",
   "metadata": {},
   "outputs": [
    {
     "data": {
      "text/plain": [
       "array([[-1.166, -1.874,  0.013,  1.471],\n",
       "       [-2.169, -0.382, -0.049, -0.417],\n",
       "       [ 1.131,  0.16 ,  0.869, -0.12 ],\n",
       "       [ 0.421,  0.988,  1.125,  0.246]])"
      ]
     },
     "execution_count": 3,
     "metadata": {},
     "output_type": "execute_result"
    }
   ],
   "source": [
    "A = np.random.randn(4, 4)\n",
    "A"
   ]
  },
  {
   "cell_type": "markdown",
   "id": "f7a37299",
   "metadata": {},
   "source": [
    "Initialize `L` and `U`:"
   ]
  },
  {
   "cell_type": "code",
   "execution_count": 4,
   "id": "2ce800be",
   "metadata": {},
   "outputs": [
    {
     "name": "stdout",
     "output_type": "stream",
     "text": [
      "[[1. 0. 0. 0.]\n",
      " [0. 1. 0. 0.]\n",
      " [0. 0. 1. 0.]\n",
      " [0. 0. 0. 1.]] [[0. 0. 0. 0.]\n",
      " [0. 0. 0. 0.]\n",
      " [0. 0. 0. 0.]\n",
      " [0. 0. 0. 0.]]\n"
     ]
    }
   ],
   "source": [
    "L = np.eye(len(A))\n",
    "U = np.zeros_like(A)\n",
    "print(L, U)"
   ]
  },
  {
   "cell_type": "markdown",
   "id": "865be159",
   "metadata": {},
   "source": [
    "Recall the \"recipe\" for LU factorization:\n",
    "\n",
    "$$\\let\\B=\\boldsymbol \\begin{array}{cc}\n",
    "     & \\left[\\begin{array}{cc}\n",
    "       u_{00} & \\B{u}_{01}^T\\\\\n",
    "       & U_{11}\n",
    "     \\end{array}\\right]\\\\\n",
    "     \\left[\\begin{array}{cc}\n",
    "       1 & \\\\\n",
    "       \\B{l}_{10} & L_{11}\n",
    "     \\end{array}\\right] & \\left[\\begin{array}{cc}\n",
    "       a_{00} & \\B{a}_{01}\\\\\n",
    "       \\B{a}_{10} & A_{11}\n",
    "     \\end{array}\\right]\n",
    "   \\end{array}$$\n",
    "\n",
    "Find $u_{00}$ and $u_{01}$. Check `A - L@U`."
   ]
  },
  {
   "cell_type": "code",
   "execution_count": 26,
   "id": "60443f8f",
   "metadata": {},
   "outputs": [],
   "source": [
    "#clear\n",
    "\n",
    "U[0] = A[0]\n",
    "\n"
   ]
  },
  {
   "cell_type": "markdown",
   "id": "2d57cf4d",
   "metadata": {},
   "source": [
    "Find $l_{10}$. Check `A - L@U`."
   ]
  },
  {
   "cell_type": "code",
   "execution_count": 30,
   "id": "6ac21875",
   "metadata": {},
   "outputs": [
    {
     "data": {
      "text/plain": [
       "array([[ 0.   ,  0.   ,  0.   ,  0.   ],\n",
       "       [ 0.503, -1.607, -1.191, -1.309],\n",
       "       [-1.077,  1.016,  0.201, -0.067],\n",
       "       [-0.96 , -0.535, -1.002, -0.158]])"
      ]
     },
     "execution_count": 30,
     "metadata": {},
     "output_type": "execute_result"
    }
   ],
   "source": [
    "#clear\n",
    "\n",
    "L[1:,0] = A[1:,0]/U[0,0]\n",
    "A - L@U\n"
   ]
  },
  {
   "cell_type": "markdown",
   "id": "1bc60f49",
   "metadata": {},
   "source": [
    "Recall $A_{22} =\\B{l}_{21} \\B{u}_{12}^T + L_{22} U_{22}$. Write the next step generic in terms of `i`.\n",
    "\n",
    "After the step, print `A-L@U` and `remaining`."
   ]
  },
  {
   "cell_type": "code",
   "execution_count": 55,
   "id": "c39ee393-9eee-4e0f-92bd-d6b251e17678",
   "metadata": {},
   "outputs": [
    {
     "name": "stdout",
     "output_type": "stream",
     "text": [
      "[[ 1.     0.     0.     0.   ]\n",
      " [ 0.209  1.     0.     0.   ]\n",
      " [ 1.261  0.926  1.     0.   ]\n",
      " [ 1.181 -1.135 -1.477  1.   ]]\n",
      "[[ 1.037  0.433  0.119  0.564]\n",
      " [ 0.     0.779  0.185 -1.812]\n",
      " [ 0.     0.    -0.95   0.237]\n",
      " [ 0.     0.     0.    -2.625]]\n",
      "[[0. 0. 0. 0.]\n",
      " [0. 0. 0. 0.]\n",
      " [0. 0. 0. 0.]\n",
      " [0. 0. 0. 0.]]\n",
      "[0. 0.]\n"
     ]
    }
   ],
   "source": [
    "print(L)\n",
    "print(U)\n",
    "print(A-L@U)\n",
    "print((A-L@U)[1+1:,1])"
   ]
  },
  {
   "cell_type": "code",
   "execution_count": 32,
   "id": "4b2644d9",
   "metadata": {},
   "outputs": [
    {
     "name": "stdout",
     "output_type": "stream",
     "text": [
      "[[ 0.     0.     0.     0.   ]\n",
      " [ 0.503 -1.607 -1.191 -1.309]\n",
      " [-1.077  1.016  0.201 -0.067]\n",
      " [-0.96  -0.535 -1.002 -0.158]]\n"
     ]
    }
   ],
   "source": [
    "i = 3\n",
    "remaining = A - L@U\n",
    "print(remaining)"
   ]
  },
  {
   "cell_type": "code",
   "execution_count": 58,
   "id": "a38913da",
   "metadata": {},
   "outputs": [
    {
     "ename": "IndexError",
     "evalue": "index 4 is out of bounds for axis 0 with size 4",
     "output_type": "error",
     "traceback": [
      "\u001b[31m---------------------------------------------------------------------------\u001b[39m",
      "\u001b[31mIndexError\u001b[39m                                Traceback (most recent call last)",
      "\u001b[36mCell\u001b[39m\u001b[36m \u001b[39m\u001b[32mIn[58]\u001b[39m\u001b[32m, line 2\u001b[39m\n\u001b[32m      1\u001b[39m \u001b[38;5;66;03m#clear\u001b[39;00m\n\u001b[32m----> \u001b[39m\u001b[32m2\u001b[39m U[i, i:] = \u001b[43mremaining\u001b[49m\u001b[43m[\u001b[49m\u001b[43mi\u001b[49m\u001b[43m,\u001b[49m\u001b[43m \u001b[49m\u001b[43mi\u001b[49m\u001b[43m:\u001b[49m\u001b[43m]\u001b[49m\n\u001b[32m      3\u001b[39m L[i+\u001b[32m1\u001b[39m:,i] = remaining[i+\u001b[32m1\u001b[39m:,i]/U[i,i]\n\u001b[32m      4\u001b[39m remaining[i+\u001b[32m1\u001b[39m:, i+\u001b[32m1\u001b[39m:] -= np.outer(L[i+\u001b[32m1\u001b[39m:,i], U[i, i+\u001b[32m1\u001b[39m:])\n",
      "\u001b[31mIndexError\u001b[39m: index 4 is out of bounds for axis 0 with size 4"
     ]
    }
   ],
   "source": [
    "#clear\n",
    "U[i, i:] = remaining[i, i:]\n",
    "L[i+1:,i] = remaining[i+1:,i]/U[i,i]\n",
    "remaining[i+1:, i+1:] -= np.outer(L[i+1:,i], U[i, i+1:])\n",
    "\n",
    "i = i + 1\n",
    "\n",
    "print(remaining)\n",
    "print(A-L@U)"
   ]
  },
  {
   "cell_type": "code",
   "execution_count": 59,
   "id": "9222ec6b",
   "metadata": {},
   "outputs": [
    {
     "data": {
      "text/plain": [
       "array([[ 1.   ,  0.   ,  0.   ,  0.   ],\n",
       "       [ 0.209,  1.   ,  0.   ,  0.   ],\n",
       "       [ 1.261,  0.926,  1.   ,  0.   ],\n",
       "       [ 1.181, -1.135, -1.477,  1.   ]])"
      ]
     },
     "execution_count": 59,
     "metadata": {},
     "output_type": "execute_result"
    }
   ],
   "source": [
    "L"
   ]
  },
  {
   "cell_type": "code",
   "execution_count": 11,
   "id": "cc4a4d18-fa56-4a93-aac4-baf08c109aca",
   "metadata": {},
   "outputs": [
    {
     "data": {
      "text/plain": [
       "array([[0.964, 1.823, 0.136, 1.129],\n",
       "       [0.   , 0.   , 0.   , 0.   ],\n",
       "       [0.   , 0.   , 0.   , 0.   ],\n",
       "       [0.   , 0.   , 0.   , 0.187]])"
      ]
     },
     "execution_count": 11,
     "metadata": {},
     "output_type": "execute_result"
    }
   ],
   "source": [
    "U"
   ]
  },
  {
   "cell_type": "code",
   "execution_count": 12,
   "id": "4bbd5898-2cd8-49a1-9cc7-f4a277960fed",
   "metadata": {},
   "outputs": [
    {
     "data": {
      "text/plain": [
       "array([[ 0.964,  1.823,  0.136,  1.129],\n",
       "       [-0.612, -1.157, -0.086, -0.716],\n",
       "       [ 0.19 ,  0.359,  0.027,  0.222],\n",
       "       [ 0.167,  0.316,  0.024,  0.382]])"
      ]
     },
     "execution_count": 12,
     "metadata": {},
     "output_type": "execute_result"
    }
   ],
   "source": [
    "L @ U"
   ]
  },
  {
   "cell_type": "code",
   "execution_count": 13,
   "id": "d30621ec-085f-42bc-a7e2-182fb1ca2357",
   "metadata": {},
   "outputs": [
    {
     "data": {
      "text/plain": [
       "array([[ 0.   ,  1.823,  0.136,  1.129],\n",
       "       [-0.612, -1.994, -0.855,  2.135],\n",
       "       [ 0.19 ,  0.162,  0.642,  0.459],\n",
       "       [ 0.167,  0.26 , -1.592,  0.196]])"
      ]
     },
     "execution_count": 13,
     "metadata": {},
     "output_type": "execute_result"
    }
   ],
   "source": [
    "A - L*U"
   ]
  },
  {
   "cell_type": "code",
   "execution_count": 14,
   "id": "83dc8d5b-3077-42cd-8ea2-14b6ce456034",
   "metadata": {},
   "outputs": [
    {
     "name": "stdout",
     "output_type": "stream",
     "text": [
      "[[ 7 10]\n",
      " [15 22]]\n",
      "[[ 1  4]\n",
      " [ 9 16]]\n"
     ]
    }
   ],
   "source": [
    "A = np.array([[1,2],[3,4]])\n",
    "B = np.array([[1,2],[3,4]])\n",
    "print(A@B)\n",
    "print(A*B)"
   ]
  },
  {
   "cell_type": "code",
   "execution_count": null,
   "id": "8f40a509-3c09-4a4e-9ecc-4fadf3fd7696",
   "metadata": {},
   "outputs": [],
   "source": []
  },
  {
   "cell_type": "code",
   "execution_count": null,
   "id": "bd109f0c",
   "metadata": {},
   "outputs": [],
   "source": []
  },
  {
   "cell_type": "code",
   "execution_count": 21,
   "id": "638a4a82",
   "metadata": {},
   "outputs": [],
   "source": [
    "import numpy as np\n",
    "\n",
    "def lu_decomp(A):\n",
    "    n = A.shape[0]\n",
    "    if n == 1:\n",
    "        L = np.array([[1.0]])\n",
    "        U = A.copy()\n",
    "        return L, U\n",
    "\n",
    "    A11 = A[0, 0]\n",
    "    A12 = A[0, 1:]\n",
    "    A21 = A[1:, 0]\n",
    "    A22 = A[1:, 1:]\n",
    "\n",
    "    # Make them 2D blocks\n",
    "    L11 = np.array([[1.0]])\n",
    "    U11 = np.array([[A11]])\n",
    "    L12 = np.zeros((1, n-1))\n",
    "    U12 = A12.reshape(1, -1)\n",
    "    L21 = A21.reshape(-1, 1) / A11\n",
    "    U21 = np.zeros((n-1, 1))\n",
    "\n",
    "    # Schur complement\n",
    "    S22 = A22 - np.outer(L21, U12)\n",
    "    L22, U22 = lu_decomp(S22)\n",
    "\n",
    "    # Assemble blocks\n",
    "    L = np.block([[L11, L12], [L21, L22]])\n",
    "    U = np.block([[U11, U12], [U21, U22]])\n",
    "\n",
    "    return L, U\n"
   ]
  },
  {
   "cell_type": "code",
   "execution_count": null,
   "id": "0b2bcd3c",
   "metadata": {
    "vscode": {
     "languageId": "markdown"
    }
   },
   "outputs": [],
   "source": [
    "A\n",
    "# A - L*U\n",
    "# The * operator does element-wise multiplication, not matrix multiplication.\n",
    "# For matrix multiplication, use the @ operator: A - L @ U\n",
    "\n",
    "A - L @ U"
   ]
  },
  {
   "cell_type": "code",
   "execution_count": 22,
   "id": "20530f80",
   "metadata": {},
   "outputs": [
    {
     "data": {
      "text/plain": [
       "(array([[1. , 0. , 0. ],\n",
       "        [2. , 1. , 0. ],\n",
       "        [3. , 1.5, 1. ]]),\n",
       " array([[1., 0., 0.],\n",
       "        [0., 2., 2.],\n",
       "        [0., 0., 0.]]))"
      ]
     },
     "execution_count": 22,
     "metadata": {},
     "output_type": "execute_result"
    }
   ],
   "source": [
    "lu_decomp(np.array([[1, 0, 0], [2, 2, 2], [3, 3, 3]]))"
   ]
  },
  {
   "cell_type": "code",
   "execution_count": null,
   "id": "132546d6",
   "metadata": {},
   "outputs": [
    {
     "name": "stdout",
     "output_type": "stream",
     "text": [
      "L=\n",
      " [[ 1.     0.     0.     0.   ]\n",
      " [ 0.209  1.     0.     0.   ]\n",
      " [ 1.261  0.926  1.     0.   ]\n",
      " [ 1.181 -1.135 -1.477  1.   ]]\n",
      "U=\n",
      " [[ 1.037  0.433  0.119  0.564]\n",
      " [ 0.     0.779  0.185 -1.812]\n",
      " [ 0.     0.    -0.95   0.237]\n",
      " [ 0.     0.     0.    -2.625]]\n",
      "Check L @ U:\n",
      " [[ 1.037  0.433  0.119  0.564]\n",
      " [ 0.216  0.869  0.209 -1.695]\n",
      " [ 1.308  1.268 -0.629 -0.73 ]\n",
      " [ 1.224 -0.373  1.333 -0.25 ]]\n",
      "Original A:\n",
      " [[ 1.037  0.433  0.119  0.564]\n",
      " [ 0.216  0.869  0.209 -1.695]\n",
      " [ 1.308  1.268 -0.629 -0.73 ]\n",
      " [ 1.224 -0.373  1.333 -0.25 ]]\n",
      "Error:\n",
      " [[ 0.  0.  0.  0.]\n",
      " [ 0.  0.  0.  0.]\n",
      " [ 0.  0.  0. -0.]\n",
      " [ 0.  0.  0. -0.]]\n"
     ]
    }
   ],
   "source": [
    "# Let us find the iterative solution over her\n",
    "\n",
    "import numpy as np\n",
    "A = np.random.randn(4, 4)\n",
    "L = np.eye(4)\n",
    "U = np.zeros((4, 4))\n",
    "\n",
    "# First row/column\n",
    "U[0] = A[0]\n",
    "L[1:, 0] = A[1:, 0] / U[0][0]\n",
    "\n",
    "# Initialize \"remaining\" as copy and update Schur complement for step 0\n",
    "remaining = A.copy()\n",
    "remaining[1:, 1:] -= np.outer(L[1:, 0], U[0, 1:])\n",
    "\n",
    "\n",
    "# Loop over next pivots\n",
    "for i in range(1, 4):\n",
    "    U[i, i:] = remaining[i, i:]\n",
    "    L[i+1:, i] = remaining[i+1:, i] / U[i, i]\n",
    "    remaining[i+1:, i+1:] -= np.outer(L[i+1:, i], U[i, i+1:])\n",
    "\n",
    "print(\"L=\\n\", L)\n",
    "print(\"U=\\n\", U)\n",
    "print(\"Check L @ U:\\n\", L @ U)\n",
    "print(\"Original A:\\n\", A)\n",
    "print(\"Error:\\n\", L @ U - A)\n"
   ]
  },
  {
   "cell_type": "code",
   "execution_count": null,
   "id": "9ad4afbf",
   "metadata": {},
   "outputs": [],
   "source": []
  },
  {
   "cell_type": "code",
   "execution_count": 2,
   "id": "55697db7",
   "metadata": {},
   "outputs": [
    {
     "name": "stdout",
     "output_type": "stream",
     "text": [
      "[[ 1.          0.          0.          0.        ]\n",
      " [-0.06048906  1.          0.          0.        ]\n",
      " [-0.51608752  0.24159103  1.          0.        ]\n",
      " [-0.94851995  1.41047182  0.          1.        ]]\n",
      "[[-0.777       0.541       0.513      -0.996     ]\n",
      " [ 0.          0.94872458  1.32603089  0.3547529 ]\n",
      " [ 0.          0.          0.          0.        ]\n",
      " [ 0.          0.          0.          0.        ]]\n"
     ]
    }
   ],
   "source": [
    "import numpy as np\n",
    "def LU_decomposition(A):\n",
    "    L = np.eye(len(A))\n",
    "    U = np.zeros_like(A)\n",
    "\n",
    "    U[0] = A[0]\n",
    "    L[1: , 0] = (A[1:, 0] / U[0][0])\n",
    "    remaining = A.copy()\n",
    "    remaining[1:, 1:] =  remaining[1:, 1:] - np.outer(L[1:, 0] , U[0, 1:])\n",
    "\n",
    "    for i in range(1, len(A)):\n",
    "        if (i == 2):\n",
    "            print(L)\n",
    "            print(U)\n",
    "        U[i, i:]= remaining[i, i:]\n",
    "        L[i + 1:, i] = remaining[i + 1:, i] / U[i][i]\n",
    "        remaining[i + 1:, i + 1:] = remaining[i + 1:, i + 1:] - np.outer(L[i + 1:, i], U[i, i + 1:])\n",
    "    \n",
    "    # print(L, U)\n",
    "A = np.array([[-0.777, 0.541, 0.513, -0.996], [0.047, 0.916, 1.295, 0.415],[0.401, -0.05,1.669, 0.689], [0.737, 0.825, -0.605, -0.518]])\n",
    "val = LU_decomposition(A)\n",
    "\n",
    "\n",
    "\n",
    "\n",
    "    # [a_00 a_01] = [1    ,  0] @    [u_00, u_01]\n",
    "    # [a_10, a_11]  [l_10, l_11]      [0,   u_11]\n",
    "\n",
    "    # [a_00 a_01] = [u_00, u_01]  \n",
    "    # [a_10, a_11]  [l_10 * u_00, l_10 * u_01 + l_11 * u_11]\n",
    "\n"
   ]
  },
  {
   "cell_type": "code",
   "execution_count": 11,
   "id": "2146f15f",
   "metadata": {},
   "outputs": [
    {
     "name": "stdout",
     "output_type": "stream",
     "text": [
      "L=\n",
      " [[ 1.     0.     0.     0.   ]\n",
      " [-0.06   1.     0.     0.   ]\n",
      " [-0.516  0.242  1.     0.   ]\n",
      " [-0.949  1.41   0.     1.   ]]\n",
      "U=\n",
      " [[-0.777  0.541  0.513 -0.996]\n",
      " [ 0.     0.949  1.326  0.355]\n",
      " [ 0.     0.     0.     0.   ]\n",
      " [ 0.     0.     0.     0.   ]]\n",
      "Check L @ U:\n",
      " [[-0.777  0.541  0.513 -0.996]\n",
      " [ 0.047  0.916  1.295  0.415]\n",
      " [ 0.401 -0.05   0.056  0.6  ]\n",
      " [ 0.737  0.825  1.384  1.445]]\n",
      "Original A:\n",
      " [[-0.777  0.541  0.513 -0.996]\n",
      " [ 0.047  0.916  1.295  0.415]\n",
      " [ 0.401 -0.05   1.669  0.689]\n",
      " [ 0.737  0.825 -0.605 -0.518]]\n",
      "Error:\n",
      " [[ 0.     0.     0.     0.   ]\n",
      " [ 0.     0.     0.    -0.   ]\n",
      " [ 0.     0.    -1.613 -0.089]\n",
      " [ 0.     0.     1.989  1.963]]\n"
     ]
    }
   ],
   "source": [
    "import numpy as np\n",
    "\n",
    "A = np.array([[-0.777, 0.541, 0.513, -0.996], [0.047, 0.916, 1.295, 0.415], [0.401, -0.05, 1.669, 0.689], [0.737, 0.825, -0.605, -0.518]])\n",
    "L = np.eye(4)\n",
    "U = np.zeros((4, 4))\n",
    "\n",
    "# First row/column\n",
    "# U[0] = A[0]\n",
    "# L[1:, 0] = A[1:, 0] / U[0][0]\n",
    "\n",
    "# # Initialize \"remaining\" as copy and update Schur complement for step 0\n",
    "remaining = A.copy()\n",
    "# remaining[1:, 1:] -= np.outer(L[1:, 0], U[0, 1:])\n",
    "\n",
    "\n",
    "# Loop over next pivots\n",
    "for i in range(2):\n",
    "    U[i, i:] = remaining[i, i:]\n",
    "    L[i + 1:, i] = remaining[i + 1:, i] / U[i][i]\n",
    "    remaining[i + 1:, i + 1:] = remaining[i + 1:, i+ 1:] - np.outer(L[i + 1:, i], U[i, i +1:])\n",
    "\n",
    "    \n",
    "print(\"L=\\n\", L)\n",
    "print(\"U=\\n\", U)\n",
    "print(\"Check L @ U:\\n\", L @ U)\n",
    "print(\"Original A:\\n\", A)\n",
    "print(\"Error:\\n\", L @ U - A)\n"
   ]
  },
  {
   "cell_type": "code",
   "execution_count": null,
   "id": "4d713161",
   "metadata": {},
   "outputs": [
    {
     "name": "stdout",
     "output_type": "stream",
     "text": [
      "[[1. 1.]\n",
      " [0. 0.]]\n"
     ]
    }
   ],
   "source": [
    "# We now move on to work on a case of Cholesky over here\n",
    "# I will first implement a whole LU factorization from start to end over here and then we will look into some more questions\n"
   ]
  },
  {
   "cell_type": "code",
   "execution_count": 40,
   "id": "5246d3be",
   "metadata": {},
   "outputs": [
    {
     "name": "stdout",
     "output_type": "stream",
     "text": [
      "(4, 4) (4, 4) (4, 4)\n",
      "[[0. 0. 0. 0.]\n",
      " [0. 0. 0. 0.]\n",
      " [0. 0. 0. 0.]\n",
      " [0. 0. 0. 0.]]\n"
     ]
    }
   ],
   "source": [
    "A =  np.array([\n",
    "    [4, 1, 1, 1],\n",
    "    [1, 3, 0, 1],\n",
    "    [1, 0, 2, 1],\n",
    "    [1, 1, 1, 3]\n",
    "], dtype=float)\n",
    "\n",
    "\n",
    "L = np.eye(len(A))\n",
    "U = np.zeros(A.shape)\n",
    "print (A.shape, L.shape, U.shape)\n",
    "# We will make over here \n",
    "remaining = A.copy()\n",
    "\n",
    "for i in range(0, len(A)):\n",
    "    U[i, i:] = remaining[i, i:]\n",
    "    L[i + 1:, i] = remaining[i + 1:, i] / U[i][i]\n",
    "    remaining[i + 1:, i + 1:] = remaining[i + 1:, i + 1:] - np.outer(L[i + 1:, i], U[i, i + 1:])\n",
    "    # print(\"Error:\\n\", L @ U - A)\n",
    "b = np.array([1,1,1,1])\n",
    "# We will do forward and backward substitution\n",
    "def forward_substitution (A, b):\n",
    "    x = [0] * len(A)\n",
    "    for i in range(len(A)):\n",
    "        x_val = A[i][i]\n",
    "        b_val = b[i]\n",
    "        for j in range(i):\n",
    "            b_val -= A[i][j] * x[j]\n",
    "        x[i] = b_val/x_val\n",
    "    return x\n",
    "val = forward_substitution(L, b)\n",
    "def backward_substitution(A, b):\n",
    "    x = [0] * len(A)\n",
    "    for i in range(len(A) - 1, -1 , -1):\n",
    "        x_val = A[i][i]\n",
    "        b_val = b[i]\n",
    "        for j in range(i + 1, len(A)):\n",
    "            b_val -= A[i][j] * x[j]\n",
    "        x[i] = b_val/x_val\n",
    "    return x\n",
    "x = backward_substitution(U, val)\n",
    "\n",
    "val = la.solve(A, b)\n",
    "print(A - L@U)\n"
   ]
  },
  {
   "cell_type": "code",
   "execution_count": null,
   "id": "70d0b2e6",
   "metadata": {},
   "outputs": [
    {
     "name": "stdout",
     "output_type": "stream",
     "text": [
      "[[0. 0. 0. 0.]\n",
      " [0. 0. 0. 0.]\n",
      " [0. 0. 0. 0.]\n",
      " [0. 0. 0. 0.]]\n"
     ]
    }
   ],
   "source": [
    "# Let us try to write the code for Cholesky factorization over here\n",
    "\n",
    "\n",
    "L = np.zeros(A.shape)\n",
    "remaining = A.copy()\n",
    "for i in range(len(A)):\n",
    "    L[i][i] = np.sqrt(remaining[i][i])\n",
    "    L[i + 1:, i] = remaining[i + 1:, i] / L[i][i]\n",
    "    remaining[i + 1:, i + 1:] =  (remaining[i + 1:, i + 1:] -np.outer(L[i + 1:, i], L[i + 1:, i])) \n",
    "print(A - L@L.T)\n",
    "\n",
    "# [l11,  0]    @ [l11, l12.T]\n",
    "# [l21, L22]     [0,   L22.T]"
   ]
  },
  {
   "cell_type": "code",
   "execution_count": 6,
   "id": "11b668f2",
   "metadata": {},
   "outputs": [
    {
     "name": "stdout",
     "output_type": "stream",
     "text": [
      "[ 0.00000000e+00  0.00000000e+00 -2.22044605e-16  0.00000000e+00]\n"
     ]
    }
   ],
   "source": [
    "import numpy as np\n",
    "import scipy\n",
    "A = np.random.randn(4, 4)\n",
    "# L = np.eye(4)\n",
    "# U = np.zeros_like(A)\n",
    "# remaining = np.copy(A)\n",
    "# for i in range(len(A)):\n",
    "#     U[i, i:] = remaining[i, i:]\n",
    "#     L[i + 1:,  i] = remaining[i + 1:, i] / U[i][i]\n",
    "#     remaining[i + 1:, i + 1:] = remaining[i + 1:, i + 1:] - np.outer(L[i + 1:, i] , U [i, i + 1:])\n",
    "\n",
    "# We now move on to do a coding analysis of Cholesky over here for this question\n",
    "\n",
    "A =  np.array([\n",
    "    [4, 1, 1, 1],\n",
    "    [1, 3, 0, 1],\n",
    "    [1, 0, 2, 1],\n",
    "    [1, 1, 1, 3]\n",
    "], dtype=float)\n",
    "\n",
    "# L = np.zeros(A.shape)\n",
    "# remaining = A.copy()\n",
    "# # Use remaining for everything inside over here do not use A inside the blocks here.\n",
    "# for i in range(len(A)):\n",
    "#     L[i][i] = np.sqrt(remaining[i][i])\n",
    "#     L[i + 1:, i] = remaining[i + 1:, i] / L[i][i]\n",
    "#     remaining[i + 1:, i + 1:] = remaining[i + 1:, i + 1:] - np.outer(L[i + 1:, i], L[i + 1:, i])\n",
    "\n",
    "# print(A - L @ L.T)\n",
    "b = np.array([1, 1,1, 1])\n",
    "P, L, U = scipy.linalg.lu(A)\n",
    "b2 = P @ b\n",
    "\n",
    "# Step 2: Forward substitution\n",
    "y = scipy.linalg.solve_triangular(L, b2, lower=True)\n",
    "\n",
    "# Step 3: Backward substitution\n",
    "x = scipy.linalg.solve_triangular(U, y)\n",
    "print(b - A @ x)"
   ]
  },
  {
   "cell_type": "code",
   "execution_count": null,
   "id": "2b1ef254",
   "metadata": {},
   "outputs": [],
   "source": []
  }
 ],
 "metadata": {
  "kernelspec": {
   "display_name": "Python 3",
   "language": "python",
   "name": "python3"
  },
  "language_info": {
   "codemirror_mode": {
    "name": "ipython",
    "version": 3
   },
   "file_extension": ".py",
   "mimetype": "text/x-python",
   "name": "python",
   "nbconvert_exporter": "python",
   "pygments_lexer": "ipython3",
   "version": "3.11.5"
  }
 },
 "nbformat": 4,
 "nbformat_minor": 5
}
