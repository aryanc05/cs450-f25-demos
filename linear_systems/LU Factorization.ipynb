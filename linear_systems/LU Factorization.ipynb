{
 "cells": [
  {
   "cell_type": "markdown",
   "id": "ec255016",
   "metadata": {},
   "source": [
    "# LU Factorization\n",
    "\n",
    "Copyright (C) 2021 Andreas Kloeckner\n",
    "\n",
    "In part based on material by Edgar Solomonik\n",
    "\n",
    "<details>\n",
    "<summary>MIT License</summary>\n",
    "Permission is hereby granted, free of charge, to any person obtaining a copy\n",
    "of this software and associated documentation files (the \"Software\"), to deal\n",
    "in the Software without restriction, including without limitation the rights\n",
    "to use, copy, modify, merge, publish, distribute, sublicense, and/or sell\n",
    "copies of the Software, and to permit persons to whom the Software is\n",
    "furnished to do so, subject to the following conditions:\n",
    "\n",
    "The above copyright notice and this permission notice shall be included in\n",
    "all copies or substantial portions of the Software.\n",
    "\n",
    "THE SOFTWARE IS PROVIDED \"AS IS\", WITHOUT WARRANTY OF ANY KIND, EXPRESS OR\n",
    "IMPLIED, INCLUDING BUT NOT LIMITED TO THE WARRANTIES OF MERCHANTABILITY,\n",
    "FITNESS FOR A PARTICULAR PURPOSE AND NONINFRINGEMENT. IN NO EVENT SHALL THE\n",
    "AUTHORS OR COPYRIGHT HOLDERS BE LIABLE FOR ANY CLAIM, DAMAGES OR OTHER\n",
    "LIABILITY, WHETHER IN AN ACTION OF CONTRACT, TORT OR OTHERWISE, ARISING FROM,\n",
    "OUT OF OR IN CONNECTION WITH THE SOFTWARE OR THE USE OR OTHER DEALINGS IN\n",
    "THE SOFTWARE.\n",
    "</details>"
   ]
  },
  {
   "cell_type": "code",
   "execution_count": 1,
   "id": "5f6fb009",
   "metadata": {},
   "outputs": [],
   "source": [
    "import numpy as np\n",
    "import numpy.linalg as la\n",
    "\n",
    "np.set_printoptions(linewidth=150, suppress=True, precision=3)"
   ]
  },
  {
   "cell_type": "code",
   "execution_count": 2,
   "id": "789c5d4a",
   "metadata": {},
   "outputs": [
    {
     "name": "stdout",
     "output_type": "stream",
     "text": [
      "[[-0.118  0.159  1.149 -1.256]\n",
      " [-0.972 -1.165  0.147 -1.531]\n",
      " [-0.484  0.928 -0.581 -0.482]\n",
      " [-0.662  1.11  -1.537 -0.109]]\n"
     ]
    }
   ],
   "source": [
    "Atxt = \"\"\"\n",
    "            -0.777 & 0.541 & 0.513 & -0.996\\\\\n",
    "            0.047 & 0.916 & 1.295 & 0.415\\\\\n",
    "            0.401 & -0.05 & 1.669 & 0.689\\\\\n",
    "            0.737 & 0.825 &-0.605 & -0.518\n",
    "\"\"\"\n",
    "Atxt = Atxt.replace('\\\\','')\n",
    "A = np.loadtxt(Atxt.split('\\n'), delimiter='&')\n",
    "#A = np.random.randn(4,4)\n",
    "A = np.array([[-0.118,  0.159,  1.149, -1.256],\n",
    "       [-0.972, -1.165,  0.147, -1.531],\n",
    "       [-0.484,  0.928, -0.581, -0.482],\n",
    "       [-0.662,  1.11 , -1.537, -0.109]])\n",
    "print(A)"
   ]
  },
  {
   "cell_type": "markdown",
   "id": "f7a37299",
   "metadata": {},
   "source": [
    "Initialize `L` and `U`:"
   ]
  },
  {
   "cell_type": "code",
   "execution_count": 3,
   "id": "2ce800be",
   "metadata": {},
   "outputs": [],
   "source": [
    "L = np.eye(len(A))\n",
    "U = np.zeros_like(A)"
   ]
  },
  {
   "cell_type": "markdown",
   "id": "865be159",
   "metadata": {},
   "source": [
    "Recall the \"recipe\" for LU factorization:\n",
    "\n",
    "$$\\let\\B=\\boldsymbol \\begin{array}{cc}\n",
    "     & \\left[\\begin{array}{cc}\n",
    "       u_{00} & \\B{u}_{01}^T\\\\\n",
    "       & U_{11}\n",
    "     \\end{array}\\right]\\\\\n",
    "     \\left[\\begin{array}{cc}\n",
    "       1 & \\\\\n",
    "       \\B{l}_{10} & L_{11}\n",
    "     \\end{array}\\right] & \\left[\\begin{array}{cc}\n",
    "       a_{00} & \\B{a}_{01}\\\\\n",
    "       \\B{a}_{10} & A_{11}\n",
    "     \\end{array}\\right]\n",
    "   \\end{array}$$\n",
    "\n",
    "Find $u_{00}$ and $u_{01}$. Check `A - L@U`."
   ]
  },
  {
   "cell_type": "code",
   "execution_count": 4,
   "id": "60443f8f",
   "metadata": {},
   "outputs": [
    {
     "data": {
      "text/plain": [
       "array([[ 0.   ,  0.   ,  0.   ,  0.   ],\n",
       "       [-0.972, -1.165,  0.147, -1.531],\n",
       "       [-0.484,  0.928, -0.581, -0.482],\n",
       "       [-0.662,  1.11 , -1.537, -0.109]])"
      ]
     },
     "execution_count": 4,
     "metadata": {},
     "output_type": "execute_result"
    }
   ],
   "source": [
    "#clear\n",
    "\n",
    "U[0] = A[0]\n",
    "A - L@U"
   ]
  },
  {
   "cell_type": "markdown",
   "id": "2d57cf4d",
   "metadata": {},
   "source": [
    "Find $l_{10}$. Check `A - L@U`."
   ]
  },
  {
   "cell_type": "code",
   "execution_count": 5,
   "id": "6ac21875",
   "metadata": {},
   "outputs": [
    {
     "name": "stdout",
     "output_type": "stream",
     "text": [
      "[[1.    0.    0.    0.   ]\n",
      " [8.237 1.    0.    0.   ]\n",
      " [4.102 0.    1.    0.   ]\n",
      " [5.61  0.    0.    1.   ]]\n",
      "[[-0.118  0.159  1.149 -1.256]\n",
      " [ 0.     0.     0.     0.   ]\n",
      " [ 0.     0.     0.     0.   ]\n",
      " [ 0.     0.     0.     0.   ]]\n"
     ]
    }
   ],
   "source": [
    "#clear\n",
    "\n",
    "L[1:,0] = A[1:,0]/U[0,0]\n",
    "A - L@U\n",
    "print(L)\n",
    "print(U)"
   ]
  },
  {
   "cell_type": "markdown",
   "id": "1bc60f49",
   "metadata": {},
   "source": [
    "Recall $A_{22} =\\B{l}_{21} \\B{u}_{12}^T + L_{22} U_{22}$. Write the next step generic in terms of `i`.\n",
    "\n",
    "After the step, print `A-L@U` and `remaining`."
   ]
  },
  {
   "cell_type": "code",
   "execution_count": 6,
   "id": "c39ee393-9eee-4e0f-92bd-d6b251e17678",
   "metadata": {},
   "outputs": [
    {
     "name": "stdout",
     "output_type": "stream",
     "text": [
      "[[1.    0.    0.    0.   ]\n",
      " [8.237 1.    0.    0.   ]\n",
      " [4.102 0.    1.    0.   ]\n",
      " [5.61  0.    0.    1.   ]]\n",
      "[[-0.118  0.159  1.149 -1.256]\n",
      " [ 0.     0.     0.     0.   ]\n",
      " [ 0.     0.     0.     0.   ]\n",
      " [ 0.     0.     0.     0.   ]]\n",
      "[[ 0.     0.     0.     0.   ]\n",
      " [-0.    -2.475 -9.318  8.815]\n",
      " [-0.     0.276 -5.294  4.67 ]\n",
      " [ 0.     0.218 -7.983  6.937]]\n",
      "[0.276 0.218]\n"
     ]
    }
   ],
   "source": [
    "print(L)\n",
    "print(U)\n",
    "print(A-L@U)\n",
    "print((A-L@U)[1+1:,1])"
   ]
  },
  {
   "cell_type": "code",
   "execution_count": 7,
   "id": "4b2644d9",
   "metadata": {},
   "outputs": [
    {
     "name": "stdout",
     "output_type": "stream",
     "text": [
      "[[ 0.     0.     0.     0.   ]\n",
      " [-0.    -2.475 -9.318  8.815]\n",
      " [-0.     0.276 -5.294  4.67 ]\n",
      " [ 0.     0.218 -7.983  6.937]]\n"
     ]
    }
   ],
   "source": [
    "i = 1\n",
    "remaining = A - L@U\n",
    "print(remaining)"
   ]
  },
  {
   "cell_type": "code",
   "execution_count": null,
   "id": "9e9e4862-869a-41a7-9b74-bd636f8a646b",
   "metadata": {},
   "outputs": [],
   "source": []
  },
  {
   "cell_type": "code",
   "execution_count": 8,
   "id": "a38913da",
   "metadata": {},
   "outputs": [
    {
     "name": "stdout",
     "output_type": "stream",
     "text": [
      "[[-0.118  0.159  1.149 -1.256]\n",
      " [ 0.    -2.475 -9.318  8.815]\n",
      " [ 0.     0.     0.     0.   ]\n",
      " [ 0.     0.     0.     0.   ]]\n",
      "[[ 1.     0.     0.     0.   ]\n",
      " [ 8.237  1.     0.     0.   ]\n",
      " [ 4.102 -0.111  1.     0.   ]\n",
      " [ 5.61  -0.088  0.     1.   ]]\n",
      "[[ 0.     0.     0.     0.   ]\n",
      " [-0.    -2.475 -9.318  8.815]\n",
      " [-0.     0.276 -6.332  5.652]\n",
      " [ 0.     0.218 -8.804  7.714]]\n",
      "[[ 0.     0.     0.     0.   ]\n",
      " [-0.     0.    -0.     0.   ]\n",
      " [-0.     0.    -6.332  5.652]\n",
      " [ 0.     0.    -8.804  7.714]]\n"
     ]
    }
   ],
   "source": [
    "#clear\n",
    "U[i, i:] = remaining[i, i:]\n",
    "L[i+1:,i] = remaining[i+1:,i]/U[i,i]\n",
    "remaining[i+1:, i+1:] -= np.outer(L[i+1:,i], U[i, i+1:])\n",
    "\n",
    "i = i + 1\n",
    "\n",
    "print(U)\n",
    "print(L)\n",
    "print(remaining)\n",
    "print(A-L@U)"
   ]
  },
  {
   "cell_type": "code",
   "execution_count": 15,
   "id": "9222ec6b",
   "metadata": {},
   "outputs": [
    {
     "data": {
      "text/plain": [
       "-0.0880848484848485"
      ]
     },
     "execution_count": 15,
     "metadata": {},
     "output_type": "execute_result"
    }
   ],
   "source": [
    "(1.110 - (5.61*0.159))/-2.475"
   ]
  },
  {
   "cell_type": "code",
   "execution_count": null,
   "id": "cc4a4d18-fa56-4a93-aac4-baf08c109aca",
   "metadata": {},
   "outputs": [],
   "source": [
    "U"
   ]
  },
  {
   "cell_type": "code",
   "execution_count": null,
   "id": "4bbd5898-2cd8-49a1-9cc7-f4a277960fed",
   "metadata": {},
   "outputs": [],
   "source": [
    "L @ U"
   ]
  },
  {
   "cell_type": "code",
   "execution_count": null,
   "id": "d30621ec-085f-42bc-a7e2-182fb1ca2357",
   "metadata": {},
   "outputs": [],
   "source": [
    "A - L*U"
   ]
  },
  {
   "cell_type": "code",
   "execution_count": null,
   "id": "83dc8d5b-3077-42cd-8ea2-14b6ce456034",
   "metadata": {},
   "outputs": [],
   "source": [
    "A = np.array([[1,2],[3,4]])\n",
    "B = np.array([[1,2],[3,4]])\n",
    "print(A@B)\n",
    "print(A*B)"
   ]
  },
  {
   "cell_type": "code",
   "execution_count": null,
   "id": "8f40a509-3c09-4a4e-9ecc-4fadf3fd7696",
   "metadata": {},
   "outputs": [],
   "source": []
  }
 ],
 "metadata": {
  "kernelspec": {
   "display_name": "Python 3 (ipykernel)",
   "language": "python",
   "name": "python3"
  },
  "language_info": {
   "codemirror_mode": {
    "name": "ipython",
    "version": 3
   },
   "file_extension": ".py",
   "mimetype": "text/x-python",
   "name": "python",
   "nbconvert_exporter": "python",
   "pygments_lexer": "ipython3",
   "version": "3.12.11"
  }
 },
 "nbformat": 4,
 "nbformat_minor": 5
}
