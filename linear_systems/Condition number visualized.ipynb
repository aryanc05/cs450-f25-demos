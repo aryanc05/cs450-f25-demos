{
 "cells": [
  {
   "cell_type": "markdown",
   "metadata": {},
   "source": [
    "# Condition number\n",
    "\n",
    "Copyright (C) 2020 Andreas Kloeckner\n",
    "\n",
    "<details>\n",
    "<summary>MIT License</summary>\n",
    "Permission is hereby granted, free of charge, to any person obtaining a copy\n",
    "of this software and associated documentation files (the \"Software\"), to deal\n",
    "in the Software without restriction, including without limitation the rights\n",
    "to use, copy, modify, merge, publish, distribute, sublicense, and/or sell\n",
    "copies of the Software, and to permit persons to whom the Software is\n",
    "furnished to do so, subject to the following conditions:\n",
    "\n",
    "The above copyright notice and this permission notice shall be included in\n",
    "all copies or substantial portions of the Software.\n",
    "\n",
    "THE SOFTWARE IS PROVIDED \"AS IS\", WITHOUT WARRANTY OF ANY KIND, EXPRESS OR\n",
    "IMPLIED, INCLUDING BUT NOT LIMITED TO THE WARRANTIES OF MERCHANTABILITY,\n",
    "FITNESS FOR A PARTICULAR PURPOSE AND NONINFRINGEMENT. IN NO EVENT SHALL THE\n",
    "AUTHORS OR COPYRIGHT HOLDERS BE LIABLE FOR ANY CLAIM, DAMAGES OR OTHER\n",
    "LIABILITY, WHETHER IN AN ACTION OF CONTRACT, TORT OR OTHERWISE, ARISING FROM,\n",
    "OUT OF OR IN CONNECTION WITH THE SOFTWARE OR THE USE OR OTHER DEALINGS IN\n",
    "THE SOFTWARE.\n",
    "</details>"
   ]
  },
  {
   "cell_type": "code",
   "execution_count": null,
   "metadata": {
    "jupyter": {
     "outputs_hidden": false
    }
   },
   "outputs": [],
   "source": [
    "import numpy as np\n",
    "import numpy.linalg as la\n",
    "import matplotlib.pyplot as pt"
   ]
  },
  {
   "cell_type": "markdown",
   "metadata": {},
   "source": [
    "Let's grab a $2\\times 2$ matrix $A$:"
   ]
  },
  {
   "cell_type": "code",
   "execution_count": null,
   "metadata": {
    "jupyter": {
     "outputs_hidden": false
    }
   },
   "outputs": [],
   "source": [
    "if 0:\n",
    "    np.random.seed(17)\n",
    "    A = np.random.randn(2, 2)\n",
    "else:\n",
    "    A = np.array([[3, 0], [0,1]], dtype=np.float64)\n",
    "\n",
    "A"
   ]
  },
  {
   "cell_type": "markdown",
   "metadata": {},
   "source": [
    "And its inverse as `Ainv`:"
   ]
  },
  {
   "cell_type": "code",
   "execution_count": null,
   "metadata": {
    "jupyter": {
     "outputs_hidden": false
    }
   },
   "outputs": [],
   "source": [
    "#clear\n",
    "Ainv = la.inv(A)\n",
    "Ainv"
   ]
  },
  {
   "cell_type": "markdown",
   "metadata": {},
   "source": [
    "Now we would like to figure out where that matrix puts all the vectors with 2-norm 1.\n",
    "\n",
    "To do so, let's make an array of vectors with vectors with norm 1:"
   ]
  },
  {
   "cell_type": "code",
   "execution_count": null,
   "metadata": {
    "jupyter": {
     "outputs_hidden": false
    }
   },
   "outputs": [],
   "source": [
    "phi = np.linspace(0, 2*np.pi, 30)\n",
    "xs = np.array([\n",
    "    np.cos(phi),\n",
    "    np.sin(phi)\n",
    "])\n",
    "\n",
    "pt.gca().set_aspect(\"equal\")\n",
    "pt.plot(xs[0], xs[1], \"x\")\n",
    "pt.grid()"
   ]
  },
  {
   "cell_type": "markdown",
   "metadata": {},
   "source": [
    "Now apply $A$ to all those vectors...:"
   ]
  },
  {
   "cell_type": "code",
   "execution_count": null,
   "metadata": {
    "jupyter": {
     "outputs_hidden": false
    }
   },
   "outputs": [],
   "source": [
    "Axs = A.dot(xs)\n",
    "Axs.shape"
   ]
  },
  {
   "cell_type": "markdown",
   "metadata": {},
   "source": [
    "...and plot:"
   ]
  },
  {
   "cell_type": "code",
   "execution_count": null,
   "metadata": {
    "jupyter": {
     "outputs_hidden": false
    }
   },
   "outputs": [],
   "source": [
    "pt.figure(figsize=(10, 5))\n",
    "\n",
    "pt.subplot(121)\n",
    "pt.title(\"$x$\")\n",
    "pt.plot(xs[0], xs[1], \"x\")\n",
    "pt.gca().set_aspect(\"equal\")\n",
    "\n",
    "pt.subplot(122)\n",
    "pt.title(\"$Ax$\")\n",
    "pt.plot(Axs[0], Axs[1], \"v\")\n",
    "pt.gca().set_aspect(\"equal\")"
   ]
  },
  {
   "cell_type": "markdown",
   "metadata": {},
   "source": [
    "-------------\n",
    "\n",
    "Next, let's see what happens to small perturbations at each of the $x$ and $Ax$ points.\n",
    "\n",
    "To that end, let's make an array `ys` of shape $2\\times N_p\\times N_p$, where $N_p$ is the number of points above."
   ]
  },
  {
   "cell_type": "code",
   "execution_count": null,
   "metadata": {
    "jupyter": {
     "outputs_hidden": false
    }
   },
   "outputs": [],
   "source": [
    "# ys has axes: XY x Npoints x Npoints\n",
    "\n",
    "perturbation_size = 0.1\n",
    "ys = perturbation_size * xs.reshape(2, -1, 1) + xs.reshape(2, 1, -1)\n",
    "\n",
    "Ays = np.tensordot(A, ys, axes=1)\n",
    "Ays.shape"
   ]
  },
  {
   "cell_type": "markdown",
   "metadata": {},
   "source": [
    "Side note: What does the argument `-1` to reshape do?"
   ]
  },
  {
   "cell_type": "markdown",
   "metadata": {},
   "source": [
    "-----------------------\n",
    "Let's plot what we've just made"
   ]
  },
  {
   "cell_type": "code",
   "execution_count": null,
   "metadata": {
    "jupyter": {
     "outputs_hidden": false
    }
   },
   "outputs": [],
   "source": [
    "pt.figure(figsize=(10, 5))\n",
    "\n",
    "pt.subplot(121)\n",
    "pt.title(\"$y$\")\n",
    "pt.plot(ys[0], ys[1])\n",
    "pt.gca().set_aspect(\"equal\")\n",
    "\n",
    "pt.subplot(122)\n",
    "pt.title(\"$Ax$\")\n",
    "pt.plot(Ays[0], Ays[1])\n",
    "pt.gca().set_aspect(\"equal\")"
   ]
  },
  {
   "cell_type": "markdown",
   "metadata": {},
   "source": [
    "-------------------\n",
    "Let's compare this with $\\|A\\|$:"
   ]
  },
  {
   "cell_type": "code",
   "execution_count": null,
   "metadata": {
    "jupyter": {
     "outputs_hidden": false
    }
   },
   "outputs": [],
   "source": [
    "norm = la.norm(A, 2)\n",
    "print(norm)\n",
    "\n",
    "pt.plot(Ays[0], Ays[1])\n",
    "\n",
    "ax = pt.gca()\n",
    "ax.set_aspect(\"equal\")\n",
    "ax.add_artist(pt.Circle([0, 0], norm, alpha=0.3, lw=0))"
   ]
  },
  {
   "cell_type": "markdown",
   "metadata": {},
   "source": [
    "------------------\n",
    "What we want now is a circle around each of the $Ax$ that says,\n",
    "\n",
    "\"Because of the $\\Delta x$ variation, $b$ is at most going to wiggle by this much,\n",
    "i.e. $\\Delta b$ will be at most this big.\""
   ]
  },
  {
   "cell_type": "markdown",
   "metadata": {},
   "source": [
    "------\n",
    "\n",
    "Now we want a $\\kappa$ with $\\frac{\\|\\Delta b\\|}{\\|b\\|}\\le \\kappa \\frac{\\|\\Delta x\\|}{\\|x\\|}$.\n",
    "\n",
    "Assume $\\|x\\|=1$. Equivalent: $\\|\\Delta b\\|\\le \\kappa \\|\\Delta x\\|\\|b\\|$.\n",
    "\n",
    "Which $\\kappa$ does the job?"
   ]
  },
  {
   "cell_type": "code",
   "execution_count": null,
   "metadata": {
    "jupyter": {
     "outputs_hidden": false
    }
   },
   "outputs": [],
   "source": [
    "#clear\n",
    "kappa = la.norm(A, 2)*la.norm(Ainv, 2)"
   ]
  },
  {
   "cell_type": "code",
   "execution_count": null,
   "metadata": {
    "jupyter": {
     "outputs_hidden": false
    }
   },
   "outputs": [],
   "source": [
    "pt.plot(Ays[0], Ays[1])\n",
    "\n",
    "ax = pt.gca()\n",
    "ax.set_aspect(\"equal\")\n",
    "for i in range(Ays.shape[2]):\n",
    "    b = Axs[:, i]\n",
    "    norm_delta_y = kappa * perturbation_size * la.norm(b)\n",
    "    ax.add_artist(pt.Circle(b, norm_delta_y, alpha=0.3, lw=0))"
   ]
  },
  {
   "cell_type": "code",
   "execution_count": null,
   "metadata": {
    "jupyter": {
     "outputs_hidden": false
    }
   },
   "outputs": [],
   "source": []
  }
 ],
 "metadata": {
  "kernelspec": {
   "display_name": "Python 3",
   "language": "python",
   "name": "python3"
  },
  "language_info": {
   "codemirror_mode": {
    "name": "ipython",
    "version": 3
   },
   "file_extension": ".py",
   "mimetype": "text/x-python",
   "name": "python",
   "nbconvert_exporter": "python",
   "pygments_lexer": "ipython3",
   "version": "3.8.3"
  }
 },
 "nbformat": 4,
 "nbformat_minor": 4
}
