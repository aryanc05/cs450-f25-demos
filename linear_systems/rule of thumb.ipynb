{
 "cells": [
  {
   "cell_type": "code",
   "execution_count": null,
   "metadata": {},
   "outputs": [],
   "source": [
    "import numpy as np\n",
    "import matplotlib.pyplot as plt\n",
    "import numpy.linalg as la"
   ]
  },
  {
   "cell_type": "code",
   "execution_count": null,
   "metadata": {},
   "outputs": [],
   "source": [
    "errs = []\n",
    "conds = []\n",
    "ress = []\n",
    "xstar = np.ones(2)\n",
    "for eps in np.logspace(-1,-14, 100):\n",
    "    \n",
    "    A = np.array([[1, 0], [0, eps]])\n",
    "    V,_ = la.qr(np.random.randn(2,2))\n",
    "    A = V.T @ A @ V\n",
    "    b = A.dot(xstar)\n",
    "    x = np.linalg.solve(A, b)\n",
    "    diff = np.max(np.abs(x-xstar))\n",
    "    cond = np.linalg.cond(A)\n",
    "    res = np.max(np.abs(b - A @ x))\n",
    "    errs.append(diff)\n",
    "    conds.append(cond)\n",
    "    ress.append(res)\n",
    "    print(f'{eps:.4e} {cond:.4e} {diff:.4e}, {res:.4e}')"
   ]
  },
  {
   "cell_type": "code",
   "execution_count": null,
   "metadata": {},
   "outputs": [],
   "source": [
    "plt.loglog(conds, errs, 'o')"
   ]
  },
  {
   "cell_type": "code",
   "execution_count": null,
   "metadata": {},
   "outputs": [],
   "source": [
    "b"
   ]
  },
  {
   "cell_type": "code",
   "execution_count": null,
   "metadata": {},
   "outputs": [],
   "source": []
  }
 ],
 "metadata": {
  "kernelspec": {
   "display_name": "Python 3 (ipykernel)",
   "language": "python",
   "name": "python3"
  },
  "language_info": {
   "codemirror_mode": {
    "name": "ipython",
    "version": 3
   },
   "file_extension": ".py",
   "mimetype": "text/x-python",
   "name": "python",
   "nbconvert_exporter": "python",
   "pygments_lexer": "ipython3",
   "version": "3.12.11"
  }
 },
 "nbformat": 4,
 "nbformat_minor": 4
}
