{
 "cells": [
  {
   "cell_type": "code",
   "execution_count": null,
   "id": "526270cf-dece-468f-88a5-57a9e83eab3b",
   "metadata": {},
   "outputs": [],
   "source": [
    "import numpy as np\n",
    "import matplotlib.pyplot as plt\n",
    "from scipy.optimize import least_squares"
   ]
  },
  {
   "cell_type": "markdown",
   "id": "8d13776c-1fbf-4ad2-818d-76d18db69b91",
   "metadata": {},
   "source": [
    "## Load data\n",
    "\n",
    "Load data $t_i$ and $y_i$.  Then plot it."
   ]
  },
  {
   "cell_type": "code",
   "execution_count": null,
   "id": "f7fa29ef-ec4d-4464-a662-e5127d4f25e8",
   "metadata": {},
   "outputs": [],
   "source": [
    "data = np.load('data.npz')\n",
    "t = data['t']\n",
    "y = data['y']\n",
    "plt.plot(t, y, 'o')"
   ]
  },
  {
   "cell_type": "markdown",
   "id": "cffb80d2-ea60-4272-8243-5f75ff63eaa1",
   "metadata": {},
   "source": [
    "## Solving the model in 2 ways\n",
    "\n",
    "In the following you will implement two ways to determine parameters $a$, $b$, $c$, and $d$ in the model\n",
    "$$\n",
    "m(t) = a e^{-b t} \\cos(c t + d)\n",
    "$$\n",
    "\n",
    "1. Using `scipy.optimize.least_squares`\n",
    "2. Constructing your own Gauss-Newton method (Using `np.linalg.lstsq`)\n",
    "\n",
    "To do this, you will need at least three functions:"
   ]
  },
  {
   "cell_type": "code",
   "execution_count": null,
   "id": "eb9f9636-9039-4dba-a014-4041ed7129ab",
   "metadata": {},
   "outputs": [],
   "source": [
    "def model(x, t):\n",
    "    pass\n",
    "\n",
    "def residual(x, t, y):\n",
    "    pass\n",
    "\n",
    "def J(x, t, y):\n",
    "    pass"
   ]
  },
  {
   "cell_type": "markdown",
   "id": "6bb64516-ce2f-42f4-8aea-7caf4efb2601",
   "metadata": {},
   "source": [
    "## Find an estimate\n",
    "\n",
    "Find an estimate to parameters $a$, $b$, $c$, and $d$."
   ]
  },
  {
   "cell_type": "code",
   "execution_count": null,
   "id": "84f4cc7c-173e-4bcb-8b87-c4e6301b4b54",
   "metadata": {},
   "outputs": [],
   "source": [
    "x0 = np.array([1, 1, 1, 1])"
   ]
  }
 ],
 "metadata": {
  "kernelspec": {
   "display_name": "Python 3 (ipykernel)",
   "language": "python",
   "name": "python3"
  },
  "language_info": {
   "codemirror_mode": {
    "name": "ipython",
    "version": 3
   },
   "file_extension": ".py",
   "mimetype": "text/x-python",
   "name": "python",
   "nbconvert_exporter": "python",
   "pygments_lexer": "ipython3",
   "version": "3.12.11"
  }
 },
 "nbformat": 4,
 "nbformat_minor": 5
}
