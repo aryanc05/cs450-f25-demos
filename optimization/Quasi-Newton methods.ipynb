{
 "cells": [
  {
   "cell_type": "code",
   "execution_count": null,
   "metadata": {},
   "outputs": [],
   "source": [
    "import numpy as np\n",
    "import matplotlib.pyplot as plt\n",
    "import scipy.optimize as sopt\n",
    "from matplotlib.colors import LogNorm"
   ]
  },
  {
   "cell_type": "code",
   "execution_count": null,
   "metadata": {},
   "outputs": [],
   "source": [
    "def f(x):\n",
    "    a = 1\n",
    "    b = 100\n",
    "    return (a - x[0])**2 + b*(x[1] - x[0]**2)**2\n",
    "\n",
    "def df(x):\n",
    "    a = 1\n",
    "    b = 100\n",
    "    df1 = -2*(a-x[0]) - 4*b*(x[1]-x[0]**2)*x[0]\n",
    "    df2 = 2*b*(x[1]-x[0]**2)\n",
    "    return np.array([df1, df2])\n",
    "\n",
    "xstar = np.array([1,1])\n",
    "\n",
    "np.random.seed(1028)\n",
    "x0 = np.array([-1.4, 1.1])"
   ]
  },
  {
   "cell_type": "markdown",
   "metadata": {},
   "source": [
    "# Steepest Descent"
   ]
  },
  {
   "cell_type": "code",
   "execution_count": null,
   "metadata": {},
   "outputs": [],
   "source": [
    "def sd(x0, xhist=None, maxiter=1000):\n",
    "    x = x0.copy()\n",
    "    \n",
    "    for k in range(maxiter):\n",
    "\n",
    "        s = -df(x)\n",
    "\n",
    "        def f1d(alpha):\n",
    "            return f(x + alpha*s)\n",
    "        alpha = sopt.golden(f1d)\n",
    "        alpha = 0.001\n",
    "        x = x + alpha * s\n",
    "\n",
    "        xhist.append(x)\n",
    "    return x"
   ]
  },
  {
   "cell_type": "code",
   "execution_count": null,
   "metadata": {},
   "outputs": [],
   "source": [
    "xhist_sd = [x0]\n",
    "x = sd(x0, xhist_sd)\n",
    "plt.semilogy([np.linalg.norm(x-xstar) for x in xhist_sd])"
   ]
  },
  {
   "cell_type": "code",
   "execution_count": null,
   "metadata": {},
   "outputs": [],
   "source": [
    "plt.figure(figsize=(10,10))\n",
    "X = np.linspace(-1, 1, 30)\n",
    "Y = np.linspace(-1, 1, 30)\n",
    "X, Y = np.meshgrid(X, Y)\n",
    "XY = np.vstack((X.ravel(), Y.ravel()))\n",
    "Z = f(XY).reshape(X.shape)\n",
    "plt.contourf(X, Y, Z, levels=30, cmap='plasma')\n",
    "plt.plot(xstar[0], xstar[1], 'm*', ms=10, zorder=10)\n",
    "\n",
    "xhist = np.array(xhist_sd).T\n",
    "plt.plot(xhist[0], xhist[1], 'wo-', ms=5)"
   ]
  },
  {
   "cell_type": "markdown",
   "metadata": {},
   "source": [
    "# BFGS"
   ]
  },
  {
   "cell_type": "code",
   "execution_count": null,
   "metadata": {},
   "outputs": [],
   "source": [
    "def bfgs(x0, errors=None, xhistory=None):\n",
    "    x = x0.copy()\n",
    "    B = np.eye(2)\n",
    "    C = np.eye(2)\n",
    "    \n",
    "    for k in range(100):\n",
    "\n",
    "        s = -C @ df(x)\n",
    "\n",
    "        def f1d(alpha):\n",
    "            return f(x + alpha*s)\n",
    "        alpha = sopt.golden(f1d)\n",
    "        alpha = 0.01\n",
    "        xnew = x + alpha * s\n",
    "        \n",
    "        y = df(xnew) - df(x)\n",
    "        \n",
    "        Bnew = B + (1/np.dot(y, s))*np.outer(y, y) - (1/np.dot(B@s, s))*np.outer(B@s, B@s)\n",
    "        \n",
    "        u = s - C @ y\n",
    "        Cnew = C + (1/np.dot(s,y))*np.outer(u, s) + (1/np.dot(s,y))*np.outer(s, u) - (np.dot(y,u)/np.dot(s,y)**2)*np.outer(s,s)\n",
    "        \n",
    "        B = Bnew\n",
    "        x = xnew\n",
    "        C = Cnew\n",
    "\n",
    "        errors.append(np.linalg.norm(x - xstar))\n",
    "        xhistory.append(x)\n",
    "        if errors[-1] < 1e-12:\n",
    "            return x\n",
    "    return x"
   ]
  },
  {
   "cell_type": "code",
   "execution_count": null,
   "metadata": {},
   "outputs": [],
   "source": [
    "errors_bfgs = []\n",
    "xhist_bfgs = [x0]\n",
    "x = bfgs(x0, errors_bfgs, xhist_bfgs)\n",
    "plt.semilogy(errors_bfgs)"
   ]
  },
  {
   "cell_type": "code",
   "execution_count": null,
   "metadata": {},
   "outputs": [],
   "source": [
    "plt.figure(figsize=(10,10))\n",
    "X = np.linspace(-4, 4, 30)\n",
    "Y = np.linspace(-4, 4, 30)\n",
    "X, Y = np.meshgrid(X, Y)\n",
    "XY = np.vstack((X.ravel(), Y.ravel()))\n",
    "Z = f(XY).reshape(X.shape)\n",
    "plt.contourf(X, Y, Z, levels=30, cmap='plasma')\n",
    "plt.plot(xstar[0], xstar[1], 'm*', ms=10, zorder=10)\n",
    "\n",
    "xhist = np.array(xhist_bfgs).T\n",
    "plt.plot(xhist[0], xhist[1], 'wo-', ms=15)"
   ]
  },
  {
   "cell_type": "code",
   "execution_count": null,
   "metadata": {},
   "outputs": [],
   "source": [
    "import torch"
   ]
  },
  {
   "cell_type": "code",
   "execution_count": null,
   "metadata": {},
   "outputs": [],
   "source": [
    "# https://docs.pytorch.org/docs/stable/optim.html#optimizer-step-closure\n",
    "x = torch.tensor([-1.4, 1.1], requires_grad=True)\n",
    "optimizer = torch.optim.SGD([x])\n",
    "\n",
    "xhist_torch = [x.detach().tolist()]\n",
    "\n",
    "def closure():\n",
    "    optimizer.zero_grad()\n",
    "    loss = f(x)\n",
    "    loss.backward()\n",
    "    xhist_torch.append(x.detach().tolist())\n",
    "    return loss\n",
    "\n",
    "for i in range(1000):\n",
    "    optimizer.step(closure)\n",
    "# optimizer.step(closure)\n",
    "\n",
    "print(\"Optimized x:\", x)\n",
    "print(\"Minimum value of the function:\", f(x))"
   ]
  },
  {
   "cell_type": "code",
   "execution_count": null,
   "metadata": {},
   "outputs": [],
   "source": [
    "plt.semilogy([np.linalg.norm(x-xstar) for x in xhist_torch])"
   ]
  },
  {
   "cell_type": "code",
   "execution_count": null,
   "metadata": {},
   "outputs": [],
   "source": [
    "# https://docs.pytorch.org/docs/stable/optim.html#optimizer-step-closure\n",
    "x = torch.tensor([-1.4, 1.1], requires_grad=True)\n",
    "optimizer = torch.optim.LBFGS([x], max_iter=1000, lr=0.01, history_size=1)\n",
    "\n",
    "xhist_torch = [x.detach().tolist()]\n",
    "\n",
    "def closure():\n",
    "    optimizer.zero_grad()\n",
    "    loss = f(x)\n",
    "    loss.backward()\n",
    "    xhist_torch.append(x.detach().tolist())\n",
    "    return loss\n",
    "\n",
    "optimizer.step(closure)\n",
    "\n",
    "print(\"Optimized x:\", x)\n",
    "print(\"Minimum value of the function:\", f(x))"
   ]
  },
  {
   "cell_type": "code",
   "execution_count": null,
   "metadata": {},
   "outputs": [],
   "source": [
    "plt.semilogy([np.linalg.norm(x-xstar) for x in xhist_torch])"
   ]
  },
  {
   "cell_type": "code",
   "execution_count": null,
   "metadata": {},
   "outputs": [],
   "source": []
  }
 ],
 "metadata": {
  "kernelspec": {
   "display_name": "Python 3 (ipykernel)",
   "language": "python",
   "name": "python3"
  },
  "language_info": {
   "codemirror_mode": {
    "name": "ipython",
    "version": 3
   },
   "file_extension": ".py",
   "mimetype": "text/x-python",
   "name": "python",
   "nbconvert_exporter": "python",
   "pygments_lexer": "ipython3",
   "version": "3.12.11"
  }
 },
 "nbformat": 4,
 "nbformat_minor": 4
}
