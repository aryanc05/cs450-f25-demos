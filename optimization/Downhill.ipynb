{
 "cells": [
  {
   "cell_type": "code",
   "execution_count": null,
   "metadata": {},
   "outputs": [],
   "source": [
    "import numpy as np\n",
    "import matplotlib.pyplot as plt\n",
    "\n",
    "from scipy.optimize import fmin_ncg\n",
    "\n",
    "from matplotlib import cm\n",
    "from matplotlib.colors import LogNorm\n"
   ]
  },
  {
   "cell_type": "markdown",
   "metadata": {},
   "source": [
    "# Which way is \"down\"?"
   ]
  },
  {
   "cell_type": "markdown",
   "metadata": {},
   "source": [
    "### bowl\n",
    "\n",
    "Let's look at a standard \"bowl\" given by\n",
    "$$\n",
    "f(x,y) = x^2 +  y^2\n",
    "$$\n",
    "which has a minimum at  $(x,y)=(0,0)$"
   ]
  },
  {
   "cell_type": "code",
   "execution_count": null,
   "metadata": {},
   "outputs": [],
   "source": [
    "def f(x,y):\n",
    "    return x**2 + y**2\n",
    "\n",
    "def df(x,y):\n",
    "    return np.array([2*x,2*y])"
   ]
  },
  {
   "cell_type": "code",
   "execution_count": null,
   "metadata": {},
   "outputs": [],
   "source": [
    "x0 = np.arange(1,1)\n",
    "\n",
    "#fig = plt.figure()\n",
    "#ax = Axes3D(fig, )\n",
    "fig, ax = plt.subplots(subplot_kw={\"projection\": \"3d\",\n",
    "                                   \"azim\": -50, \"elev\": 45})\n",
    "\n",
    "X = np.linspace(-2, 2, 30)\n",
    "Y = np.linspace(-2, 2, 30)\n",
    "X, Y = np.meshgrid(X, Y)\n",
    "Z = f(X, Y)\n",
    "ax.plot_surface(X, Y, Z, rstride = 1, cstride = 1, norm = LogNorm(), cmap = 'viridis')\n",
    "ax.plot([0], [0], [f(0,0)], 'mo', ms=10, zorder=10)"
   ]
  },
  {
   "cell_type": "code",
   "execution_count": null,
   "metadata": {},
   "outputs": [],
   "source": [
    "plt.figure()\n",
    "plt.contourf(X, Y, Z, levels=30, cmap = 'cool')\n",
    "xx = 1.5\n",
    "yy = 1.5\n",
    "s = -0.5*df(xx, yy)\n",
    "plt.plot(xx, yy, 'bo', ms=10, zorder=10)\n",
    "arrow = plt.Arrow(xx, yy, s[0], s[1], zorder=10, width=0.5)\n",
    "ax = plt.gca()\n",
    "ax.add_patch(arrow)"
   ]
  },
  {
   "cell_type": "markdown",
   "metadata": {},
   "source": [
    "### bread bowl\n",
    "\n",
    "Let's look at a bread bowl given by\n",
    "$$\n",
    "f(x,y) = 10 * x^2 +  y^2\n",
    "$$\n",
    "which has a minimum at  $(x,y)=(0,0)$"
   ]
  },
  {
   "cell_type": "code",
   "execution_count": null,
   "metadata": {},
   "outputs": [],
   "source": [
    "def f(x,y):\n",
    "    return 10 * x**2 + y**2\n",
    "\n",
    "def df(x,y):\n",
    "    return np.array([20*x,2*y])"
   ]
  },
  {
   "cell_type": "code",
   "execution_count": null,
   "metadata": {},
   "outputs": [],
   "source": [
    "x0 = np.arange(1,1)\n",
    "\n",
    "fig, ax = plt.subplots(subplot_kw={\"projection\": \"3d\",\n",
    "                                   \"azim\": -50, \"elev\": 45})\n",
    "\n",
    "X = np.linspace(-2, 2, 30)\n",
    "Y = np.linspace(-2, 2, 30)\n",
    "X, Y = np.meshgrid(X, Y)\n",
    "Z = f(X, Y)\n",
    "ax.plot_surface(X, Y, Z, rstride = 1, cstride = 1, norm = LogNorm(), cmap = 'viridis')\n",
    "\n",
    "ax.plot([0], [0], [f(0,0)], 'mo', ms=10, zorder=10)"
   ]
  },
  {
   "cell_type": "code",
   "execution_count": null,
   "metadata": {},
   "outputs": [],
   "source": [
    "plt.figure()\n",
    "plt.contourf(X, Y, Z, levels=30, cmap = 'cool')\n",
    "xx = 1.5\n",
    "yy = 1.5\n",
    "s = -0.1*df(xx, yy)\n",
    "plt.plot(xx, yy, 'bo', ms=10, zorder=10)\n",
    "arrow = plt.Arrow(xx, yy, s[0], s[1], zorder=10, width=0.5)\n",
    "ax = plt.gca()\n",
    "ax.add_patch(arrow)"
   ]
  },
  {
   "cell_type": "markdown",
   "metadata": {},
   "source": [
    "### Rosenbrock\n",
    "\n",
    "Let's look at a Rosenbrock function\n",
    "$$\n",
    "f(x,y) = (a-x)^2 + b(y-x^2)^2\n",
    "$$\n",
    "which has a minimum at  $(x,y)=(a,a^2)$\n",
    "\n",
    "https://en.wikipedia.org/wiki/Rosenbrock_function"
   ]
  },
  {
   "cell_type": "code",
   "execution_count": null,
   "metadata": {},
   "outputs": [],
   "source": [
    "def f(x,y):\n",
    "    a = 1\n",
    "    b = 100\n",
    "    return (a - x)**2 + b*(y - x**2)**2"
   ]
  },
  {
   "cell_type": "code",
   "execution_count": null,
   "metadata": {},
   "outputs": [],
   "source": [
    "x0 = np.arange(1,1)\n",
    "\n",
    "fig, ax = plt.subplots(subplot_kw={\"projection\": \"3d\",\n",
    "                                   \"azim\": -50, \"elev\": 45})\n",
    "\n",
    "X = np.linspace(-4, 4, 30)\n",
    "Y = np.linspace(-4, 4, 30)\n",
    "X, Y = np.meshgrid(X, Y)\n",
    "Z = f(X, Y)\n",
    "ax.plot_surface(X, Y, Z, rstride = 1, cstride = 1, norm = LogNorm(), cmap = 'viridis')\n",
    "\n",
    "ax.plot([1], [1], [f(1,1)], 'mo', ms=10, zorder=10)\n",
    "ax.plot([2], [2], [f(2,2)], 'mo', ms=10, zorder=10)\n",
    "ax.plot([1.8], [3.2], [f(1.8,3.2)], 'mo', ms=10, zorder=10)"
   ]
  },
  {
   "cell_type": "code",
   "execution_count": null,
   "metadata": {},
   "outputs": [],
   "source": [
    "plt.figure()\n",
    "plt.contourf(X, Y, Z, levels=30, cmap = 'cool')\n",
    "xx = 1.8\n",
    "yy = 3.2\n",
    "s = -0.1*df(xx, yy)\n",
    "plt.plot(xx, yy, 'bo', ms=10, zorder=10)\n",
    "plt.plot(1, 1, 'm*', ms=10, zorder=10)\n",
    "arrow = plt.Arrow(xx, yy, s[0], s[1], zorder=10, width=0.5)\n",
    "ax = plt.gca()\n",
    "ax.add_patch(arrow)"
   ]
  },
  {
   "cell_type": "code",
   "execution_count": null,
   "metadata": {},
   "outputs": [],
   "source": [
    "def f(x,y):\n",
    "    a = 1\n",
    "    b = 0.5\n",
    "    return (a - x)**2 + b*(y - x**2)**2"
   ]
  },
  {
   "cell_type": "code",
   "execution_count": null,
   "metadata": {},
   "outputs": [],
   "source": []
  }
 ],
 "metadata": {
  "kernelspec": {
   "display_name": "Python 3 (ipykernel)",
   "language": "python",
   "name": "python3"
  },
  "language_info": {
   "codemirror_mode": {
    "name": "ipython",
    "version": 3
   },
   "file_extension": ".py",
   "mimetype": "text/x-python",
   "name": "python",
   "nbconvert_exporter": "python",
   "pygments_lexer": "ipython3",
   "version": "3.12.11"
  }
 },
 "nbformat": 4,
 "nbformat_minor": 4
}
