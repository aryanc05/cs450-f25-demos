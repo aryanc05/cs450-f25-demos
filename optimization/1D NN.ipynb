{
 "cells": [
  {
   "cell_type": "code",
   "execution_count": null,
   "metadata": {},
   "outputs": [],
   "source": [
    "import numpy as np\n",
    "import matplotlib.pyplot as plt"
   ]
  },
  {
   "cell_type": "markdown",
   "metadata": {},
   "source": [
    "see here: https://peterroelants.github.io/posts/neural-network-implementation-part01/"
   ]
  },
  {
   "cell_type": "markdown",
   "metadata": {},
   "source": [
    "# Simple network\n",
    "\n",
    "Let's define a simple \"network\": one input and one output\n",
    "$$\n",
    "  \\vec{x} \\rightarrow \\vec{y}  \n",
    "$$\n",
    "\n",
    "One weight, $w$, such that\n",
    "$$\n",
    "    \\vec{y} = w \\cdot \\vec{x}\n",
    "$$"
   ]
  },
  {
   "cell_type": "markdown",
   "metadata": {},
   "source": [
    "# Data"
   ]
  },
  {
   "cell_type": "code",
   "execution_count": null,
   "metadata": {},
   "outputs": [],
   "source": [
    "x = np.random.uniform(0, 1, 20)\n",
    "\n",
    "def f(x): \n",
    "    return x * 2\n",
    "\n",
    "noise = 0.2\n",
    "noise = np.random.randn(x.shape[0]) * noise\n",
    "t = f(x) + noise"
   ]
  },
  {
   "cell_type": "code",
   "execution_count": null,
   "metadata": {},
   "outputs": [],
   "source": [
    "plt.plot(x, t, 'o', label=r'targets $\\vec{t}$')\n",
    "plt.plot(x, f(x), 'r-')\n",
    "plt.xlabel(r'inputs $x$')\n",
    "plt.ylabel(r'targets $t$')\n",
    "plt.legend()"
   ]
  },
  {
   "cell_type": "markdown",
   "metadata": {},
   "source": [
    "# Loss Function"
   ]
  },
  {
   "cell_type": "markdown",
   "metadata": {},
   "source": [
    "Let's optimize the model $\\vec{y} = w\\cdot \\vec{x}$ so that loss\n",
    "$$\n",
    "w = \\mathrm{argmin}_{w} \\frac{1}{n}\\sum_{i=1}^{n} \\|t_i - y_i\\|^2\n",
    "$$\n",
    "\n",
    "Take a look..."
   ]
  },
  {
   "cell_type": "code",
   "execution_count": null,
   "metadata": {},
   "outputs": [],
   "source": [
    "def loss(y, t):\n",
    "    return np.mean((t-y)**2)\n",
    "\n",
    "def model(x, w):\n",
    "    return w * x"
   ]
  },
  {
   "cell_type": "code",
   "execution_count": null,
   "metadata": {},
   "outputs": [],
   "source": [
    "W = np.linspace(0,5,100)\n",
    "plt.plot(W, [loss(model(x, w), t) for w in W]);\n",
    "\n",
    "plt.xlabel('$w$')\n",
    "plt.ylabel('loss')"
   ]
  },
  {
   "cell_type": "code",
   "execution_count": null,
   "metadata": {},
   "outputs": [],
   "source": [
    "def dloss(w, x, t):\n",
    "    return 2 * (1/len(x)) * np.sum((-x) * (t - w * x))"
   ]
  },
  {
   "cell_type": "code",
   "execution_count": null,
   "metadata": {},
   "outputs": [],
   "source": [
    "plt.plot(W, [loss(model(x, w), t) for w in W]);\n",
    "plt.xlabel('$w$')\n",
    "plt.ylabel('loss')\n",
    "\n",
    "w = 4\n",
    "mu = 0.5\n",
    "\n",
    "print(f\"w={w} loss={loss(model(x,w), t)}\")\n",
    "plt.plot(w, loss(model(x, w), t), 'rs')\n",
    "\n",
    "for k in range(10):\n",
    "    w = w - mu * dloss(w, x, t)\n",
    "    \n",
    "    print(f\"w={w} loss={loss(model(x,w), t)}\")\n",
    "    plt.plot(w, loss(model(x, w), t), 'rs')"
   ]
  },
  {
   "cell_type": "code",
   "execution_count": null,
   "metadata": {},
   "outputs": [],
   "source": [
    "plt.plot(x, t, 'o', label=r'targets $\\vec{t}$')\n",
    "x = np.sort(x)\n",
    "plt.plot(x, f(x), 'k--')\n",
    "plt.plot(x, w*x, 'r-')\n",
    "plt.xlabel(r'inputs $x$')\n",
    "plt.ylabel(r'targets $t$')\n",
    "plt.legend()"
   ]
  },
  {
   "cell_type": "code",
   "execution_count": null,
   "metadata": {},
   "outputs": [],
   "source": [
    "x"
   ]
  },
  {
   "cell_type": "code",
   "execution_count": null,
   "metadata": {},
   "outputs": [],
   "source": []
  }
 ],
 "metadata": {
  "kernelspec": {
   "display_name": "Python 3 (ipykernel)",
   "language": "python",
   "name": "python3"
  },
  "language_info": {
   "codemirror_mode": {
    "name": "ipython",
    "version": 3
   },
   "file_extension": ".py",
   "mimetype": "text/x-python",
   "name": "python",
   "nbconvert_exporter": "python",
   "pygments_lexer": "ipython3",
   "version": "3.12.11"
  }
 },
 "nbformat": 4,
 "nbformat_minor": 4
}
