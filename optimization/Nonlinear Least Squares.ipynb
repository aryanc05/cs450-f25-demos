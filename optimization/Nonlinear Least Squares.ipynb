{
 "cells": [
  {
   "cell_type": "code",
   "execution_count": null,
   "id": "526270cf-dece-468f-88a5-57a9e83eab3b",
   "metadata": {},
   "outputs": [],
   "source": [
    "import numpy as np\n",
    "import matplotlib.pyplot as plt\n",
    "from scipy.optimize import least_squares"
   ]
  },
  {
   "cell_type": "code",
   "execution_count": null,
   "id": "8582d63c-0176-4b8d-ace2-7dc154d35b8f",
   "metadata": {
    "scrolled": true
   },
   "outputs": [],
   "source": [
    "def f(x, t):\n",
    "    a = x[0]\n",
    "    b = x[1]\n",
    "    c = x[2]\n",
    "    d = x[3]\n",
    "    return a * np.exp(-b*t) * np.cos(c * t + d)\n",
    "\n",
    "x = [2, 3, 30, -0.75]\n",
    "t = np.linspace(0, 1, 50)\n",
    "np.random.seed(450)\n",
    "y = f(x, t)+0.05*np.random.randn(len(t))\n",
    "plt.plot(t, y, 'o')\n",
    "np.savez('data.npz', t=t, y=y)"
   ]
  },
  {
   "cell_type": "markdown",
   "id": "f8f49f90-0d7f-4532-8978-4868b02f0cbc",
   "metadata": {},
   "source": [
    "## Load data\n",
    "\n",
    "Load data $t_i$ and $y_i$.  Then plot it."
   ]
  },
  {
   "cell_type": "code",
   "execution_count": null,
   "id": "f7fa29ef-ec4d-4464-a662-e5127d4f25e8",
   "metadata": {},
   "outputs": [],
   "source": [
    "data = np.load('data.npz')\n",
    "t = data['t']\n",
    "y = data['y']\n",
    "plt.plot(t, y, 'o')"
   ]
  },
  {
   "cell_type": "markdown",
   "id": "17090784-00c2-4c0f-ab32-c8339f1f9830",
   "metadata": {},
   "source": [
    "## Solving the model in 3 ways\n",
    "\n",
    "In the following you will implement two ways to determine parameters $a$, $b$, $c$, and $d$ in the model\n",
    "$$\n",
    "m(t) = a e^{-b t} \\cos(c t + d)\n",
    "$$\n",
    "\n",
    "1. Using `scipy.optimize.least_squares`\n",
    "2. Constructing your own Gauss-Newton method (Using `np.linalg.lstsq`)\n",
    "\n",
    "To do this, you will need at least three functions:"
   ]
  },
  {
   "cell_type": "code",
   "execution_count": null,
   "id": "eb9f9636-9039-4dba-a014-4041ed7129ab",
   "metadata": {},
   "outputs": [],
   "source": [
    "def model(x, t):\n",
    "    a = x[0]\n",
    "    b = x[1]\n",
    "    c = x[2]\n",
    "    d = x[3]\n",
    "    return a * np.exp(-b*t) * np.cos(c * t + d)\n",
    "\n",
    "def residual(x, t, y):\n",
    "    return y - model(x, t)\n",
    "\n",
    "def J(x, t, y):\n",
    "    a = x[0]\n",
    "    b = x[1]\n",
    "    c = x[2]\n",
    "    d = x[3]\n",
    "    return np.array([         -np.exp(-b*t) * np.cos(c * t + d),\n",
    "                     a * t * np.exp(-b*t) * np.cos(c * t + d),\n",
    "                     a * t * np.exp(-b*t) * np.sin(c * t + d),\n",
    "                     a *     np.exp(-b*t) * np.sin(c * t + d)]).T"
   ]
  },
  {
   "cell_type": "markdown",
   "id": "76770010-dc27-4cfb-a8fb-5a339a227b9e",
   "metadata": {},
   "source": [
    "## Find an estimate\n",
    "\n",
    "Find an estimate to parameters $a$, $b$, $c$, and $d$."
   ]
  },
  {
   "cell_type": "code",
   "execution_count": null,
   "id": "84f4cc7c-173e-4bcb-8b87-c4e6301b4b54",
   "metadata": {},
   "outputs": [],
   "source": [
    "x0 = np.array([1, 1, 1, 1])\n",
    "result = least_squares(residual, x0, jac=J, args=(t,y), verbose=2)\n",
    "print(result.x)"
   ]
  },
  {
   "cell_type": "code",
   "execution_count": null,
   "id": "79fd6ba6-9fa7-49f5-a26c-93d27e288661",
   "metadata": {},
   "outputs": [],
   "source": [
    "T = np.linspace(t.min(), t.max(), 200)\n",
    "x = result.x\n",
    "plt.plot(T, model(x, T))\n",
    "plt.plot(T, model([2, 3, 30, -0.75], T), 'r:')\n",
    "plt.plot(t, y, 'o')\n",
    "print(x)"
   ]
  },
  {
   "cell_type": "code",
   "execution_count": null,
   "id": "11fd7928-a8c3-47b6-a5eb-4b9e75942545",
   "metadata": {},
   "outputs": [],
   "source": [
    "x = np.array([2, 3, 30, -0.7])"
   ]
  },
  {
   "cell_type": "code",
   "execution_count": null,
   "id": "02294e15-2ce8-4565-97b0-599f32f88a31",
   "metadata": {},
   "outputs": [],
   "source": [
    "for _ in range(20):\n",
    "    x = x + np.linalg.lstsq(J(x, t, y), -residual(x, t, y))[0]\n",
    "plt.plot(t, y, 'o')\n",
    "plt.plot(T, model(x, T), 'r-')"
   ]
  }
 ],
 "metadata": {
  "kernelspec": {
   "display_name": "Python 3 (ipykernel)",
   "language": "python",
   "name": "python3"
  },
  "language_info": {
   "codemirror_mode": {
    "name": "ipython",
    "version": 3
   },
   "file_extension": ".py",
   "mimetype": "text/x-python",
   "name": "python",
   "nbconvert_exporter": "python",
   "pygments_lexer": "ipython3",
   "version": "3.12.11"
  }
 },
 "nbformat": 4,
 "nbformat_minor": 5
}
