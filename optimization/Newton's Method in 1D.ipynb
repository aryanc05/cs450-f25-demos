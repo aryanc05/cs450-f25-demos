{
 "cells": [
  {
   "cell_type": "markdown",
   "metadata": {},
   "source": [
    "# Newton's method in 1D"
   ]
  },
  {
   "cell_type": "code",
   "execution_count": null,
   "metadata": {},
   "outputs": [],
   "source": [
    "import numpy as np\n",
    "import matplotlib.pyplot as pt"
   ]
  },
  {
   "cell_type": "markdown",
   "metadata": {},
   "source": [
    "Here's a function:"
   ]
  },
  {
   "cell_type": "code",
   "execution_count": null,
   "metadata": {},
   "outputs": [],
   "source": [
    "a = 17.09\n",
    "b = 9.79\n",
    "c = 0.6317\n",
    "d = 0.9324\n",
    "e = 0.4565\n",
    "\n",
    "def f(x):\n",
    "    return a*x**4 + b*x**3 + c*x**2 + d*x + e\n",
    "\n",
    "def df(x):\n",
    "    return 4*a*x**3 + 3*b*x**2 + 2*c*x + d\n",
    "\n",
    "def d2f(x):\n",
    "    return 3*4*a*x**2 + 2*3*b*x + 2*c"
   ]
  },
  {
   "cell_type": "markdown",
   "metadata": {},
   "source": [
    "Let's plot the thing:"
   ]
  },
  {
   "cell_type": "code",
   "execution_count": null,
   "metadata": {},
   "outputs": [],
   "source": [
    "xmesh = np.linspace(-1, 0.5\n",
    "                    , 100)\n",
    "pt.ylim([-1, 3])\n",
    "pt.plot(xmesh, f(xmesh))"
   ]
  },
  {
   "cell_type": "markdown",
   "metadata": {},
   "source": [
    "Let's fix an initial guess:"
   ]
  },
  {
   "cell_type": "code",
   "execution_count": null,
   "metadata": {},
   "outputs": [],
   "source": [
    "x = 0.3"
   ]
  },
  {
   "cell_type": "code",
   "execution_count": null,
   "metadata": {},
   "outputs": [],
   "source": [
    "dfx = df(x)\n",
    "d2fx = d2f(x)\n",
    "\n",
    "# carry out the Newton step\n",
    "xnew = x - dfx / d2fx\n",
    "\n",
    "# plot approximate function\n",
    "pt.plot(xmesh, f(xmesh))\n",
    "pt.plot(xmesh, f(x) + dfx*(xmesh-x) + d2fx*(xmesh-x)**2/2)\n",
    "pt.plot(x, f(x), \"o\", color=\"red\")\n",
    "pt.plot(xnew, f(xnew), \"o\", color=\"green\")\n",
    "pt.ylim([-1, 3])\n",
    "\n",
    "# update\n",
    "x = xnew\n",
    "print(x)"
   ]
  },
  {
   "cell_type": "markdown",
   "metadata": {},
   "source": [
    "* What convergence order does this method achieve?"
   ]
  },
  {
   "cell_type": "code",
   "execution_count": null,
   "metadata": {},
   "outputs": [],
   "source": [
    "#clear\n",
    "# Quadratic, because it's just like doing 'equation-solving Newton' on f'."
   ]
  }
 ],
 "metadata": {
  "kernelspec": {
   "display_name": "Python 3 (ipykernel)",
   "language": "python",
   "name": "python3"
  },
  "language_info": {
   "codemirror_mode": {
    "name": "ipython",
    "version": 3
   },
   "file_extension": ".py",
   "mimetype": "text/x-python",
   "name": "python",
   "nbconvert_exporter": "python",
   "pygments_lexer": "ipython3",
   "version": "3.12.11"
  }
 },
 "nbformat": 4,
 "nbformat_minor": 4
}
