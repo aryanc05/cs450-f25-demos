{
 "cells": [
  {
   "cell_type": "markdown",
   "metadata": {},
   "source": [
    "# Chebyshev polynomials\n",
    "\n",
    "Copyright (C) 2020 Andreas Kloeckner\n",
    "\n",
    "<details>\n",
    "<summary>MIT License</summary>\n",
    "Permission is hereby granted, free of charge, to any person obtaining a copy\n",
    "of this software and associated documentation files (the \"Software\"), to deal\n",
    "in the Software without restriction, including without limitation the rights\n",
    "to use, copy, modify, merge, publish, distribute, sublicense, and/or sell\n",
    "copies of the Software, and to permit persons to whom the Software is\n",
    "furnished to do so, subject to the following conditions:\n",
    "\n",
    "The above copyright notice and this permission notice shall be included in\n",
    "all copies or substantial portions of the Software.\n",
    "\n",
    "THE SOFTWARE IS PROVIDED \"AS IS\", WITHOUT WARRANTY OF ANY KIND, EXPRESS OR\n",
    "IMPLIED, INCLUDING BUT NOT LIMITED TO THE WARRANTIES OF MERCHANTABILITY,\n",
    "FITNESS FOR A PARTICULAR PURPOSE AND NONINFRINGEMENT. IN NO EVENT SHALL THE\n",
    "AUTHORS OR COPYRIGHT HOLDERS BE LIABLE FOR ANY CLAIM, DAMAGES OR OTHER\n",
    "LIABILITY, WHETHER IN AN ACTION OF CONTRACT, TORT OR OTHERWISE, ARISING FROM,\n",
    "OUT OF OR IN CONNECTION WITH THE SOFTWARE OR THE USE OR OTHER DEALINGS IN\n",
    "THE SOFTWARE.\n",
    "</details>"
   ]
  },
  {
   "cell_type": "code",
   "execution_count": null,
   "metadata": {
    "jupyter": {
     "outputs_hidden": false
    }
   },
   "outputs": [],
   "source": [
    "import numpy as np\n",
    "import numpy.linalg as la\n",
    "import matplotlib.pyplot as pt"
   ]
  },
  {
   "cell_type": "markdown",
   "metadata": {},
   "source": [
    "## Part I: Plotting the Chebyshev polynomials"
   ]
  },
  {
   "cell_type": "code",
   "execution_count": null,
   "metadata": {
    "jupyter": {
     "outputs_hidden": false
    }
   },
   "outputs": [],
   "source": [
    "x = np.linspace(-1, 1, 100)\n",
    "\n",
    "pt.xlim([-1.2, 1.2])\n",
    "pt.ylim([-1.2, 1.2])\n",
    "\n",
    "for k in range(10): # crank up\n",
    "    pt.plot(x, np.cos(k*np.arccos(x)))"
   ]
  },
  {
   "cell_type": "markdown",
   "metadata": {},
   "source": [
    "## Part II: Understanding the Nodes\n",
    "\n",
    "What if we interpolate random data?"
   ]
  },
  {
   "cell_type": "code",
   "execution_count": null,
   "metadata": {},
   "outputs": [],
   "source": [
    "n = 50 # crank up"
   ]
  },
  {
   "cell_type": "markdown",
   "metadata": {},
   "source": [
    "### \"Extremal\" Chebyshev Nodes (or: Chebyshev Nodes of the Second Kind)\n",
    "\n",
    "* Most often used for computation\n",
    "* Note: Generates $n+1$ nodes -> drop $k$"
   ]
  },
  {
   "cell_type": "code",
   "execution_count": null,
   "metadata": {},
   "outputs": [],
   "source": [
    "k = n-1\n",
    "\n",
    "i = np.arange(0, k+1)\n",
    "x = np.linspace(-1, 1, 3000)\n",
    "\n",
    "def f(x):\n",
    "    return np.cos(k*np.arccos(x))\n",
    "\n",
    "nodes = np.cos(i/k*np.pi)\n",
    "\n",
    "pt.plot(x, f(x))\n",
    "pt.plot(nodes, f(nodes), \"o\")"
   ]
  },
  {
   "cell_type": "markdown",
   "metadata": {},
   "source": [
    "### Chebyshev Nodes of the First Kind (Roots)\n",
    "\n",
    "* Generates $n$ nodes"
   ]
  },
  {
   "cell_type": "code",
   "execution_count": null,
   "metadata": {},
   "outputs": [],
   "source": [
    "i = np.arange(1, n+1)\n",
    "x = np.linspace(-1, 1, 3000)\n",
    "\n",
    "def f(x):\n",
    "    return np.cos(n*np.arccos(x))\n",
    "\n",
    "nodes = np.cos((2*i-1)/(2*n)*np.pi)\n",
    "\n",
    "pt.plot(x, f(x))\n",
    "pt.plot(nodes, f(nodes), \"o\")"
   ]
  },
  {
   "cell_type": "markdown",
   "metadata": {},
   "source": [
    "### Observe Spacing"
   ]
  },
  {
   "cell_type": "code",
   "execution_count": null,
   "metadata": {},
   "outputs": [],
   "source": [
    "pt.plot(nodes, 0*nodes, \"o\")"
   ]
  },
  {
   "cell_type": "markdown",
   "metadata": {},
   "source": [
    "## Part III: Chebyshev Interpolation"
   ]
  },
  {
   "cell_type": "code",
   "execution_count": null,
   "metadata": {
    "jupyter": {
     "outputs_hidden": false
    }
   },
   "outputs": [],
   "source": [
    "n = 100\n",
    "\n",
    "i = np.arange(n, dtype=np.float64)\n",
    "nodes = np.cos((2*(i+1)-1)/(2*n)*np.pi)\n",
    "\n",
    "V = np.cos(i*np.arccos(nodes.reshape(-1, 1)))\n",
    "if 1:\n",
    "    # random data\n",
    "    data = np.random.randn(n)\n",
    "else:\n",
    "    # Runge's example\n",
    "    data = 1/(1+25*nodes**2)\n",
    "    \n",
    "coeffs = la.solve(V, data)"
   ]
  },
  {
   "cell_type": "code",
   "execution_count": null,
   "metadata": {
    "jupyter": {
     "outputs_hidden": false
    }
   },
   "outputs": [],
   "source": [
    "x = np.linspace(-1, 1, 1000)\n",
    "Vfull = np.cos(i*np.arccos(x.reshape(-1, 1)))\n",
    "pt.plot(x, np.dot(Vfull, coeffs))\n",
    "pt.plot(nodes, data, \"o\")"
   ]
  },
  {
   "cell_type": "markdown",
   "metadata": {},
   "source": [
    "## Part IV: Conditioning"
   ]
  },
  {
   "cell_type": "code",
   "execution_count": null,
   "metadata": {
    "jupyter": {
     "outputs_hidden": false
    }
   },
   "outputs": [],
   "source": [
    "n = 10 # crank up\n",
    "\n",
    "i = np.arange(n, dtype=np.float64)\n",
    "nodes = np.cos((2*(i+1)-1)/(2*n)*np.pi)\n",
    "V = np.cos(i*np.arccos(nodes.reshape(-1, 1)))\n",
    "\n",
    "la.cond(V)"
   ]
  },
  {
   "cell_type": "markdown",
   "metadata": {
    "jupyter": {
     "outputs_hidden": false
    }
   },
   "source": [
    "## Part V: Error Result\n",
    "\n",
    "Plot the product term from the estimate of truncation error in interpolation for the Chebyshev nodes:\n",
    "$$\\left|\\prod_{i=1}^n (x-x_i)\\right| $$"
   ]
  },
  {
   "cell_type": "code",
   "execution_count": null,
   "metadata": {},
   "outputs": [],
   "source": [
    "def plot_err_prod(nodes, label):\n",
    "    eval_pts = np.linspace(-1, 1, 30000)\n",
    "\n",
    "    product = 1\n",
    "    for xi in nodes:\n",
    "        product = product*(eval_pts-xi)\n",
    "    pt.plot(eval_pts, np.abs(product), label=label)"
   ]
  },
  {
   "cell_type": "code",
   "execution_count": null,
   "metadata": {},
   "outputs": [],
   "source": [
    "n = 10 # crank up\n",
    "\n",
    "i = np.arange(n, dtype=np.float64)\n",
    "cheb_nodes = np.cos((2*(i+1)-1)/(2*n)*np.pi)\n",
    "plot_err_prod(cheb_nodes, label=\"Chebyshev\")\n",
    "\n",
    "if 0:\n",
    "    nodes = np.linspace(-1, 1, n)\n",
    "    plot_err_prod(nodes, label=\"equispaced\")\n",
    "elif 0:\n",
    "    nodes = cheb_nodes.copy()\n",
    "    nodes[3] += 0.1\n",
    "    plot_err_prod(nodes, label=\"Perturbed\")\n",
    "\n",
    "pt.legend()"
   ]
  },
  {
   "cell_type": "code",
   "execution_count": null,
   "metadata": {},
   "outputs": [],
   "source": []
  }
 ],
 "metadata": {
  "kernelspec": {
   "display_name": "Python 3 (ipykernel)",
   "language": "python",
   "name": "python3"
  },
  "language_info": {
   "codemirror_mode": {
    "name": "ipython",
    "version": 3
   },
   "file_extension": ".py",
   "mimetype": "text/x-python",
   "name": "python",
   "nbconvert_exporter": "python",
   "pygments_lexer": "ipython3",
   "version": "3.10.0+"
  }
 },
 "nbformat": 4,
 "nbformat_minor": 4
}
