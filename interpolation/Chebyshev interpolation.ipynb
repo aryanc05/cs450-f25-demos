{
 "cells": [
  {
   "cell_type": "markdown",
   "metadata": {},
   "source": [
    "# Chebyshev polynomials"
   ]
  },
  {
   "cell_type": "code",
   "execution_count": null,
   "metadata": {},
   "outputs": [],
   "source": [
    "import numpy as np\n",
    "import numpy.linalg as la\n",
    "import matplotlib.pyplot as pt"
   ]
  },
  {
   "cell_type": "markdown",
   "metadata": {},
   "source": [
    "## Part I: Plotting the Chebyshev polynomials"
   ]
  },
  {
   "cell_type": "code",
   "execution_count": null,
   "metadata": {},
   "outputs": [],
   "source": [
    "x = np.linspace(-1, 1, 100)\n",
    "\n",
    "pt.xlim([-1.2, 1.2])\n",
    "pt.ylim([-1.2, 1.2])\n",
    "\n",
    "for k in range(5): # crank up\n",
    "    pt.plot(x, np.cos(k*np.arccos(x)), lw=4)"
   ]
  },
  {
   "cell_type": "markdown",
   "metadata": {},
   "source": [
    "## Part II: Understanding the Nodes\n",
    "\n",
    "What if we interpolate random data?"
   ]
  },
  {
   "cell_type": "code",
   "execution_count": null,
   "metadata": {},
   "outputs": [],
   "source": [
    "n = 20 # crank up"
   ]
  },
  {
   "cell_type": "markdown",
   "metadata": {},
   "source": [
    "### \"Extremal\" Chebyshev Nodes (or: Chebyshev Nodes of the Second Kind)\n",
    "\n",
    "* Most often used for computation\n",
    "* Note: Generates $n+1$ nodes -> drop $k$"
   ]
  },
  {
   "cell_type": "code",
   "execution_count": null,
   "metadata": {},
   "outputs": [],
   "source": [
    "k = n-1\n",
    "\n",
    "i = np.arange(0, k+1)\n",
    "x = np.linspace(-1, 1, 3000)\n",
    "\n",
    "def f(x):\n",
    "    return np.cos(k*np.arccos(x))\n",
    "\n",
    "nodes = np.cos(i/k*np.pi)\n",
    "\n",
    "pt.plot(x, f(x))\n",
    "pt.plot(nodes, f(nodes), \"o\")"
   ]
  },
  {
   "cell_type": "markdown",
   "metadata": {},
   "source": [
    "### Chebyshev Nodes of the First Kind (Roots)\n",
    "\n",
    "* Generates $n$ nodes"
   ]
  },
  {
   "cell_type": "code",
   "execution_count": null,
   "metadata": {},
   "outputs": [],
   "source": [
    "i = np.arange(1, n+1)\n",
    "x = np.linspace(-1, 1, 3000)\n",
    "\n",
    "def f(x):\n",
    "    return np.cos(n*np.arccos(x))\n",
    "\n",
    "nodes = np.cos((2*i-1)/(2*n)*np.pi)\n",
    "\n",
    "pt.plot(x, f(x))\n",
    "pt.plot(nodes, f(nodes), \"o\")"
   ]
  },
  {
   "cell_type": "markdown",
   "metadata": {},
   "source": [
    "### Observe Spacing"
   ]
  },
  {
   "cell_type": "code",
   "execution_count": null,
   "metadata": {},
   "outputs": [],
   "source": [
    "pt.plot(nodes, 0*nodes, \"o\")"
   ]
  },
  {
   "cell_type": "markdown",
   "metadata": {},
   "source": [
    "## Part III: Chebyshev Interpolation"
   ]
  },
  {
   "cell_type": "code",
   "execution_count": null,
   "metadata": {},
   "outputs": [],
   "source": [
    "V = np.cos(i*np.arccos(nodes.reshape(-1, 1)))\n",
    "data = np.random.randn(n)\n",
    "coeffs = la.solve(V, data)"
   ]
  },
  {
   "cell_type": "code",
   "execution_count": null,
   "metadata": {},
   "outputs": [],
   "source": [
    "x = np.linspace(-1, 1, 1000)\n",
    "Vfull = np.cos(i*np.arccos(x.reshape(-1, 1)))\n",
    "pt.plot(x, np.dot(Vfull, coeffs))\n",
    "pt.plot(nodes, data, \"o\")"
   ]
  },
  {
   "cell_type": "markdown",
   "metadata": {},
   "source": [
    "## Part IV: Conditioning"
   ]
  },
  {
   "cell_type": "code",
   "execution_count": null,
   "metadata": {},
   "outputs": [],
   "source": [
    "n = 100 # crank up\n",
    "\n",
    "i = np.arange(n, dtype=np.float64)\n",
    "nodes = np.cos((2*(i+1)-1)/(2*n)*np.pi)\n",
    "V = np.cos(i*np.arccos(nodes.reshape(-1, 1)))\n",
    "\n",
    "la.cond(V)"
   ]
  },
  {
   "cell_type": "code",
   "execution_count": null,
   "metadata": {},
   "outputs": [],
   "source": []
  },
  {
   "cell_type": "code",
   "execution_count": null,
   "metadata": {},
   "outputs": [],
   "source": []
  }
 ],
 "metadata": {
  "kernelspec": {
   "display_name": "Python 3",
   "language": "python",
   "name": "python3"
  },
  "language_info": {
   "codemirror_mode": {
    "name": "ipython",
    "version": 3
   },
   "file_extension": ".py",
   "mimetype": "text/x-python",
   "name": "python",
   "nbconvert_exporter": "python",
   "pygments_lexer": "ipython3",
   "version": "3.7.5"
  }
 },
 "nbformat": 4,
 "nbformat_minor": 2
}
