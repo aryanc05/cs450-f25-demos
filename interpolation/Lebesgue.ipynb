{
 "cells": [
  {
   "cell_type": "code",
   "execution_count": null,
   "metadata": {},
   "outputs": [],
   "source": [
    "import numpy as np\n",
    "import matplotlib.pyplot as plt\n"
   ]
  },
  {
   "cell_type": "code",
   "execution_count": null,
   "metadata": {},
   "outputs": [],
   "source": [
    "def lagrange(i, x, xx):\n",
    "    L = np.ones(len(xx))\n",
    "    \n",
    "    for j in range(len(x)):\n",
    "        if j != i:\n",
    "            L *= (xx - x[j]) / (x[i] - x[j])    \n",
    "    return L\n",
    "\n",
    "def lebesgue(x, xx):\n",
    "    L = np.zeros(len(xx))\n",
    "    for i in range(len(x)):\n",
    "        yy = lagrange(i, x, xx)\n",
    "        L += np.abs(yy)\n",
    "        \n",
    "    return L"
   ]
  },
  {
   "cell_type": "code",
   "execution_count": null,
   "metadata": {},
   "outputs": [],
   "source": [
    "xx = np.linspace(-1,1,10000)\n",
    "x = np.linspace(-1,1,12)\n",
    "#k = 15\n",
    "#x = np.cos((2*np.arange(1,k+1)-1)/(2*k) * np.pi)\n",
    "plt.plot(x, 0*x, 'ko')\n",
    "plt.plot(x, 1+0*x, 'ko')\n",
    "\n",
    "for i in range(len(x)):\n",
    "    yy = lagrange(i, x, xx)\n",
    "    plt.plot(xx, yy)"
   ]
  },
  {
   "cell_type": "code",
   "execution_count": null,
   "metadata": {},
   "outputs": [],
   "source": [
    "L = lebesgue(x, xx)\n",
    "\n",
    "plt.plot(xx, L)"
   ]
  },
  {
   "cell_type": "code",
   "execution_count": null,
   "metadata": {},
   "outputs": [],
   "source": []
  },
  {
   "cell_type": "code",
   "execution_count": null,
   "metadata": {},
   "outputs": [],
   "source": []
  }
 ],
 "metadata": {
  "kernelspec": {
   "display_name": "Python 3 (ipykernel)",
   "language": "python",
   "name": "python3"
  },
  "language_info": {
   "codemirror_mode": {
    "name": "ipython",
    "version": 3
   },
   "file_extension": ".py",
   "mimetype": "text/x-python",
   "name": "python",
   "nbconvert_exporter": "python",
   "pygments_lexer": "ipython3",
   "version": "3.12.11"
  }
 },
 "nbformat": 4,
 "nbformat_minor": 4
}
