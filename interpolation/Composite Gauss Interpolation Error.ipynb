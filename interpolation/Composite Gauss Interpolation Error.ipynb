{
 "cells": [
  {
   "cell_type": "code",
   "execution_count": null,
   "id": "5cf4de43",
   "metadata": {},
   "outputs": [],
   "source": [
    "from __future__ import division\n",
    "import numpy as np\n",
    "import scipy as sp\n",
    "import scipy.special as ss\n",
    "import matplotlib.pyplot as pt\n",
    "import numpy.linalg as la\n",
    "\n",
    "%pylab inline"
   ]
  },
  {
   "cell_type": "code",
   "execution_count": null,
   "id": "a8feac06",
   "metadata": {},
   "outputs": [],
   "source": [
    "nelements = 5\n",
    "nnodes = 3\n",
    "mesh = np.linspace(-1, 1, nelements+1, endpoint=True)\n",
    "gauss_nodes = ss.legendre(nnodes).weights[:, 0]*0.5 + 0.5\n",
    "\n",
    "widths = np.diff(mesh)\n",
    "nodes = mesh[:-1, np.newaxis] + widths[:, np.newaxis] * gauss_nodes"
   ]
  },
  {
   "cell_type": "code",
   "execution_count": null,
   "id": "04b31bc3",
   "metadata": {},
   "outputs": [],
   "source": [
    "def f(x):\n",
    "    return np.abs(x-0.123812378)\n",
    "\n",
    "pt.plot(nodes.flat, f(nodes).flat)"
   ]
  },
  {
   "cell_type": "code",
   "execution_count": null,
   "id": "ac131d0c",
   "metadata": {},
   "outputs": [],
   "source": [
    "nmany_nodes = 32\n",
    "\n",
    "many_gauss_nodes = ss.legendre(nmany_nodes).weights[:, 0]*0.5 + 0.5\n",
    "many_nodes = mesh[:-1, np.newaxis] + widths[:, np.newaxis] * many_gauss_nodes\n",
    "\n",
    "def legendre_vdm(nodes, nmodes):\n",
    "    result = np.empty((len(nodes), nmodes))\n",
    "    for i in xrange(nmodes):\n",
    "        result[:, i] = ss.eval_legendre(i, nodes)\n",
    "    return result\n",
    "\n",
    "vdm = legendre_vdm(gauss_nodes, nnodes)\n",
    "many_vdm = legendre_vdm(many_gauss_nodes, nnodes)\n",
    "zero_pad = np.zeros((nmany_nodes, nnodes))\n",
    "zero_pad[:nnodes, :nnodes] = np.eye(nnodes)\n",
    "upterpolate = np.dot(many_vdm, la.inv(vdm))"
   ]
  },
  {
   "cell_type": "code",
   "execution_count": null,
   "id": "0166bc8c",
   "metadata": {},
   "outputs": [],
   "source": [
    "fnodes = f(nodes)\n",
    "fmany_nodes = np.dot(upterpolate, fnodes.T).T\n",
    "pt.plot(many_nodes.flat, fmany_nodes.flat)"
   ]
  },
  {
   "cell_type": "code",
   "execution_count": null,
   "id": "45c5c983",
   "metadata": {},
   "outputs": [],
   "source": []
  }
 ],
 "metadata": {},
 "nbformat": 4,
 "nbformat_minor": 5
}
