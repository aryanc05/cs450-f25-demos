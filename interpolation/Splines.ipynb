{
 "cells": [
  {
   "cell_type": "code",
   "execution_count": null,
   "id": "ecc27d11-8db2-48ae-b964-5e9bed2e9dc7",
   "metadata": {},
   "outputs": [],
   "source": [
    "import numpy as np\n",
    "import scipy as sp"
   ]
  },
  {
   "cell_type": "code",
   "execution_count": null,
   "id": "bf1e8e69-7639-4052-ad36-35bddb2814a5",
   "metadata": {},
   "outputs": [],
   "source": [
    "import matplotlib.pyplot as plt"
   ]
  },
  {
   "cell_type": "code",
   "execution_count": null,
   "id": "de5c9387-f528-497f-9492-e398b228090c",
   "metadata": {},
   "outputs": [],
   "source": [
    "np.random.seed(450)\n",
    "\n",
    "n = 20\n",
    "y = np.random.rand(n)\n",
    "t = np.linspace(0, 10, n)"
   ]
  },
  {
   "cell_type": "code",
   "execution_count": null,
   "id": "40262a20-24a1-46c5-8599-52c84f1d0cc8",
   "metadata": {},
   "outputs": [],
   "source": [
    "plt.plot(t, y, 'ro')"
   ]
  },
  {
   "cell_type": "code",
   "execution_count": null,
   "id": "10e9ce99-d182-4367-83cd-752b26a52ae7",
   "metadata": {},
   "outputs": [],
   "source": [
    "s = sp.interpolate.CubicSpline(t, y, bc_type='natural')"
   ]
  },
  {
   "cell_type": "code",
   "execution_count": null,
   "id": "c376ee8f-0bb2-440c-aeba-ce05d5484cd3",
   "metadata": {},
   "outputs": [],
   "source": [
    "T = np.linspace(t.min(), t.max(), 1000)\n",
    "plt.plot(T, s(T), 'b')\n",
    "plt.plot(t, y, 'ro')"
   ]
  },
  {
   "cell_type": "code",
   "execution_count": null,
   "id": "92daba46-3d20-4136-984f-9923409c3712",
   "metadata": {},
   "outputs": [],
   "source": []
  }
 ],
 "metadata": {
  "kernelspec": {
   "display_name": "Python 3 (ipykernel)",
   "language": "python",
   "name": "python3"
  },
  "language_info": {
   "codemirror_mode": {
    "name": "ipython",
    "version": 3
   },
   "file_extension": ".py",
   "mimetype": "text/x-python",
   "name": "python",
   "nbconvert_exporter": "python",
   "pygments_lexer": "ipython3",
   "version": "3.12.11"
  }
 },
 "nbformat": 4,
 "nbformat_minor": 5
}
