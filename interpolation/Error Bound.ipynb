{
 "cells": [
  {
   "cell_type": "code",
   "execution_count": null,
   "metadata": {},
   "outputs": [],
   "source": [
    "import numpy as np\n",
    "import matplotlib.pyplot as plt"
   ]
  },
  {
   "cell_type": "code",
   "execution_count": null,
   "metadata": {},
   "outputs": [],
   "source": [
    "def psi(t, tpts):\n",
    "    z = np.ones_like(t)\n",
    "    for ti in tpts:\n",
    "        z *= (t - ti)\n",
    "    return z"
   ]
  },
  {
   "cell_type": "code",
   "execution_count": null,
   "metadata": {},
   "outputs": [],
   "source": [
    "n = 12\n",
    "tpts = np.linspace(0,1,n)\n",
    "tpts = (np.cos((2*np.arange(1,n+1)-1)/(2*n) * np.pi) + 1) / 2\n",
    "t = np.linspace(0,1,1000)\n",
    "\n",
    "m = np.abs(psi(t, tpts)).max()\n",
    "plt.hlines(0, t.min(), t.max(), 'r', lw=0.5)\n",
    "plt.vlines(0.5, -m, m, 'r', lw=0.5)\n",
    "\n",
    "plt.plot(t, psi(t, tpts))"
   ]
  }
 ],
 "metadata": {
  "kernelspec": {
   "display_name": "Python 3 (ipykernel)",
   "language": "python",
   "name": "python3"
  },
  "language_info": {
   "codemirror_mode": {
    "name": "ipython",
    "version": 3
   },
   "file_extension": ".py",
   "mimetype": "text/x-python",
   "name": "python",
   "nbconvert_exporter": "python",
   "pygments_lexer": "ipython3",
   "version": "3.12.11"
  }
 },
 "nbformat": 4,
 "nbformat_minor": 4
}
