{
 "cells": [
  {
   "cell_type": "markdown",
   "metadata": {},
   "source": [
    "# Density of Floating Point Numbers\n",
    "\n",
    "This notebook enumerates all possible floating point nubmers in a floating point system and shows them in a plot to illustrate their density."
   ]
  },
  {
   "cell_type": "code",
   "execution_count": null,
   "metadata": {},
   "outputs": [],
   "source": [
    "import matplotlib.pyplot as pt\n",
    "import numpy as np"
   ]
  },
  {
   "cell_type": "code",
   "execution_count": null,
   "metadata": {
    "collapsed": false,
    "jupyter": {
     "outputs_hidden": false
    }
   },
   "outputs": [],
   "source": [
    "significand_bits = 4\n",
    "exponent_min = -3\n",
    "exponent_max = 4\n",
    "\n",
    "fp_numbers = []\n",
    "for exp in range(exponent_min, exponent_max+1):\n",
    "    for sbits in range(0, 2**significand_bits):\n",
    "        significand = 1 + sbits/2**significand_bits \n",
    "        fp_numbers.append(significand * 2**exp)\n",
    "        \n",
    "fp_numbers = np.array(fp_numbers)\n",
    "print(fp_numbers)\n",
    "\n",
    "pt.plot(fp_numbers, np.ones_like(fp_numbers), \"+\")\n",
    "#pt.semilogx(fp_numbers, np.ones_like(fp_numbers), \"+\")\n",
    "        "
   ]
  },
  {
   "cell_type": "code",
   "execution_count": null,
   "metadata": {},
   "outputs": [],
   "source": []
  }
 ],
 "metadata": {
  "kernelspec": {
   "display_name": "Python 3",
   "language": "python",
   "name": "python3"
  },
  "language_info": {
   "codemirror_mode": {
    "name": "ipython",
    "version": 3
   },
   "file_extension": ".py",
   "mimetype": "text/x-python",
   "name": "python",
   "nbconvert_exporter": "python",
   "pygments_lexer": "ipython3",
   "version": "3.8.5"
  }
 },
 "nbformat": 4,
 "nbformat_minor": 4
}
