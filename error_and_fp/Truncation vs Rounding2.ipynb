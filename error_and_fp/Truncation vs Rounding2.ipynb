{
 "cells": [
  {
   "cell_type": "code",
   "execution_count": null,
   "metadata": {},
   "outputs": [],
   "source": [
    "import numpy as np\n",
    "import matplotlib.pyplot as plt"
   ]
  },
  {
   "cell_type": "code",
   "execution_count": null,
   "metadata": {},
   "outputs": [],
   "source": [
    "def f(x):\n",
    "    return np.sin(x)\n",
    "\n",
    "def df(x):\n",
    "    return np.cos(x)"
   ]
  },
  {
   "cell_type": "code",
   "execution_count": null,
   "metadata": {},
   "outputs": [],
   "source": [
    "hlist = np.logspace(0,-16,40)\n",
    "\n",
    "plt.semilogx(hlist, 0*hlist, '|')\n",
    "plt.xlabel('h')"
   ]
  },
  {
   "cell_type": "code",
   "execution_count": null,
   "metadata": {},
   "outputs": [],
   "source": [
    "x = 1\n",
    "errors = []\n",
    "\n",
    "for h in hlist:\n",
    "    approxdf = (f(x+h) - f(x)) / h\n",
    "    error = np.abs(df(x) - approxdf)\n",
    "    errors.append(error)\n",
    "    \n",
    "errors = np.array(errors)"
   ]
  },
  {
   "cell_type": "code",
   "execution_count": null,
   "metadata": {},
   "outputs": [],
   "source": [
    "plt.loglog(hlist, errors)\n",
    "plt.xlabel('h')\n",
    "plt.ylabel('error in the derivative')\n",
    "plt.grid(True)"
   ]
  },
  {
   "cell_type": "code",
   "execution_count": null,
   "metadata": {},
   "outputs": [],
   "source": [
    "plt.loglog(hlist, errors)\n",
    "c = errors[0] / hlist[0]\n",
    "plt.loglog(hlist, c * hlist , lw=3, zorder=-1)\n",
    "plt.xlabel('h')\n",
    "plt.ylabel('error in the derivative')\n",
    "plt.grid(True)"
   ]
  },
  {
   "cell_type": "code",
   "execution_count": null,
   "metadata": {},
   "outputs": [],
   "source": [
    "plt.loglog(hlist, errors)\n",
    "c = errors[0] / hlist[0]\n",
    "plt.loglog(hlist, c*hlist, lw=3, zorder=-1)\n",
    "\n",
    "eps = 2**-53\n",
    "plt.loglog(hlist, 2 * eps / hlist, lw=3, zorder=-2)\n",
    "\n",
    "hopt = np.sqrt(2*eps/c)\n",
    "plt.plot(hopt, np.abs(df(x) - (f(x+hopt)-f(x))/hopt), 'ms')\n",
    "plt.xlabel('h')\n",
    "plt.ylabel('error in the derivative')\n",
    "plt.grid(True)"
   ]
  },
  {
   "cell_type": "code",
   "execution_count": null,
   "metadata": {},
   "outputs": [],
   "source": [
    "2**-52 / 2"
   ]
  },
  {
   "cell_type": "code",
   "execution_count": null,
   "metadata": {},
   "outputs": [],
   "source": []
  }
 ],
 "metadata": {
  "kernelspec": {
   "display_name": "Python 3 (ipykernel)",
   "language": "python",
   "name": "python3"
  },
  "language_info": {
   "codemirror_mode": {
    "name": "ipython",
    "version": 3
   },
   "file_extension": ".py",
   "mimetype": "text/x-python",
   "name": "python",
   "nbconvert_exporter": "python",
   "pygments_lexer": "ipython3",
   "version": "3.12.11"
  }
 },
 "nbformat": 4,
 "nbformat_minor": 4
}
