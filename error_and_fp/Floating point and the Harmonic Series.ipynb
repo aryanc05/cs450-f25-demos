{
 "cells": [
  {
   "cell_type": "markdown",
   "metadata": {},
   "source": [
    "# Floating Point and the Harmonic Series\n",
    "\n",
    "You may know from math that\n",
    "$$\n",
    "\\sum_{n=1}^\\infty \\frac 1n=\\infty.\n",
    "$$\n",
    "Let's see what we get using floating point:"
   ]
  },
  {
   "cell_type": "code",
   "execution_count": 1,
   "metadata": {},
   "outputs": [],
   "source": [
    "import numpy as np"
   ]
  },
  {
   "cell_type": "code",
   "execution_count": 6,
   "metadata": {
    "collapsed": false,
    "jupyter": {
     "outputs_hidden": false
    }
   },
   "outputs": [
    {
     "name": "stdout",
     "output_type": "stream",
     "text": [
      "1/n = 5e-06, sum0 = 12.7828\n",
      "1/n = 2.5e-06, sum0 = 13.4814\n",
      "1/n = 1.66667e-06, sum0 = 13.8814\n",
      "1/n = 1.25e-06, sum0 = 14.1666\n",
      "1/n = 1e-06, sum0 = 14.3574\n",
      "1/n = 8.33333e-07, sum0 = 14.5481\n",
      "1/n = 7.14286e-07, sum0 = 14.7388\n",
      "1/n = 6.25e-07, sum0 = 14.9296\n",
      "1/n = 5.55556e-07, sum0 = 15.1203\n",
      "1/n = 5e-07, sum0 = 15.311\n",
      "1/n = 4.76837e-07, sum0 = 15.4037\n"
     ]
    }
   ],
   "source": [
    "n = int(0)\n",
    "\n",
    "float_type = np.float32\n",
    "\n",
    "my_sum = float_type(0)\n",
    "\n",
    "while True:\n",
    "    n += 1\n",
    "    last_sum = my_sum\n",
    "    my_sum += float_type(1 / n)\n",
    "    \n",
    "    if n % 200000 == 0:\n",
    "        print(\"1/n = %g, sum0 = %g\"%(1.0/n, my_sum))\n",
    "        \n",
    "    if my_sum == last_sum:\n",
    "        print(\"1/n = %g, sum0 = %g\"%(1.0/n, my_sum))\n",
    "        break"
   ]
  },
  {
   "cell_type": "code",
   "execution_count": 2,
   "metadata": {
    "collapsed": false,
    "jupyter": {
     "outputs_hidden": false
    }
   },
   "outputs": [],
   "source": []
  }
 ],
 "metadata": {
  "kernelspec": {
   "display_name": "Python 3",
   "language": "python",
   "name": "python3"
  },
  "language_info": {
   "codemirror_mode": {
    "name": "ipython",
    "version": 3
   },
   "file_extension": ".py",
   "mimetype": "text/x-python",
   "name": "python",
   "nbconvert_exporter": "python",
   "pygments_lexer": "ipython3",
   "version": "3.8.5"
  }
 },
 "nbformat": 4,
 "nbformat_minor": 4
}
