{
 "cells": [
  {
   "cell_type": "markdown",
   "metadata": {
    "tags": []
   },
   "source": [
    "# Density of Floating Point Numbers\n",
    "\n",
    "This notebook enumerates all possible floating point nubmers in a floating point system and shows them in a plot to illustrate their density."
   ]
  },
  {
   "cell_type": "code",
   "execution_count": null,
   "metadata": {
    "tags": []
   },
   "outputs": [],
   "source": [
    "import matplotlib.pyplot as pt\n",
    "import numpy as np"
   ]
  },
  {
   "cell_type": "code",
   "execution_count": null,
   "metadata": {
    "jupyter": {
     "outputs_hidden": false
    }
   },
   "outputs": [],
   "source": [
    "significand_bits = 4\n",
    "exponent_min = -3\n",
    "exponent_max = 4\n",
    "\n",
    "fp_numbers = []\n",
    "for exp in range(exponent_min, exponent_max+1):\n",
    "    for sbits in range(0, 2**significand_bits):\n",
    "        significand = 1 + sbits/2**significand_bits \n",
    "        fp_numbers.append(significand * 2**exp)\n",
    "        \n",
    "fp_numbers = np.array(fp_numbers)\n",
    "print(fp_numbers)\n",
    "\n",
    "pt.plot(fp_numbers, np.ones_like(fp_numbers), \"|\")\n",
    "#pt.semilogx(fp_numbers, np.ones_like(fp_numbers), \"+\")\n",
    "        "
   ]
  },
  {
   "cell_type": "markdown",
   "metadata": {},
   "source": [
    "Relative gap size between consecutive floating point numbers. Notice that the maximum is achieved at $1$."
   ]
  },
  {
   "cell_type": "code",
   "execution_count": null,
   "metadata": {},
   "outputs": [],
   "source": [
    "pt.plot(\n",
    "    np.abs(fp_numbers[1:]-fp_numbers[:-1])\n",
    "    / np.abs(fp_numbers[:-1]))\n",
    "\n",
    "n_one = int(np.argwhere(np.abs(fp_numbers-1) < 1e-12))\n",
    "pt.plot([n_one], np.abs(fp_numbers[n_one+1] - fp_numbers[n_one]), 'r*')"
   ]
  },
  {
   "cell_type": "code",
   "execution_count": null,
   "metadata": {},
   "outputs": [],
   "source": [
    "eps = 2**(-53)\n",
    "print(1, 1+eps, eps)"
   ]
  },
  {
   "cell_type": "code",
   "execution_count": null,
   "metadata": {},
   "outputs": [],
   "source": [
    "2**-52"
   ]
  },
  {
   "cell_type": "markdown",
   "metadata": {},
   "source": [
    "## What about subnormals?"
   ]
  },
  {
   "cell_type": "code",
   "execution_count": null,
   "metadata": {},
   "outputs": [],
   "source": [
    "subnormals = []\n",
    "exp = exponent_min\n",
    "for sbits in range(0, 2**significand_bits):\n",
    "    significand = sbits / 2**significand_bits\n",
    "    subnormals.append(significand * 2**exp)\n",
    "subnormals = np.array(subnormals)\n",
    "\n",
    "print(subnormals)\n",
    "pt.plot(subnormals, np.ones_like(subnormals), \"+\")"
   ]
  },
  {
   "cell_type": "code",
   "execution_count": null,
   "metadata": {},
   "outputs": [],
   "source": [
    "fnws = np.concatenate([subnormals, fp_numbers])\n",
    "\n",
    "pt.plot(np.abs(fnws[1:]-fnws[:-1])/np.abs(fnws[:-1]))\n",
    "pt.axvline(x=len(subnormals), color='r', linestyle='--')"
   ]
  },
  {
   "cell_type": "code",
   "execution_count": null,
   "metadata": {},
   "outputs": [],
   "source": []
  }
 ],
 "metadata": {
  "kernelspec": {
   "display_name": "Python 3 (ipykernel)",
   "language": "python",
   "name": "python3"
  },
  "language_info": {
   "codemirror_mode": {
    "name": "ipython",
    "version": 3
   },
   "file_extension": ".py",
   "mimetype": "text/x-python",
   "name": "python",
   "nbconvert_exporter": "python",
   "pygments_lexer": "ipython3",
   "version": "3.12.11"
  }
 },
 "nbformat": 4,
 "nbformat_minor": 4
}
