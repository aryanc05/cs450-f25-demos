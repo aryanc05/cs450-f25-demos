{
 "cells": [
  {
   "cell_type": "markdown",
   "metadata": {},
   "source": [
    "# Picking apart a floating point number"
   ]
  },
  {
   "cell_type": "markdown",
   "metadata": {},
   "source": [
    "https://en.wikipedia.org/wiki/Double-precision_floating-point_format#Double-precision_examples"
   ]
  },
  {
   "cell_type": "code",
   "execution_count": null,
   "metadata": {
    "collapsed": false,
    "jupyter": {
     "outputs_hidden": false
    }
   },
   "outputs": [],
   "source": [
    "import struct\n",
    "\n",
    "def double2bin(x, precision='double'):\n",
    "    if precision == 'double':\n",
    "        s = struct.unpack(\">Q\", struct.pack(\">d\", x))[0]  # pack as a double, unpack as unsigned long long\n",
    "        b = f'{s:064b}' # print to string as binary and force 64 bits\n",
    "    \n",
    "    if precision == 'single':\n",
    "        s = struct.unpack(\">L\", struct.pack(\">f\", x))[0]  # pack as a single, unpack as unsigned long\n",
    "        b = f'{s:032b}' # print to string as binary and force 32 bits\n",
    "\n",
    "    return b\n",
    "\n",
    "def printbits(b):\n",
    "    if len(b) == 32:\n",
    "        esize = 8\n",
    "        offset = -127\n",
    "    elif len(b) == 64:\n",
    "        esize = 11\n",
    "        offset = -1023\n",
    "    else:\n",
    "        raise ValueError('only 32 or 64 bit')\n",
    "    sign = b[0]\n",
    "    exponent = b[1:1+esize]\n",
    "    significand = b[1+esize:]\n",
    "\n",
    "    print(f'          Sign bit: {sign}')\n",
    "    print(f'(shifted) Exponent: {exponent} ({int(exponent, 2)} -> {offset+int(exponent, 2)})')\n",
    "    print(f'       Significand: 1.{significand}')\n",
    "    print(\"                      |         |         |         |         |         | \")\n",
    "    print(\"                      0         1         2         3         4         5 \")\n",
    "    print(\"                      0123456789012345678901234567890123456789012345678901\")"
   ]
  },
  {
   "cell_type": "code",
   "execution_count": null,
   "metadata": {
    "collapsed": false,
    "jupyter": {
     "outputs_hidden": false
    }
   },
   "outputs": [],
   "source": [
    "printbits(double2bin(0.25, precision='single'))"
   ]
  },
  {
   "cell_type": "markdown",
   "metadata": {},
   "source": [
    "Things to try:\n",
    "\n",
    "* Twiddle the sign bit\n",
    "* 1,2,4,8\n",
    "* 0.5,0.25\n",
    "* $2^{\\pm 1023}$, $2^{\\pm 1024}$\n",
    "* `float(\"nan\")`"
   ]
  }
 ],
 "metadata": {
  "kernelspec": {
   "display_name": "Python 3",
   "language": "python",
   "name": "python3"
  },
  "language_info": {
   "codemirror_mode": {
    "name": "ipython",
    "version": 3
   },
   "file_extension": ".py",
   "mimetype": "text/x-python",
   "name": "python",
   "nbconvert_exporter": "python",
   "pygments_lexer": "ipython3",
   "version": "3.8.5"
  }
 },
 "nbformat": 4,
 "nbformat_minor": 4
}
