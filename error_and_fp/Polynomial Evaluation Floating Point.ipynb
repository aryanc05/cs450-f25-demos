{
 "cells": [
  {
   "cell_type": "markdown",
   "metadata": {},
   "source": [
    "****Floating Point Error in Horner's Rule Polynomial Evaluation****\n",
    "\n",
    "The following example is taken from *Applied Numerical Linear Algebra* by James Demmel, SIAM 1997.\n",
    "\n",
    "Here are three methods for evaluating the function\n",
    "\n",
    "$$f(x)=(x-2)^9 = -512 + 2304x -4608x^2 +5476x^3 -4032x^4 +2016x^5-672x^6+144x^7-18x^8+x^9$$\n"
   ]
  },
  {
   "cell_type": "code",
   "execution_count": null,
   "metadata": {
    "jupyter": {
     "outputs_hidden": false
    }
   },
   "outputs": [],
   "source": [
    "import numpy as np\n",
    "\n",
    "#Evalue  polynomial in factored form\n",
    "def f(x):\n",
    "    return (x-2.)**9\n",
    "\n",
    "#coefficients for expanded form\n",
    "coeffs = np.asarray([-512., 2304., -4608., 5376., -4032., 2016., -672., 144., -18., 1.])\n",
    "\n",
    "#Evaluate polynomial using coefficients\n",
    "def p(x):\n",
    "    return np.inner(coeffs, np.asarray([x**i for i in range(10)]))\n",
    "\n",
    "#Evaluate Horner's rule for polynomial\n",
    "def h(x):\n",
    "    y = 0.\n",
    "    #[::-1] looks at all elements with stride -1, reversing the order\n",
    "    for c in coeffs[::-1]:\n",
    "        y = x*y+c\n",
    "    return y\n",
    "\n",
    "#Define 8000 points between 1.92 and 2.08\n",
    "xpts = 1.92+np.arange(8000.)/50000.\n",
    "\n",
    "import matplotlib\n",
    "import matplotlib.pyplot as pt\n",
    "\n",
    "#plot functions evaluated at each point using Horder's rule and using factored form\n",
    "pt.plot(xpts,[h(x) for x in xpts],label='Evaluation by Horner\\'s rule')\n",
    "pt.plot(xpts,[f(x) for x in xpts],label='Evaluation in factored form')\n",
    "pt.legend()\n",
    "pt.show()\n"
   ]
  },
  {
   "cell_type": "markdown",
   "metadata": {},
   "source": [
    "It seems Horner's rule is inaccurate when $f(x)\\approx 0$, lets try to understand why.\n",
    "\n",
    "The first method uses $(x-2)^9$ directly, encurring a backward error of $\\epsilon$ (machine epsilon), since given $z=\\textit{fl}(x+2)$, we can obtain $z^9$ to the same precision, therby solving the problem for $\\hat{x}=\\textit{fl}(x+2)-2=x+ \\Delta x$, $|\\Delta x|\\leq \\epsilon$. \n",
    "\n",
    "The second uses the inner product formula\n",
    "$$f(x)=p(x)= \\sum_{i=0}^9c_ix^i =\\begin{bmatrix} -512 & 2304 & -4608 & 5476 & -4032 & 2016 & -672 & 144 & 18& 1 \\end{bmatrix}\\begin{bmatrix}  1\\\\ x \\\\ x^2 \\\\ x^3 \\\\ x^4 \\\\ x^5 \\\\ x^6 \\\\ x^7 \\\\ x^8 \\\\ x^9 \\end{bmatrix}$$\n",
    "\n",
    "The third uses Horner's rule, which requires fewer operations\n",
    "\n",
    "$$f(x)=h(x) = c_0 + (c_1 + \\ldots (c_8 + c_9x)x \\ldots )x$$\n",
    "\n",
    "Each addition in the last two methods incurs a relative error of at most $\\epsilon$. An error in the innermost parenthesis, would correspond to evaluating the function at a slightly perturbed $x$. However, the error in the summation done last, contributes directly to the result. When $\\left|f(x)\\right|<|c_0|\\epsilon$, the result will contain no accurate significant digits.\n",
    "\n",
    "In terms of backward stability, extrapolating the above argument implies that the backward absolute error bound has the bound\n",
    "$$\\textit{fl}(h(x))-f(x)=\\Delta x \\leq \\epsilon \\left(1+\\left|\\frac{df^{-1}}{dx}(x)\\right|\\right).$$\n",
    "\n",
    "More generally, given their factorized form, we can evaluate any function with unconditional backward stability. But factorization is hard!"
   ]
  },
  {
   "cell_type": "code",
   "execution_count": null,
   "metadata": {
    "jupyter": {
     "outputs_hidden": true
    }
   },
   "outputs": [],
   "source": []
  }
 ],
 "metadata": {
  "kernelspec": {
   "display_name": "Python 3",
   "language": "python",
   "name": "python3"
  },
  "language_info": {
   "codemirror_mode": {
    "name": "ipython",
    "version": 3
   },
   "file_extension": ".py",
   "mimetype": "text/x-python",
   "name": "python",
   "nbconvert_exporter": "python",
   "pygments_lexer": "ipython3",
   "version": "3.8.5"
  }
 },
 "nbformat": 4,
 "nbformat_minor": 4
}
