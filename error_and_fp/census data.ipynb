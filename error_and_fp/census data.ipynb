{
 "cells": [
  {
   "cell_type": "code",
   "execution_count": null,
   "metadata": {},
   "outputs": [],
   "source": [
    "import numpy as np\n",
    "import matplotlib.pyplot as plt\n",
    "plt.style.use('seaborn-talk')\n",
    "from io import StringIO\n",
    "\n",
    "import scipy.optimize"
   ]
  },
  {
   "cell_type": "code",
   "execution_count": null,
   "metadata": {},
   "outputs": [],
   "source": [
    "ctxt =\\\n",
    "\"\"\"\n",
    "    1900     75.995\n",
    "    1910     91.972\n",
    "    1920    105.711\n",
    "    1930    123.203\n",
    "    1940    131.669\n",
    "    1950    150.697\n",
    "    1960    179.323\n",
    "    1970    203.212\n",
    "    1980    226.505\n",
    "    1990    249.633\n",
    "    2000    281.422\n",
    "    2010    308.746\n",
    "\"\"\""
   ]
  },
  {
   "cell_type": "code",
   "execution_count": null,
   "metadata": {},
   "outputs": [],
   "source": [
    "d = np.genfromtxt(StringIO(ctxt))\n",
    "year = np.int32(d[:,0])\n",
    "count = d[:,1]\n",
    "print(year)\n",
    "print(count)"
   ]
  },
  {
   "cell_type": "code",
   "execution_count": null,
   "metadata": {},
   "outputs": [],
   "source": [
    "plt.plot(year, count, 'o')"
   ]
  },
  {
   "cell_type": "code",
   "execution_count": null,
   "metadata": {},
   "outputs": [],
   "source": [
    "plt.figure()\n",
    "plt.plot(year, count, 'o')\n",
    "\n",
    "def f1(t, a, b, c):\n",
    "    return a*np.exp(b*t)+c \n",
    "p1 = [10, 0.001, 100]\n",
    "\n",
    "def f2(t, a, b, c):\n",
    "    return a * np.exp(-b * np.exp(-c * t))\n",
    "p2 = [4000, 1.0, 0.001]\n",
    "\n",
    "def f3(t, a, b, c):\n",
    "    return a / (1+b*np.exp(-c*t))\n",
    "p3 = [4000, 1.0, 0.001]\n",
    "\n",
    "xyear = np.linspace(1900, 2100)\n",
    "\n",
    "f = f1\n",
    "p = p1\n",
    "popt, pcov = scipy.optimize.curve_fit(f, year-1900, count, p0=p)\n",
    "xcount = f(xyear-1900, *popt)\n",
    "plt.plot(xyear, xcount, '-')\n",
    "plt.text(xyear[-1], xcount[-1], f'{xcount[-1]}', bbox=dict(facecolor='white'))\n",
    "\n",
    "f = f2\n",
    "p = p2\n",
    "popt, pcov = scipy.optimize.curve_fit(f, year-1900, count, p0=p)\n",
    "xcount = f(xyear-1900, *popt)\n",
    "plt.plot(xyear, xcount, '-')\n",
    "plt.text(xyear[-1], xcount[-1], f'{xcount[-1]}', bbox=dict(facecolor='white'))\n",
    "\n",
    "f = f3\n",
    "p = p3\n",
    "popt, pcov = scipy.optimize.curve_fit(f, year-1900, count, p0=p)\n",
    "xcount = f(xyear-1900, *popt)\n",
    "plt.plot(xyear, xcount, '-')\n",
    "plt.text(xyear[-1], xcount[-1], f'{xcount[-1]}', bbox=dict(facecolor='white'))"
   ]
  },
  {
   "cell_type": "code",
   "execution_count": null,
   "metadata": {},
   "outputs": [],
   "source": [
    "count[-1] = 1.05 * 308.746\n",
    "plt.figure()\n",
    "plt.plot(year, count, 'o')\n",
    "\n",
    "def f1(t, a, b, c):\n",
    "    return a*np.exp(b*t)+c \n",
    "p1 = [10, 0.001, 100]\n",
    "\n",
    "def f2(t, a, b, c):\n",
    "    return a * np.exp(-b * np.exp(-c * t))\n",
    "p2 = [4000, 1.0, 0.001]\n",
    "\n",
    "def f3(t, a, b, c):\n",
    "    return a / (1+b*np.exp(-c*t))\n",
    "p3 = [4000, 1.0, 0.001]\n",
    "\n",
    "xyear = np.linspace(1900, 2100)\n",
    "\n",
    "f = f1\n",
    "p = p1\n",
    "popt, pcov = scipy.optimize.curve_fit(f, year-1900, count, p0=p)\n",
    "xcount = f(xyear-1900, *popt)\n",
    "plt.plot(xyear, xcount, '-')\n",
    "plt.text(xyear[-1], xcount[-1], f'{xcount[-1]}', bbox=dict(facecolor='white'))\n",
    "\n",
    "f = f2\n",
    "p = p2\n",
    "popt, pcov = scipy.optimize.curve_fit(f, year-1900, count, p0=p)\n",
    "xcount = f(xyear-1900, *popt)\n",
    "plt.plot(xyear, xcount, '-')\n",
    "plt.text(xyear[-1], xcount[-1], f'{xcount[-1]}', bbox=dict(facecolor='white'))\n",
    "\n",
    "f = f3\n",
    "p = p3\n",
    "popt, pcov = scipy.optimize.curve_fit(f, year-1900, count, p0=p)\n",
    "xcount = f(xyear-1900, *popt)\n",
    "plt.plot(xyear, xcount, '-')\n",
    "plt.text(xyear[-1], xcount[-1], f'{xcount[-1]}', bbox=dict(facecolor='white'))"
   ]
  },
  {
   "cell_type": "code",
   "execution_count": null,
   "metadata": {},
   "outputs": [],
   "source": []
  }
 ],
 "metadata": {
  "kernelspec": {
   "display_name": "Python 3",
   "language": "python",
   "name": "python3"
  },
  "language_info": {
   "codemirror_mode": {
    "name": "ipython",
    "version": 3
   },
   "file_extension": ".py",
   "mimetype": "text/x-python",
   "name": "python",
   "nbconvert_exporter": "python",
   "pygments_lexer": "ipython3",
   "version": "3.8.5"
  }
 },
 "nbformat": 4,
 "nbformat_minor": 4
}
