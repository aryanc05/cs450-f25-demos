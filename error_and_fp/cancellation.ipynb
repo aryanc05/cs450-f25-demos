{
 "cells": [
  {
   "cell_type": "code",
   "execution_count": null,
   "metadata": {},
   "outputs": [],
   "source": [
    "import numpy as np\n",
    "import matplotlib.pyplot as plt\n",
    "%matplotlib inline"
   ]
  },
  {
   "cell_type": "code",
   "execution_count": null,
   "metadata": {},
   "outputs": [],
   "source": [
    "for p in np.arange(0,10):\n",
    "    x = 10**p\n",
    "    f1 = x * (np.sqrt(x+1) - np.sqrt(x))\n",
    "    f2 = x / (np.sqrt(x+1) + np.sqrt(x))\n",
    "    print(f\"{x:>10} {f1:>20} {f2:>20} {f1-f2:>20}\")"
   ]
  },
  {
   "cell_type": "code",
   "execution_count": null,
   "metadata": {},
   "outputs": [],
   "source": [
    "### x=np.linspace(0.99998, 1.00002, 100)\n",
    "\n",
    "#f = (x-1)**3\n",
    "#f = x**3 - 3*x**2 + 3*x - 1\n",
    "f = -1+x*(3+x*(-3+x))\n",
    "plt.plot(x, f, 'o')"
   ]
  },
  {
   "cell_type": "code",
   "execution_count": null,
   "metadata": {},
   "outputs": [],
   "source": []
  }
 ],
 "metadata": {
  "kernelspec": {
   "display_name": "Python 3",
   "language": "python",
   "name": "python3"
  },
  "language_info": {
   "codemirror_mode": {
    "name": "ipython",
    "version": 3
   },
   "file_extension": ".py",
   "mimetype": "text/x-python",
   "name": "python",
   "nbconvert_exporter": "python",
   "pygments_lexer": "ipython3",
   "version": "3.8.5"
  }
 },
 "nbformat": 4,
 "nbformat_minor": 4
}
