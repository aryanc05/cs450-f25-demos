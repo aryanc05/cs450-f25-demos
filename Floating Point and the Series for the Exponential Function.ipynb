{
 "cells": [
  {
   "cell_type": "markdown",
   "metadata": {},
   "source": [
    "# Floating Point Arithmetic and the Series for the Exponential Function"
   ]
  },
  {
   "cell_type": "code",
   "execution_count": 2,
   "metadata": {},
   "outputs": [],
   "source": [
    "import numpy as np\n",
    "import matplotlib.pyplot as pt"
   ]
  },
  {
   "cell_type": "markdown",
   "metadata": {},
   "source": [
    "What this demo does is sum the series\n",
    "$$\n",
    "  \\exp(x) \\approx \\sum_{i=0}^n \\frac{x^i}{i!},\n",
    "$$\n",
    "for varying $n$, and varying $x$. It then prints the partial sum, the true value, and the final term of the series."
   ]
  },
  {
   "cell_type": "code",
   "execution_count": 5,
   "metadata": {},
   "outputs": [
    {
     "name": "stdout",
     "output_type": "stream",
     "text": [
      "1.0 0.36787944117144233 1.0\n",
      "0.0 0.36787944117144233 -1.0\n",
      "0.5 0.36787944117144233 0.5\n",
      "0.33333333333333337 0.36787944117144233 -0.16666666666666666\n",
      "0.37500000000000006 0.36787944117144233 0.041666666666666664\n",
      "0.3666666666666667 0.36787944117144233 -0.008333333333333333\n",
      "0.3680555555555556 0.36787944117144233 0.001388888888888889\n",
      "0.3678571428571429 0.36787944117144233 -0.0001984126984126984\n",
      "0.3678819444444445 0.36787944117144233 2.48015873015873e-05\n",
      "0.3678791887125221 0.36787944117144233 -2.7557319223985893e-06\n",
      "0.3678794642857144 0.36787944117144233 2.755731922398589e-07\n",
      "0.367879439233606 0.36787944117144233 -2.505210838544172e-08\n",
      "0.3678794413212817 0.36787944117144233 2.08767569878681e-09\n",
      "0.36787944116069127 0.36787944117144233 -1.6059043836821613e-10\n",
      "0.36787944117216204 0.36787944117144233 1.1470745597729725e-11\n",
      "0.3678794411713973 0.36787944117144233 -7.647163731819816e-13\n",
      "0.3678794411714451 0.36787944117144233 4.779477332387385e-14\n",
      "0.3678794411714423 0.36787944117144233 -2.8114572543455206e-15\n",
      "0.36787944117144245 0.36787944117144233 1.5619206968586225e-16\n",
      "0.36787944117144245 0.36787944117144233 -8.22063524662433e-18\n"
     ]
    }
   ],
   "source": [
    "a = 0.0\n",
    "x = 1e0 # flip sign\n",
    "true_f = np.exp(x)\n",
    "e = []\n",
    "\n",
    "for i in range(0, 20): # crank up\n",
    "    d = np.prod(\n",
    "            np.arange(1, i+1).astype(np.float))\n",
    "    \n",
    "    # series for exp\n",
    "    a += x**i / d\n",
    "\n",
    "    print(a, np.exp(x), x**i / d)\n",
    "    \n",
    "    e.append(abs(true_f-a)/true_f)"
   ]
  },
  {
   "cell_type": "code",
   "execution_count": 6,
   "metadata": {},
   "outputs": [
    {
     "data": {
      "text/plain": [
       "[<matplotlib.lines.Line2D at 0x1154ad3a0>]"
      ]
     },
     "execution_count": 6,
     "metadata": {},
     "output_type": "execute_result"
    },
    {
     "data": {
      "image/png": "[encoded data removed]",
      "text/plain": [
       "<Figure size 432x288 with 1 Axes>"
      ]
     },
     "metadata": {
      "needs_background": "light"
     },
     "output_type": "display_data"
    }
   ],
   "source": [
    "pt.semilogy(e)"
   ]
  },
  {
   "cell_type": "code",
   "execution_count": 3,
   "metadata": {},
   "outputs": [],
   "source": []
  }
 ],
 "metadata": {
  "kernelspec": {
   "display_name": "Python 3",
   "language": "python",
   "name": "python3"
  },
  "language_info": {
   "codemirror_mode": {
    "name": "ipython",
    "version": 3
   },
   "file_extension": ".py",
   "mimetype": "text/x-python",
   "name": "python",
   "nbconvert_exporter": "python",
   "pygments_lexer": "ipython3",
   "version": "3.8.5"
  }
 },
 "nbformat": 4,
 "nbformat_minor": 4
}
