{
 "cells": [
  {
   "cell_type": "code",
   "execution_count": null,
   "id": "2e07fc1c-e6ba-4c58-8f63-cdbe4f8cf4b6",
   "metadata": {},
   "outputs": [],
   "source": [
    "import matplotlib.pyplot as plt\n",
    "from matplotlib.colors import LogNorm\n",
    "import numpy as np"
   ]
  },
  {
   "cell_type": "code",
   "execution_count": null,
   "id": "84fcda1d-a9ff-4a83-be3a-288b8a998857",
   "metadata": {
    "jupyter": {
     "source_hidden": true
    }
   },
   "outputs": [],
   "source": [
    "def bmat(X):\n",
    "    Xtmp = X.copy()\n",
    "    \n",
    "    I, J = np.where(np.abs(Xtmp) < 1e-12)\n",
    "    Xtmp[I,J] = 0.0\n",
    "    \n",
    "    #I, J = np.where(Xtmp>0)\n",
    "    #Xtmp[I,J] = 1.0\n",
    "    Xtmp /= np.abs(Xtmp).max()\n",
    "    return Xtmp\n",
    "\n",
    "def qriter(Aorig, niter=100):\n",
    "    U = np.eye(Aorig.shape[0])\n",
    "    A = Aorig.copy()\n",
    "    for i in range(niter):\n",
    "        Q, R = np.linalg.qr(A)\n",
    "        A = R @ Q\n",
    "        U = U @ Q\n",
    "    return A, U\n",
    "\n",
    "def plotmat(T):\n",
    "    n = T.shape[0]\n",
    "    fig, ax = plt.subplots(figsize=(2,2))\n",
    "    ax.pcolormesh(bmat(T), edgecolor='w', cmap='bwr', vmin=-1, vmax=1)\n",
    "    ax.axis([0, n, n, 0])\n",
    "    ax.xaxis.tick_top()\n",
    "    ax.set_aspect('equal')\n",
    "    I = np.arange(n)\n",
    "    ax.set_xticks(I+0.5)\n",
    "    ax.set_yticks(I+0.5)\n",
    "    ax.set_xticklabels(I)\n",
    "    ax.set_yticklabels(I)\n",
    "\n",
    "    return fig, ax"
   ]
  },
  {
   "cell_type": "code",
   "execution_count": null,
   "id": "a2f1291e-a5d4-45b3-bf72-b540115e9ba3",
   "metadata": {},
   "outputs": [],
   "source": [
    "np.set_printoptions(precision=2)\n",
    "\n",
    "cases = {}\n",
    "\n",
    "np.random.seed(450)\n",
    "B = np.diag(np.arange(1,7))\n",
    "X = np.random.rand(6,6)\n",
    "cases['invertible, nondefective'] = X @ B @ np.linalg.inv(X), X, B\n",
    "\n",
    "np.random.seed(450)\n",
    "B = np.eye(6)\n",
    "for i in [0,1,3]:\n",
    "    B[i,i+1] = 1 # Jordan\n",
    "for i in [0,1,2]:\n",
    "    B[i,i] = 2\n",
    "for i in [3,4,5]:\n",
    "    B[i,i] = 3\n",
    "X = np.random.rand(6, 6)\n",
    "cases['invertible, defective'] = X @ B @ np.linalg.inv(X), X, B\n",
    "\n",
    "np.random.seed(450)\n",
    "A = np.random.rand(6,6)\n",
    "_, U = qriter(A, niter=1000)\n",
    "cases['orthogonal, general, real'] = A, U, None \n",
    "\n",
    "np.random.seed(450)\n",
    "A = np.random.rand(6,6)\n",
    "A = A + A.T\n",
    "_, U = qriter(A, niter=1000)\n",
    "cases['orthogonal, symmetric, real'] = A, U, None \n",
    "\n",
    "A = np.diag([13, 13, 14, 14, 15, 15])\n",
    "np.random.seed(450)\n",
    "B = np.random.rand(6,6)\n",
    "A = A + B + B.T\n",
    "_, U = qriter(A, niter=1000)\n",
    "cases['orthogonal, spd, real'] = A, U, None \n",
    "\n",
    "case = 'invertible, nondefective'\n",
    "case_ = 'invertible, defective'\n",
    "case_ = 'orthogonal, general, real'\n",
    "case_ = 'orthogonal, symmetric, real'\n",
    "case_ = 'orthogonal, spd, real'\n",
    "A, X, B = cases[case]\n",
    "T = np.linalg.inv(X) @ A @ X\n",
    "print(A)\n",
    "print(B)\n",
    "plotmat(T);"
   ]
  },
  {
   "cell_type": "code",
   "execution_count": null,
   "id": "3802a359-62bf-4465-a4d1-1605b02b36cd",
   "metadata": {},
   "outputs": [],
   "source": [
    "for case in ['invertible, nondefective',\n",
    "             'invertible, defective',\n",
    "             'orthogonal, general, real',\n",
    "             'orthogonal, symmetric, real',\n",
    "             'orthogonal, spd, real']:\n",
    "    A, X, B = cases[case]\n",
    "    T = np.linalg.inv(X) @ A @ X\n",
    "    plotmat(T);"
   ]
  },
  {
   "cell_type": "code",
   "execution_count": null,
   "id": "3b07267b-b1d4-4da5-a717-d737fe31f1bd",
   "metadata": {},
   "outputs": [],
   "source": []
  }
 ],
 "metadata": {
  "kernelspec": {
   "display_name": "Python 3 (ipykernel)",
   "language": "python",
   "name": "python3"
  },
  "language_info": {
   "codemirror_mode": {
    "name": "ipython",
    "version": 3
   },
   "file_extension": ".py",
   "mimetype": "text/x-python",
   "name": "python",
   "nbconvert_exporter": "python",
   "pygments_lexer": "ipython3",
   "version": "3.12.11"
  }
 },
 "nbformat": 4,
 "nbformat_minor": 5
}
