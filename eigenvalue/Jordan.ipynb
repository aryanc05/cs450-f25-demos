{
 "cells": [
  {
   "cell_type": "code",
   "execution_count": null,
   "id": "5a01fd2c-5fd3-4e7e-879b-889eda2a1eeb",
   "metadata": {},
   "outputs": [],
   "source": [
    "import numpy as np\n",
    "# What is the rank of J?\n",
    "# What are the eigenvalues of J?\n",
    "# what is the dimension of the eigenspace of J?"
   ]
  },
  {
   "cell_type": "markdown",
   "id": "57a87eb9-e079-45c1-b18c-821e4a532995",
   "metadata": {},
   "source": [
    "from [wikipedia](https://en.wikipedia.org/wiki/Jordan_matrix#Definition)\n",
    "$$\n",
    "J=\\left[\\begin{array}{ccc|cc|cc|ccc}\n",
    "0 & 1 & 0 & 0 & 0 & 0 & 0 & 0 & 0 & 0 \\\\\n",
    "0 & 0 & 1 & 0 & 0 & 0 & 0 & 0 & 0 & 0 \\\\\n",
    "0 & 0 & 0 & 0 & 0 & 0 & 0 & 0 & 0 & 0 \\\\ \\hline\n",
    "0 & 0 & 0 & i & 1 & 0 & 0 & 0 & 0 & 0 \\\\\n",
    "0 & 0 & 0 & 0 & i & 0 & 0 & 0 & 0 & 0 \\\\ \\hline\n",
    "0 & 0 & 0 & 0 & 0 & i & 1 & 0 & 0 & 0 \\\\\n",
    "0 & 0 & 0 & 0 & 0 & 0 & i & 0 & 0 & 0 \\\\ \\hline\n",
    "0 & 0 & 0 & 0 & 0 & 0 & 0 & 7 & 1 & 0 \\\\\n",
    "0 & 0 & 0 & 0 & 0 & 0 & 0 & 0 & 7 & 1 \\\\\n",
    "0 & 0 & 0 & 0 & 0 & 0 & 0 & 0 & 0 & 7 \\end{array}\\right]\n",
    "$$"
   ]
  },
  {
   "cell_type": "code",
   "execution_count": null,
   "id": "06048cd7-0eaf-4d0b-ae55-549491dc52e6",
   "metadata": {},
   "outputs": [],
   "source": [
    "A = np.zeros((10,10), dtype=np.complex128)\n",
    "for i in [0,1,3,5,7,8]:\n",
    "    A[i,i+1] = 1\n",
    "for i in [3,4,5,6]:\n",
    "    A[i,i] = 1j\n",
    "for i in [7,8,9]:\n",
    "    A[i,i] = 7\n",
    "A"
   ]
  },
  {
   "cell_type": "code",
   "execution_count": null,
   "id": "2294f629-cc99-493b-b69c-b27278e72516",
   "metadata": {},
   "outputs": [],
   "source": [
    "eigval, eigvec = np.linalg.eig(A)"
   ]
  },
  {
   "cell_type": "code",
   "execution_count": null,
   "id": "7ebad889-da21-498c-ad50-fb79446c56a3",
   "metadata": {},
   "outputs": [],
   "source": [
    "np.linalg.matrix_rank(eigvec)"
   ]
  },
  {
   "cell_type": "code",
   "execution_count": null,
   "id": "d8ded54d-4eae-420c-aee5-7756a16158f0",
   "metadata": {},
   "outputs": [],
   "source": [
    "np.linalg.matrix_rank(A)"
   ]
  },
  {
   "cell_type": "code",
   "execution_count": null,
   "id": "bd829344-bba0-4909-9d4d-2489371c27a5",
   "metadata": {},
   "outputs": [],
   "source": []
  }
 ],
 "metadata": {
  "kernelspec": {
   "display_name": "Python 3 (ipykernel)",
   "language": "python",
   "name": "python3"
  },
  "language_info": {
   "codemirror_mode": {
    "name": "ipython",
    "version": 3
   },
   "file_extension": ".py",
   "mimetype": "text/x-python",
   "name": "python",
   "nbconvert_exporter": "python",
   "pygments_lexer": "ipython3",
   "version": "3.12.11"
  }
 },
 "nbformat": 4,
 "nbformat_minor": 5
}
