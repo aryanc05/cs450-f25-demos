{
 "cells": [
  {
   "cell_type": "markdown",
   "id": "d65a2bbd-f0f9-451f-a246-554ebdf206fa",
   "metadata": {},
   "source": [
    "# QR Iteration\n",
    "\n",
    "Copyright (C) 2023 Andreas Kloeckner\n",
    "\n",
    "<details>\n",
    "<summary>MIT License</summary>\n",
    "Permission is hereby granted, free of charge, to any person obtaining a copy\n",
    "of this software and associated documentation files (the \"Software\"), to deal\n",
    "in the Software without restriction, including without limitation the rights\n",
    "to use, copy, modify, merge, publish, distribute, sublicense, and/or sell\n",
    "copies of the Software, and to permit persons to whom the Software is\n",
    "furnished to do so, subject to the following conditions:\n",
    "\n",
    "The above copyright notice and this permission notice shall be included in\n",
    "all copies or substantial portions of the Software.\n",
    "\n",
    "THE SOFTWARE IS PROVIDED \"AS IS\", WITHOUT WARRANTY OF ANY KIND, EXPRESS OR\n",
    "IMPLIED, INCLUDING BUT NOT LIMITED TO THE WARRANTIES OF MERCHANTABILITY,\n",
    "FITNESS FOR A PARTICULAR PURPOSE AND NONINFRINGEMENT. IN NO EVENT SHALL THE\n",
    "AUTHORS OR COPYRIGHT HOLDERS BE LIABLE FOR ANY CLAIM, DAMAGES OR OTHER\n",
    "LIABILITY, WHETHER IN AN ACTION OF CONTRACT, TORT OR OTHERWISE, ARISING FROM,\n",
    "OUT OF OR IN CONNECTION WITH THE SOFTWARE OR THE USE OR OTHER DEALINGS IN\n",
    "THE SOFTWARE.\n",
    "</details>"
   ]
  },
  {
   "cell_type": "code",
   "execution_count": null,
   "id": "b1c3421b-ba65-43b8-a3dd-07f3925cdcf9",
   "metadata": {},
   "outputs": [],
   "source": [
    "import numpy as np\n",
    "import numpy.linalg as la\n",
    "\n",
    "np.set_printoptions(linewidth=120)"
   ]
  },
  {
   "cell_type": "markdown",
   "id": "a2caac27-4d67-4faa-a3b9-6a26170a0e45",
   "metadata": {},
   "source": [
    "Make a matrix with given eigenvalues:"
   ]
  },
  {
   "cell_type": "code",
   "execution_count": null,
   "id": "52ce9a98-7c28-42c6-8964-32fb64dcd6ea",
   "metadata": {},
   "outputs": [],
   "source": [
    "n = 5\n",
    "\n",
    "np.random.seed(70)\n",
    "eigvecs = np.random.randn(n, n)\n",
    "eigvals = np.sort(np.random.randn(n))\n",
    "\n",
    "A = np.dot(la.solve(eigvecs, np.diag(eigvals)), eigvecs)\n",
    "print(eigvals)"
   ]
  },
  {
   "cell_type": "markdown",
   "id": "29aaff9f-da2d-4a94-8b36-0801c6aa2c04",
   "metadata": {},
   "source": [
    "## Unshifted QR"
   ]
  },
  {
   "cell_type": "code",
   "execution_count": null,
   "id": "71c8c905-d51c-4ed1-b8d3-80abdb69c98e",
   "metadata": {},
   "outputs": [],
   "source": [
    "X = A\n",
    "Qall = np.eye(n)"
   ]
  },
  {
   "cell_type": "code",
   "execution_count": null,
   "id": "3e7fb4fb-e6f1-4b08-8dc3-766d0839190a",
   "metadata": {},
   "outputs": [],
   "source": [
    "#clear\n",
    "Q, R = la.qr(X)\n",
    "X = R @ Q\n",
    "\n",
    "Qall = Qall @ Q\n",
    "\n",
    "print(X)"
   ]
  },
  {
   "cell_type": "code",
   "execution_count": null,
   "id": "5ca5b671-eab2-4386-8ad5-acc27e3b98af",
   "metadata": {},
   "outputs": [],
   "source": [
    "np.tril(X, -1)"
   ]
  },
  {
   "cell_type": "code",
   "execution_count": null,
   "id": "a389e010-8d14-4635-9a88-77a03e8bf7de",
   "metadata": {},
   "outputs": [],
   "source": [
    "la.norm(np.tril(X, -1))"
   ]
  },
  {
   "cell_type": "code",
   "execution_count": null,
   "id": "c4597364-70c5-48c9-b614-6ef1d84d0164",
   "metadata": {},
   "outputs": [],
   "source": [
    "la.norm(A - Qall @ X @ Qall.T, 2) / la.norm(A, 2)"
   ]
  },
  {
   "cell_type": "markdown",
   "id": "933cede8-1150-4d71-96b2-353b22f44b10",
   "metadata": {},
   "source": [
    "## Shifted QR"
   ]
  },
  {
   "cell_type": "code",
   "execution_count": null,
   "id": "98209f51-fcd7-4abd-afd8-083abc406a73",
   "metadata": {},
   "outputs": [],
   "source": [
    "X = A\n",
    "Qall = np.eye(n)"
   ]
  },
  {
   "cell_type": "code",
   "execution_count": null,
   "id": "2092b1d0-bff6-484b-98b1-bc6983b4a43d",
   "metadata": {},
   "outputs": [],
   "source": [
    "#clear\n",
    "i = -4\n",
    "sigma = X[i,i]\n",
    "Q, R = la.qr(X - sigma*np.eye(n))\n",
    "X = R @ Q + sigma*np.eye(n)\n",
    "\n",
    "Qall = Qall @ Q\n",
    "\n",
    "print(X)"
   ]
  },
  {
   "cell_type": "markdown",
   "id": "7580f462-72fc-44af-ae36-758c763b3ba5",
   "metadata": {},
   "source": [
    "To compare convergence speed, count iterations until left-of-diagonal entries decay below $10^{-10}$."
   ]
  },
  {
   "cell_type": "code",
   "execution_count": null,
   "id": "56e796e1-8366-4a06-ac1b-6b6dd5846af9",
   "metadata": {},
   "outputs": [],
   "source": [
    "la.norm(np.tril(X, -1))"
   ]
  },
  {
   "cell_type": "code",
   "execution_count": null,
   "id": "963c0c73-252f-4d0a-8cdf-513e1ea84db4",
   "metadata": {},
   "outputs": [],
   "source": [
    "la.norm(A - Qall @ X @ Qall.T, 2) / la.norm(A, 2)"
   ]
  },
  {
   "cell_type": "code",
   "execution_count": null,
   "id": "b306283d-f477-46cd-bada-4843a02a7064",
   "metadata": {},
   "outputs": [],
   "source": []
  }
 ],
 "metadata": {
  "kernelspec": {
   "display_name": "Python 3 (ipykernel)",
   "language": "python",
   "name": "python3"
  },
  "language_info": {
   "codemirror_mode": {
    "name": "ipython",
    "version": 3
   },
   "file_extension": ".py",
   "mimetype": "text/x-python",
   "name": "python",
   "nbconvert_exporter": "python",
   "pygments_lexer": "ipython3",
   "version": "3.12.11"
  }
 },
 "nbformat": 4,
 "nbformat_minor": 5
}
