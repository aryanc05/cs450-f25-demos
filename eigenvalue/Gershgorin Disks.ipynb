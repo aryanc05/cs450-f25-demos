{
 "cells": [
  {
   "cell_type": "code",
   "execution_count": null,
   "metadata": {},
   "outputs": [],
   "source": [
    "import numpy as np\n",
    "import scipy.sparse as sp\n",
    "import scipy.linalg as spla\n",
    "import matplotlib\n",
    "from matplotlib.patches import Circle\n",
    "from matplotlib.collections import PatchCollection\n",
    "import matplotlib.pyplot as plt\n",
    "from numpy import linalg as LA\n",
    "\n",
    "def gershgorin(A):\n",
    "    '''Plot Gershgorin disks of A as well as its eigenvalues on the complex plane'''\n",
    "    n = len(A)\n",
    "    eval, evec = LA.eig(A)\n",
    "    patches = []\n",
    "    # draw discs\n",
    "    for i in range(n):\n",
    "        xi = np.real(A[i,i])\n",
    "        yi = np.imag(A[i,i])\n",
    "        ri = np.sum(np.abs(A[i,:])) - np.abs(A[i,i])\n",
    "        circle = Circle((xi, yi), ri)\n",
    "        patches.append(circle)\n",
    "    fig, ax = plt.subplots()\n",
    "    p = PatchCollection(patches, cmap=matplotlib.cm.jet, alpha=0.1)\n",
    "    ax.add_collection(p)\n",
    "    plt.axis('equal')\n",
    "    for xi, yi in zip(np.real(eval), np.imag(eval)):\n",
    "        plt.plot(xi, yi,'o')\n",
    "    plt.xlabel(r\"$Re(\\lambda)$\")\n",
    "    plt.ylabel(r\"$Im(\\lambda)$\")\n",
    "    plt.show()"
   ]
  },
  {
   "cell_type": "markdown",
   "metadata": {},
   "source": [
    "### Definition (Gershgorin Disk):\n",
    "\n",
    "Given a matrix $\\boldsymbol{A}\\in{\\mathbb{R}^{n\\times{n}}}$, let $r_{i}=\\sum_{j\\neq{i}}|a_{ij}|$. We define the Gershgorin disks as\n",
    "$D_{i}=\\{z\\in{\\mathbb{C}} : |z-a_{ii}|\\leq{r_{i}} \\},$\n",
    "i.e. $D_{i}$ is a closed disk in the complex plane centered at $a_{ii}$ with a radius that is the sum of the absolute values of the off-diagonal entries of row $i$ of matrix $\\boldsymbol{A}$.\n",
    "\n",
    "### Gershgorin Circle Theorem:\n",
    "\n",
    "The eigenvalues $\\lambda_1,\\ldots,\\lambda_n$ of any matrix $\\boldsymbol{A}\\in{\\mathbb{R}^{n\\times{n}}}$ are contained in the union of the Gershgorin disks,\n",
    "$\\forall i\\in \\{1,\\ldots, n\\}, \\quad \\lambda_i \\in \\bigcup_{j=1}^{n}{D_{j}}.$"
   ]
  },
  {
   "cell_type": "code",
   "execution_count": null,
   "metadata": {},
   "outputs": [],
   "source": [
    "A = 10*np.eye(4,4)+np.random.rand(4,4) + 1j * np.random.rand(4,4)\n",
    "gershgorin(A) # circles are Gershgorin Circles and dots are eigenvalues"
   ]
  },
  {
   "cell_type": "code",
   "execution_count": null,
   "metadata": {},
   "outputs": [],
   "source": []
  }
 ],
 "metadata": {
  "kernelspec": {
   "display_name": "Python 3 (ipykernel)",
   "language": "python",
   "name": "python3"
  },
  "language_info": {
   "codemirror_mode": {
    "name": "ipython",
    "version": 3
   },
   "file_extension": ".py",
   "mimetype": "text/x-python",
   "name": "python",
   "nbconvert_exporter": "python",
   "pygments_lexer": "ipython3",
   "version": "3.12.11"
  }
 },
 "nbformat": 4,
 "nbformat_minor": 4
}
