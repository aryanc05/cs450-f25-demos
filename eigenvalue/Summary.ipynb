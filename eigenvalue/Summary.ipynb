{
 "cells": [
  {
   "cell_type": "code",
   "execution_count": null,
   "id": "5b5d0f3d-5ae7-4c6c-a466-3a7037d3a807",
   "metadata": {},
   "outputs": [],
   "source": [
    "import numpy as np"
   ]
  },
  {
   "cell_type": "code",
   "execution_count": null,
   "id": "73361fb2-2760-46aa-8031-3eda0547a578",
   "metadata": {},
   "outputs": [],
   "source": [
    "n = 6\n",
    "np.random.seed(450)\n",
    "A = np.random.randn(n,n)\n",
    "I = np.identity(n)"
   ]
  },
  {
   "cell_type": "code",
   "execution_count": null,
   "id": "2226a7e6-507e-458b-97fc-d01e511a1dc6",
   "metadata": {},
   "outputs": [],
   "source": [
    "A1 = A.copy()\n",
    "Q1 = I\n",
    "\n",
    "# FIXME\n",
    "# end: Q A1 = A\n",
    "#      Q is orthog\n",
    "#      A1 is Upper Hessenberg"
   ]
  },
  {
   "cell_type": "code",
   "execution_count": null,
   "id": "fcd4bed0-e8df-402e-a814-25f0ca90de46",
   "metadata": {},
   "outputs": [],
   "source": [
    "def uhqr(A):\n",
    "    \"\"\"\n",
    "    A : nxn, upper Hessenberg\n",
    "\n",
    "    Create Q, R using Givens\n",
    "    \"\"\"\n",
    "    # FIXME\n",
    "    # end: Q R = A\n",
    "    #      Q is orthog\n",
    "    #.     R is triangular\n",
    "    return Q, R"
   ]
  },
  {
   "cell_type": "code",
   "execution_count": null,
   "id": "8a7665bf-bcb0-40dc-9bba-781bc5eaaf81",
   "metadata": {},
   "outputs": [],
   "source": [
    "A2 = A1.copy()\n",
    "qriter = 50\n",
    "\n",
    "for k in range(qriter):\n",
    "    Q, R = uhqr(A2)\n",
    "    A2 = R @ Q\n",
    "\n",
    "# FIXME\n",
    "# end: A2 -> Schur form"
   ]
  },
  {
   "cell_type": "code",
   "execution_count": null,
   "id": "b6c2287f-4c79-4ff6-9721-1771c8f200a8",
   "metadata": {},
   "outputs": [],
   "source": [
    "# FIXME\n",
    "# Calculate the eigenvalues from the blocks of A2"
   ]
  }
 ],
 "metadata": {
  "kernelspec": {
   "display_name": "Python 3 (ipykernel)",
   "language": "python",
   "name": "python3"
  },
  "language_info": {
   "codemirror_mode": {
    "name": "ipython",
    "version": 3
   },
   "file_extension": ".py",
   "mimetype": "text/x-python",
   "name": "python",
   "nbconvert_exporter": "python",
   "pygments_lexer": "ipython3",
   "version": "3.12.11"
  }
 },
 "nbformat": 4,
 "nbformat_minor": 5
}
