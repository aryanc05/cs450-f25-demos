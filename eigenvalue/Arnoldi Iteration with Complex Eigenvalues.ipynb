{
 "cells": [
  {
   "cell_type": "markdown",
   "metadata": {},
   "source": [
    "# Arnoldi Iteration with Complex Eigenvalues"
   ]
  },
  {
   "cell_type": "code",
   "execution_count": null,
   "metadata": {},
   "outputs": [],
   "source": [
    "import numpy as np\n",
    "import numpy.linalg as la\n",
    "\n",
    "import matplotlib.pyplot as pt"
   ]
  },
  {
   "cell_type": "markdown",
   "metadata": {},
   "source": [
    "Let us make a matrix with a defined set of eigenvalues and eigenvectors, given by `eigvals` and `eigvecs`."
   ]
  },
  {
   "cell_type": "code",
   "execution_count": null,
   "metadata": {},
   "outputs": [],
   "source": [
    "np.random.seed(40)\n",
    "\n",
    "# Generate matrix with eigenvalues 1...25\n",
    "nhalf = 12\n",
    "n = 2*nhalf\n",
    "eigvals = np.zeros(n,dtype=np.complex128)\n",
    "eigvals[0:nhalf] = np.linspace(1., nhalf, nhalf)+1j*np.linspace(1., nhalf, nhalf)\n",
    "eigvals[nhalf:] = eigvals[0:nhalf].conj()\n",
    "eigvecs = np.random.randn(n, n)\n",
    "print(eigvals)\n",
    "\n",
    "A = la.solve(eigvecs, np.dot(np.diag(eigvals), eigvecs))\n",
    "print(la.eig(A)[0])"
   ]
  },
  {
   "cell_type": "markdown",
   "metadata": {},
   "source": [
    "## Initialization"
   ]
  },
  {
   "cell_type": "markdown",
   "metadata": {},
   "source": [
    "Set up $Q$ and $H$:"
   ]
  },
  {
   "cell_type": "code",
   "execution_count": null,
   "metadata": {},
   "outputs": [],
   "source": [
    "Q = np.zeros((n, n),dtype=np.complex128)\n",
    "H = np.zeros((n, n),dtype=np.complex128)\n",
    "\n",
    "k = 0"
   ]
  },
  {
   "cell_type": "markdown",
   "metadata": {},
   "source": [
    "Pick a starting vector, normalize it"
   ]
  },
  {
   "cell_type": "code",
   "execution_count": null,
   "metadata": {},
   "outputs": [],
   "source": [
    "x0 = np.random.randn(n)#+1j*np.random.randn(n)\n",
    "x0 = x0/la.norm(x0)\n",
    "\n",
    "# Poke it into the first column of Q\n",
    "Q[:, k] = x0\n",
    "\n",
    "del x0"
   ]
  },
  {
   "cell_type": "markdown",
   "metadata": {},
   "source": [
    "Make a list to save arrays of Ritz values, including the maximum Ritz value:"
   ]
  },
  {
   "cell_type": "code",
   "execution_count": null,
   "metadata": {},
   "outputs": [],
   "source": [
    "ritz_values = []\n",
    "ritz_max = []"
   ]
  },
  {
   "cell_type": "markdown",
   "metadata": {},
   "source": [
    "## Algorithm"
   ]
  },
  {
   "cell_type": "markdown",
   "metadata": {},
   "source": [
    "Carry out one iteration of Arnoldi iteration.\n",
    "\n",
    "Run this cell in-place (Ctrl-Enter) until H is filled."
   ]
  },
  {
   "cell_type": "code",
   "execution_count": null,
   "metadata": {},
   "outputs": [],
   "source": [
    "print(k)\n",
    "\n",
    "u = A @ Q[:, k]\n",
    "\n",
    "# Carry out Gram-Schmidt on u against Q\n",
    "for j in range(k+1):\n",
    "    qj = Q[:, j]\n",
    "    H[j,k] = np.inner(qj.conj(), u)\n",
    "    u = u - H[j,k]*qj\n",
    "\n",
    "if k+1 < n:\n",
    "    H[k+1, k] = la.norm(u)\n",
    "    Q[:, k+1] = u/H[k+1, k]\n",
    "\n",
    "k += 1\n",
    "\n",
    "pt.spy(H)\n",
    "D = la.eig(H)[0]\n",
    "max_ritz = D[np.argmax(np.abs(D))]\n",
    "print(max_ritz)\n",
    "ritz_max.append(max_ritz)\n",
    "ritz_values.append(D)"
   ]
  },
  {
   "cell_type": "markdown",
   "metadata": {},
   "source": [
    "Check that $Q^T A Q =H$:"
   ]
  },
  {
   "cell_type": "code",
   "execution_count": null,
   "metadata": {},
   "outputs": [],
   "source": [
    "la.norm(Q[:,:k-1].T.conj() @ A @ Q[:,:k-1] - H[:k-1,:k-1])/ la.norm(A)"
   ]
  },
  {
   "cell_type": "markdown",
   "metadata": {},
   "source": [
    "Check that Q is orthogonal:"
   ]
  },
  {
   "cell_type": "code",
   "execution_count": null,
   "metadata": {},
   "outputs": [],
   "source": [
    "la.norm((Q.T.conj() @ Q)[:k-1,:k-1] - np.eye(k-1))"
   ]
  },
  {
   "cell_type": "markdown",
   "metadata": {},
   "source": [
    "Look at convergence of largest Ritz value to dominant eigenvalue"
   ]
  },
  {
   "cell_type": "code",
   "execution_count": null,
   "metadata": {},
   "outputs": [],
   "source": [
    "max_eigval = eigvals[np.argmax(np.abs(eigvals))]\n",
    "pt.plot(np.abs(max_eigval-ritz_max)/np.abs(max_eigval))"
   ]
  },
  {
   "cell_type": "markdown",
   "metadata": {},
   "source": [
    "## Plot convergence of Ritz values"
   ]
  },
  {
   "cell_type": "markdown",
   "metadata": {},
   "source": [
    "Enable the Ritz value collection above to make this work."
   ]
  },
  {
   "cell_type": "code",
   "execution_count": null,
   "metadata": {},
   "outputs": [],
   "source": [
    "for i, rv in enumerate(ritz_values[1:]):\n",
    "    pt.plot([i] * len(rv), rv.imag, \"x\")"
   ]
  },
  {
   "cell_type": "code",
   "execution_count": null,
   "metadata": {
    "jupyter": {
     "outputs_hidden": true
    }
   },
   "outputs": [],
   "source": []
  }
 ],
 "metadata": {
  "kernelspec": {
   "display_name": "Python 3 (ipykernel)",
   "language": "python",
   "name": "python3"
  },
  "language_info": {
   "codemirror_mode": {
    "name": "ipython",
    "version": 3
   },
   "file_extension": ".py",
   "mimetype": "text/x-python",
   "name": "python",
   "nbconvert_exporter": "python",
   "pygments_lexer": "ipython3",
   "version": "3.12.11"
  }
 },
 "nbformat": 4,
 "nbformat_minor": 4
}
