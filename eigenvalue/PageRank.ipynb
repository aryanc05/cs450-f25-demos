{
 "cells": [
  {
   "cell_type": "code",
   "execution_count": null,
   "metadata": {},
   "outputs": [],
   "source": [
    "import numpy as np\n",
    "import matplotlib.pyplot as plt"
   ]
  },
  {
   "cell_type": "code",
   "execution_count": null,
   "metadata": {},
   "outputs": [],
   "source": [
    "A = np.array([[0.6, 0.6, 0.8],\n",
    "              [0.4, 0.3, 0.0],\n",
    "              [0.0, 0.1, 0.2]])"
   ]
  },
  {
   "cell_type": "code",
   "execution_count": null,
   "metadata": {},
   "outputs": [],
   "source": [
    "v = np.random.rand(3)\n",
    "v = v / np.linalg.norm(v,1)\n",
    "print(v)\n",
    "print(v.sum())"
   ]
  },
  {
   "cell_type": "code",
   "execution_count": null,
   "metadata": {},
   "outputs": [],
   "source": [
    "x = v.copy()\n",
    "\n",
    "n = 10\n",
    "eigs = np.zeros(n)\n",
    "eigv = np.zeros((3,n))\n",
    "\n",
    "for i in range(n):\n",
    "    y = A @ x\n",
    "    normy = np.linalg.norm(y, 2)\n",
    "    x = y / normy\n",
    "    #y = x\n",
    "    eigs[i] = normy\n",
    "    eigv[:,i] = x\n",
    "    print(x)"
   ]
  },
  {
   "cell_type": "code",
   "execution_count": null,
   "metadata": {},
   "outputs": [],
   "source": [
    "plt.plot(eigv.T);\n",
    "plt.legend(['phone', 'study', 'eat'])"
   ]
  },
  {
   "cell_type": "markdown",
   "metadata": {},
   "source": [
    "#  Page Rank"
   ]
  },
  {
   "cell_type": "markdown",
   "metadata": {},
   "source": [
    "A = array([ [0,     0,     0,     1, 0, 1],\n",
    "            [1/2.0, 0,     0,     0, 0, 0],\n",
    "            [0,     1/2.0, 0,     0, 0, 0],\n",
    "            [0,     1/2.0, 1/3.0, 0, 0, 0],\n",
    "            [0,     0,     1/3.0, 0, 0, 0],\n",
    "            [1/2.0, 0,     1/3.0, 0, 1, 0 ] ])"
   ]
  },
  {
   "cell_type": "code",
   "execution_count": null,
   "metadata": {},
   "outputs": [],
   "source": [
    "A = np.array([ [0,     0,     0,     1, 0, 1],\n",
    "               [1/2.0, 0,     0,     0, 0, 0],\n",
    "               [0,     1/2.0, 0,     0, 0, 0],\n",
    "               [0,     1/2.0, 1/3.0, 0, 0, 0],\n",
    "               [0,     0,     1/3.0, 0, 0, 0],\n",
    "               [1/2.0, 0,     1/3.0, 0, 1, 0]])"
   ]
  },
  {
   "cell_type": "code",
   "execution_count": null,
   "metadata": {},
   "outputs": [],
   "source": [
    "u = np.ones(6)\n",
    "M = 0.85 * A + 0.15 * (1/6) * np.outer(u,u)"
   ]
  },
  {
   "cell_type": "code",
   "execution_count": null,
   "metadata": {},
   "outputs": [],
   "source": [
    "x = np.random.rand(6)\n",
    "x = x / np.linalg.norm(x,1)\n",
    "#x = np.ones(6)/6\n",
    "\n",
    "n = 15\n",
    "eigs = np.zeros(n)\n",
    "eigv = np.zeros((6,n))\n",
    "\n",
    "for i in range(n):\n",
    "    y = M @ x\n",
    "    normy = np.linalg.norm(y, np.inf)\n",
    "    x = y / normy\n",
    "    eigs[i] = normy\n",
    "    eigv[:,i] = x / np.linalg.norm(x,1)"
   ]
  },
  {
   "cell_type": "code",
   "execution_count": null,
   "metadata": {},
   "outputs": [],
   "source": [
    "x / np.linalg.norm(x,1)"
   ]
  },
  {
   "cell_type": "code",
   "execution_count": null,
   "metadata": {},
   "outputs": [],
   "source": [
    "plt.plot(eigv.T)\n",
    "plt.legend([f'{i}' for i in range(n)])"
   ]
  },
  {
   "cell_type": "code",
   "execution_count": null,
   "metadata": {},
   "outputs": [],
   "source": [
    "eigs"
   ]
  },
  {
   "cell_type": "code",
   "execution_count": null,
   "metadata": {},
   "outputs": [],
   "source": [
    "w, v = np.linalg.eig(M)"
   ]
  },
  {
   "cell_type": "code",
   "execution_count": null,
   "metadata": {},
   "outputs": [],
   "source": [
    "w"
   ]
  },
  {
   "cell_type": "code",
   "execution_count": null,
   "metadata": {},
   "outputs": [],
   "source": [
    "v = v[:,0]"
   ]
  },
  {
   "cell_type": "code",
   "execution_count": null,
   "metadata": {},
   "outputs": [],
   "source": [
    "v = -v / np.linalg.norm(v,1)"
   ]
  },
  {
   "cell_type": "code",
   "execution_count": null,
   "metadata": {},
   "outputs": [],
   "source": [
    "v"
   ]
  },
  {
   "cell_type": "code",
   "execution_count": null,
   "metadata": {},
   "outputs": [],
   "source": []
  }
 ],
 "metadata": {
  "kernelspec": {
   "display_name": "Python 3 (ipykernel)",
   "language": "python",
   "name": "python3"
  },
  "language_info": {
   "codemirror_mode": {
    "name": "ipython",
    "version": 3
   },
   "file_extension": ".py",
   "mimetype": "text/x-python",
   "name": "python",
   "nbconvert_exporter": "python",
   "pygments_lexer": "ipython3",
   "version": "3.12.11"
  }
 },
 "nbformat": 4,
 "nbformat_minor": 4
}
