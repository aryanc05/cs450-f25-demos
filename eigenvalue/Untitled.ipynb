{
 "cells": [
  {
   "cell_type": "code",
   "execution_count": null,
   "id": "d21d778c-20e9-47eb-8dca-6728d8f8da12",
   "metadata": {},
   "outputs": [],
   "source": [
    "import numpy as np"
   ]
  },
  {
   "cell_type": "code",
   "execution_count": null,
   "id": "db42a389-db5c-4db1-9a50-8b24716fa3ce",
   "metadata": {},
   "outputs": [],
   "source": [
    "A = np.array([[1,2],[3,3]])\n",
    "b = np.array([1,0])\n",
    "print(np.linalg.solve(A,b))"
   ]
  },
  {
   "cell_type": "code",
   "execution_count": null,
   "id": "f0a47789-61d1-4ddb-8daf-38db5cf7b717",
   "metadata": {},
   "outputs": [],
   "source": []
  }
 ],
 "metadata": {
  "kernelspec": {
   "display_name": "Python 3 (ipykernel)",
   "language": "python",
   "name": "python3"
  },
  "language_info": {
   "codemirror_mode": {
    "name": "ipython",
    "version": 3
   },
   "file_extension": ".py",
   "mimetype": "text/x-python",
   "name": "python",
   "nbconvert_exporter": "python",
   "pygments_lexer": "ipython3",
   "version": "3.12.11"
  }
 },
 "nbformat": 4,
 "nbformat_minor": 5
}
