{
 "cells": [
  {
   "cell_type": "code",
   "execution_count": null,
   "metadata": {},
   "outputs": [],
   "source": [
    "import numpy as np\n",
    "import matplotlib.pyplot as plt\n",
    "%matplotlib inline\n",
    "\n",
    "from sklearn.neighbors import radius_neighbors_graph\n",
    "from sklearn.neighbors import kneighbors_graph\n",
    "from sklearn.datasets import make_moons\n",
    "\n",
    "from scipy.sparse import csgraph"
   ]
  },
  {
   "cell_type": "markdown",
   "metadata": {},
   "source": [
    "https://medium.com/@tomernahshon/spectral-clustering-from-scratch-38c68968eae0"
   ]
  },
  {
   "cell_type": "code",
   "execution_count": null,
   "metadata": {},
   "outputs": [],
   "source": [
    "random_state = 21\n",
    "X, value = make_moons(150, noise=.07, random_state=random_state)\n",
    "fig, ax = plt.subplots()\n",
    "ax.set_title('Truth')\n",
    "ax.scatter(X[:, 0], X[:, 1],c='k',s=50)"
   ]
  },
  {
   "cell_type": "code",
   "execution_count": null,
   "metadata": {},
   "outputs": [],
   "source": [
    "A = radius_neighbors_graph(X, 0.4, mode='distance')\n",
    "G = csgraph.laplacian(A, normed=False)\n",
    "print(G.toarray().diagonal())"
   ]
  },
  {
   "cell_type": "code",
   "execution_count": null,
   "metadata": {},
   "outputs": [],
   "source": [
    "radius_neighbors_graph(np.array([[0,0],[1,1],[1,2]]), radius=2, mode='distance').toarray()"
   ]
  },
  {
   "cell_type": "code",
   "execution_count": null,
   "metadata": {},
   "outputs": [],
   "source": [
    "G.toarray()[0,:]"
   ]
  },
  {
   "cell_type": "code",
   "execution_count": null,
   "metadata": {},
   "outputs": [],
   "source": [
    "eigval, eigvec = np.linalg.eig(G.toarray())"
   ]
  },
  {
   "cell_type": "code",
   "execution_count": null,
   "metadata": {},
   "outputs": [],
   "source": [
    "I = np.argsort(np.abs(eigval))\n",
    "print(eigval[I[0]])\n",
    "print(eigval[I[1]])\n",
    "print(eigval[I[2]])"
   ]
  },
  {
   "cell_type": "code",
   "execution_count": null,
   "metadata": {},
   "outputs": [],
   "source": [
    "v = eigvec[:,I[1]]\n",
    "plt.plot(v, 'o')"
   ]
  },
  {
   "cell_type": "code",
   "execution_count": null,
   "metadata": {},
   "outputs": [],
   "source": [
    "POS = np.where(v >= 0)[0]\n",
    "NEG = np.where(v < 0)[0]\n",
    "test = np.zeros_like(value)\n",
    "test[POS] = 1"
   ]
  },
  {
   "cell_type": "code",
   "execution_count": null,
   "metadata": {},
   "outputs": [],
   "source": [
    "fig, ax = plt.subplots()\n",
    "ax.set_title('From the Graph Laplacian')\n",
    "ax.scatter(X[:, 0], X[:, 1],c=test,s=50)"
   ]
  },
  {
   "cell_type": "code",
   "execution_count": null,
   "metadata": {},
   "outputs": [],
   "source": []
  }
 ],
 "metadata": {
  "kernelspec": {
   "display_name": "Python 3 (ipykernel)",
   "language": "python",
   "name": "python3"
  },
  "language_info": {
   "codemirror_mode": {
    "name": "ipython",
    "version": 3
   },
   "file_extension": ".py",
   "mimetype": "text/x-python",
   "name": "python",
   "nbconvert_exporter": "python",
   "pygments_lexer": "ipython3",
   "version": "3.12.11"
  }
 },
 "nbformat": 4,
 "nbformat_minor": 4
}
