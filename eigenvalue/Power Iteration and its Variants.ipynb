{
 "cells": [
  {
   "cell_type": "markdown",
   "metadata": {},
   "source": [
    "# Power Iteration and its Variants\n",
    "\n",
    "Copyright (C) 2020 Andreas Kloeckner\n",
    "\n",
    "<details>\n",
    "<summary>MIT License</summary>\n",
    "Permission is hereby granted, free of charge, to any person obtaining a copy\n",
    "of this software and associated documentation files (the \"Software\"), to deal\n",
    "in the Software without restriction, including without limitation the rights\n",
    "to use, copy, modify, merge, publish, distribute, sublicense, and/or sell\n",
    "copies of the Software, and to permit persons to whom the Software is\n",
    "furnished to do so, subject to the following conditions:\n",
    "\n",
    "The above copyright notice and this permission notice shall be included in\n",
    "all copies or substantial portions of the Software.\n",
    "\n",
    "THE SOFTWARE IS PROVIDED \"AS IS\", WITHOUT WARRANTY OF ANY KIND, EXPRESS OR\n",
    "IMPLIED, INCLUDING BUT NOT LIMITED TO THE WARRANTIES OF MERCHANTABILITY,\n",
    "FITNESS FOR A PARTICULAR PURPOSE AND NONINFRINGEMENT. IN NO EVENT SHALL THE\n",
    "AUTHORS OR COPYRIGHT HOLDERS BE LIABLE FOR ANY CLAIM, DAMAGES OR OTHER\n",
    "LIABILITY, WHETHER IN AN ACTION OF CONTRACT, TORT OR OTHERWISE, ARISING FROM,\n",
    "OUT OF OR IN CONNECTION WITH THE SOFTWARE OR THE USE OR OTHER DEALINGS IN\n",
    "THE SOFTWARE.\n",
    "</details>"
   ]
  },
  {
   "cell_type": "code",
   "execution_count": 1,
   "metadata": {},
   "outputs": [],
   "source": [
    "import numpy as np\n",
    "import numpy.linalg as la\n",
    "\n",
    "\n",
    "np.set_printoptions(precision=3, linewidth=120)"
   ]
  },
  {
   "cell_type": "markdown",
   "metadata": {},
   "source": [
    "Let's  prepare a matrix with some random or deliberately chosen eigenvalues:"
   ]
  },
  {
   "cell_type": "code",
   "execution_count": 27,
   "metadata": {},
   "outputs": [
    {
     "name": "stdout",
     "output_type": "stream",
     "text": [
      "[-2.668 -0.958 -0.33  -0.292 -0.186 -0.144]\n"
     ]
    }
   ],
   "source": [
    "n = 6\n",
    "\n",
    "if 1:\n",
    "    np.random.seed(70)\n",
    "    eigvecs = np.random.randn(n, n)\n",
    "    eigvals = np.sort(np.random.randn(n))\n",
    "    # Uncomment for near-duplicate largest-magnitude eigenvalue\n",
    "    # eigvals[1] = eigvals[0] + 1e-3\n",
    "\n",
    "    A = eigvecs.dot(np.diag(eigvals)).dot(la.inv(eigvecs))\n",
    "    print(eigvals)\n",
    "    \n",
    "else:\n",
    "    # Complex eigenvalues\n",
    "    np.random.seed(40)\n",
    "    A = np.random.randn(n, n)\n",
    "    print(la.eig(A)[0])"
   ]
  },
  {
   "cell_type": "markdown",
   "metadata": {},
   "source": [
    "Let's also pick an initial vector:"
   ]
  },
  {
   "cell_type": "code",
   "execution_count": 28,
   "metadata": {},
   "outputs": [
    {
     "data": {
      "text/plain": [
       "array([ 2.269,  0.664,  0.899, -0.366,  0.463,  0.08 ])"
      ]
     },
     "execution_count": 28,
     "metadata": {},
     "output_type": "execute_result"
    }
   ],
   "source": [
    "#clear\n",
    "x0 = np.random.randn(n)\n",
    "x0"
   ]
  },
  {
   "cell_type": "markdown",
   "metadata": {},
   "source": [
    "### Power iteration"
   ]
  },
  {
   "cell_type": "code",
   "execution_count": 29,
   "metadata": {},
   "outputs": [],
   "source": [
    "x = x0"
   ]
  },
  {
   "cell_type": "markdown",
   "metadata": {},
   "source": [
    "Now implement plain power iteration."
   ]
  },
  {
   "cell_type": "code",
   "execution_count": 30,
   "metadata": {},
   "outputs": [
    {
     "name": "stdout",
     "output_type": "stream",
     "text": [
      "[-7.705 22.151  2.865 -4.648  4.043 11.651]\n",
      "[ 19.254 -66.76  -10.275  13.745 -12.354 -31.851]\n",
      "[-50.872 180.931  28.982 -38.003  32.878  84.804]\n",
      "[ 135.725 -484.052  -78.458  103.027  -87.053 -226.183]\n",
      "[-362.275 1292.214  210.269 -276.615  231.404  603.437]\n",
      "[  966.69  -3447.945  -561.808   739.696  -616.452 -1609.861]\n",
      "[-2579.07   9198.61   1499.54  -1974.989  1643.638  4294.662]\n",
      "[  6880.334 -24539.336  -4001.041   5270.259  -4383.84  -11456.774]\n",
      "[-18354.595  65463.009  10674.137 -14060.82   11693.775  30562.786]\n",
      "[  48963.909 -174633.058  -28475.596   37510.904  -31194.161  -81530.956]\n",
      "[-130618.864  465860.62    75963.646 -100067.48    83214.419  217496.239]\n",
      "[  348445.777 -1242754.094  -202645.16    266946.529  -221986.341  -580204.159]\n",
      "[-929531.949 3315234.721  540587.199 -712121.531  592181.424 1547782.299]\n",
      "[ 2479667.045 -8843889.704 -1442098.59   1899693.011 -1579732.736 -4128943.082]\n",
      "[-6614886.466 23592411.656  3847016.323 -5067719.196  4214175.002 11014579.211]\n",
      "[ 17646208.664 -62936320.902 -10262497.484  13518907.353 -11241947.561 -29383053.282]\n",
      "[-4.707e+07  1.679e+08  2.738e+07 -3.606e+07  2.999e+07  7.838e+07]\n",
      "[ 1.256e+08 -4.479e+08 -7.303e+07  9.621e+07 -8.000e+07 -2.091e+08]\n",
      "[-3.350e+08  1.195e+09  1.948e+08 -2.566e+08  2.134e+08  5.578e+08]\n",
      "[ 8.936e+08 -3.187e+09 -5.197e+08  6.846e+08 -5.693e+08 -1.488e+09]\n"
     ]
    }
   ],
   "source": [
    "#clear\n",
    "for i in range(20):\n",
    "    x = A @ x\n",
    "    print(x)"
   ]
  },
  {
   "cell_type": "markdown",
   "metadata": {},
   "source": [
    "* What's the problem with this method?\n",
    "* Does anything useful come of this?\n",
    "* How do we fix it?"
   ]
  },
  {
   "cell_type": "markdown",
   "metadata": {},
   "source": [
    "### Normalized power iteration"
   ]
  },
  {
   "cell_type": "markdown",
   "metadata": {},
   "source": [
    "Back to the beginning: Reset to the initial vector."
   ]
  },
  {
   "cell_type": "code",
   "execution_count": 31,
   "metadata": {},
   "outputs": [
    {
     "name": "stdout",
     "output_type": "stream",
     "text": [
      "[-0.345  0.964  0.971 -0.796  0.785  0.307]\n",
      "[-2.668 -0.958 -0.144 -0.186 -0.33  -0.292]\n"
     ]
    }
   ],
   "source": [
    "x0 = np.random.randn(n)\n",
    "x = x0\n",
    "print(x)\n",
    "eigvals, eigvecs = np.linalg.eig(A)\n",
    "print(eigvals)"
   ]
  },
  {
   "cell_type": "markdown",
   "metadata": {},
   "source": [
    "Implement normalized power iteration."
   ]
  },
  {
   "cell_type": "code",
   "execution_count": 32,
   "metadata": {},
   "outputs": [
    {
     "name": "stdout",
     "output_type": "stream",
     "text": [
      "[ 2.693e-01 -7.490e-01 -2.115e-01  4.139e-01 -1.946e-04 -3.878e-01]\n",
      "[-0.245  0.82   0.178 -0.289  0.082  0.382]\n",
      "[ 0.239 -0.838 -0.155  0.223 -0.125 -0.388]\n",
      "[-0.237  0.843  0.144 -0.197  0.141  0.392]\n",
      "[ 0.237 -0.844 -0.14   0.187 -0.147 -0.393]\n",
      "[-0.237  0.845  0.139 -0.183  0.15   0.394]\n",
      "[ 0.237 -0.845 -0.138  0.182 -0.15  -0.394]\n",
      "[-0.237  0.845  0.138 -0.182  0.151  0.394]\n",
      "[ 0.237 -0.845 -0.138  0.182 -0.151 -0.394]\n",
      "[-0.237  0.845  0.138 -0.181  0.151  0.394]\n",
      "[ 0.237 -0.845 -0.138  0.181 -0.151 -0.394]\n",
      "[-0.237  0.845  0.138 -0.181  0.151  0.394]\n",
      "[ 0.237 -0.845 -0.138  0.181 -0.151 -0.394]\n",
      "[-0.237  0.845  0.138 -0.181  0.151  0.394]\n",
      "[ 0.237 -0.845 -0.138  0.181 -0.151 -0.394]\n",
      "[-0.237  0.845  0.138 -0.181  0.151  0.394]\n",
      "[ 0.237 -0.845 -0.138  0.181 -0.151 -0.394]\n",
      "[-0.237  0.845  0.138 -0.181  0.151  0.394]\n",
      "[ 0.237 -0.845 -0.138  0.181 -0.151 -0.394]\n",
      "[-0.237  0.845  0.138 -0.181  0.151  0.394]\n",
      "2.667650992109833\n"
     ]
    }
   ],
   "source": [
    "#clear\n",
    "for i in range(20):\n",
    "    x = A @ x\n",
    "    nrm = la.norm(x)\n",
    "    x = x/nrm\n",
    "    print(x)\n",
    "\n",
    "print(nrm)"
   ]
  },
  {
   "cell_type": "markdown",
   "metadata": {},
   "source": [
    "### Checking convergence"
   ]
  },
  {
   "cell_type": "code",
   "execution_count": 33,
   "metadata": {},
   "outputs": [
    {
     "name": "stdout",
     "output_type": "stream",
     "text": [
      "coefficients: [ 1.099 -0.011 -0.058  0.118 -0.173 -0.031]\n",
      "coefficients: [-1.01   0.004  0.003 -0.008  0.02   0.003]\n",
      "coefficients: [ 1.001e+00 -1.340e-03 -1.546e-04  5.232e-04 -2.418e-03 -3.397e-04]\n",
      "coefficients: [-1.000e+00  4.807e-04  8.347e-06 -3.651e-05  2.990e-04  3.708e-05]\n",
      "coefficients: [ 1.000e+00 -1.726e-04 -4.510e-07  2.550e-06 -3.700e-05 -4.051e-06]\n",
      "coefficients: [-1.000e+00  6.198e-05  2.438e-08 -1.781e-07  4.579e-06  4.427e-07]\n",
      "coefficients: [ 1.000e+00 -2.226e-05 -1.317e-09  1.244e-08 -5.668e-07 -4.838e-08]\n",
      "coefficients: [-1.000e+00  7.992e-06  7.121e-11 -8.691e-10  7.016e-08  5.286e-09]\n",
      "coefficients: [ 1.000e+00 -2.870e-06 -3.850e-12  6.071e-11 -8.684e-09 -5.777e-10]\n",
      "coefficients: [-1.000e+00  1.031e-06  2.093e-13 -4.243e-12  1.075e-09  6.313e-11]\n",
      "i=0: errors[i]=6.377053e-01, errors[i+1]/errors[i]=0.130125, conv_factor=0.359107\n",
      "i=1: errors[i]=8.298113e-02, errors[i+1]/errors[i]=0.141745, conv_factor=0.359107\n",
      "i=2: errors[i]=1.176219e-02, errors[i+1]/errors[i]=0.216129, conv_factor=0.359107\n",
      "i=3: errors[i]=2.542152e-03, errors[i+1]/errors[i]=0.33573, conv_factor=0.359107\n",
      "i=4: errors[i]=8.534760e-04, errors[i+1]/errors[i]=0.364156, conv_factor=0.359107\n",
      "i=5: errors[i]=3.107983e-04, errors[i+1]/errors[i]=0.362774, conv_factor=0.359107\n",
      "i=6: errors[i]=1.127494e-04, errors[i+1]/errors[i]=0.36065, conv_factor=0.359107\n",
      "i=7: errors[i]=4.066309e-05, errors[i+1]/errors[i]=0.359687, conv_factor=0.359107\n",
      "i=8: errors[i]=1.462597e-05, errors[i+1]/errors[i]=0.359316, conv_factor=0.359107\n"
     ]
    }
   ],
   "source": [
    "x0 = np.random.randn(n)\n",
    "x = x0\n",
    "errors = []\n",
    "coeffs = la.solve(eigvecs, x0)\n",
    "\n",
    "for i in range(10):\n",
    "    x = A @ x\n",
    "    errors.append(\n",
    "        la.norm(x/eigvals[0]**(i+1) - coeffs[0]*eigvecs[:,0], 2))\n",
    "    print(\"coefficients:\", la.solve(eigvecs, x/la.norm(x,2)))\n",
    "\n",
    "conv_factor = eigvals[1]/eigvals[0]\n",
    "\n",
    "errors = np.array(errors)\n",
    "for i in range(len(errors)-1):\n",
    "    print(f\"{i=}: {errors[i]=:.6e}, {errors[i+1]/errors[i]=:.6g}, {conv_factor=:.6g}\")"
   ]
  },
  {
   "cell_type": "markdown",
   "metadata": {},
   "source": [
    "* Now try the matrix variants above."
   ]
  },
  {
   "cell_type": "markdown",
   "metadata": {},
   "source": [
    "------\n",
    "### Inverse iteration\n",
    "\n",
    "What if we want the eigenvalue closest to a give value $\\sigma$?\n",
    "\n",
    "Once again, reset to the beginning."
   ]
  },
  {
   "cell_type": "code",
   "execution_count": null,
   "metadata": {},
   "outputs": [],
   "source": []
  },
  {
   "cell_type": "code",
   "execution_count": null,
   "metadata": {},
   "outputs": [
    {
     "name": "stdout",
     "output_type": "stream",
     "text": [
      "[ 0.184 -0.983  0.004]\n",
      "[ 0.271 -0.963  0.003]\n",
      "[ 0.389 -0.921  0.002]\n",
      "[ 0.535 -0.845  0.001]\n",
      "[ 0.688 -0.725  0.001]\n",
      "[ 8.182e-01 -5.749e-01  5.706e-04]\n",
      "[ 9.056e-01 -4.242e-01  3.158e-04]\n",
      "[ 9.545e-01 -2.981e-01  1.664e-04]\n",
      "[ 9.790e-01 -2.038e-01  8.535e-05]\n",
      "[ 9.905e-01 -1.375e-01  4.317e-05]\n",
      "[ 9.957e-01 -9.213e-02  2.170e-05]\n",
      "[ 9.981e-01 -6.157e-02  1.088e-05]\n",
      "[ 9.992e-01 -4.109e-02  5.444e-06]\n",
      "[ 9.996e-01 -2.740e-02  2.723e-06]\n",
      "[ 9.998e-01 -1.827e-02  1.362e-06]\n",
      "[ 9.999e-01 -1.218e-02  6.810e-07]\n",
      "[ 1.000e+00 -8.123e-03  3.405e-07]\n",
      "[ 1.000e+00 -5.415e-03  1.703e-07]\n",
      "[ 1.000e+00 -3.610e-03  8.513e-08]\n",
      "[ 1.000e+00 -2.407e-03  4.257e-08]\n",
      "[ 1.000e+00 -1.605e-03  2.128e-08]\n",
      "[ 1.000e+00 -1.070e-03  1.064e-08]\n",
      "[ 1.000e+00 -7.131e-04  5.321e-09]\n",
      "[ 1.000e+00 -4.754e-04  2.660e-09]\n",
      "[ 1.000e+00 -3.169e-04  1.330e-09]\n",
      "[ 1.000e+00 -2.113e-04  6.651e-10]\n",
      "[ 1.000e+00 -1.409e-04  3.326e-10]\n",
      "[ 1.000e+00 -9.391e-05  1.663e-10]\n",
      "[ 1.000e+00 -6.261e-05  8.314e-11]\n",
      "[ 1.000e+00 -4.174e-05  4.157e-11]\n"
     ]
    }
   ],
   "source": [
    "#clear\n",
    "x0 = np.random.randn(3)\n",
    "x = x0/la.norm(x0)\n",
    "\n",
    "sigma = 1\n",
    "A_sigma = A-sigma*np.eye(A.shape[0])\n",
    "for i in range(30):\n",
    "    x = la.solve(A_sigma, x)\n",
    "    nrm = la.norm(x)\n",
    "    x = x/nrm\n",
    "    print(x)"
   ]
  },
  {
   "cell_type": "markdown",
   "metadata": {},
   "source": [
    "--------------\n",
    "### Rayleigh quotient iteration\n",
    "\n",
    "Can we feed an estimate of the current approximate eigenvalue back into the calculation? (Hint: Rayleigh quotient)\n",
    "\n",
    "Reset once more."
   ]
  },
  {
   "cell_type": "code",
   "execution_count": 34,
   "metadata": {},
   "outputs": [],
   "source": [
    "x = x0/la.norm(x0)"
   ]
  },
  {
   "cell_type": "markdown",
   "metadata": {},
   "source": [
    "Run this cell in-place (Ctrl-Enter) many times."
   ]
  },
  {
   "cell_type": "code",
   "execution_count": 36,
   "metadata": {},
   "outputs": [
    {
     "name": "stdout",
     "output_type": "stream",
     "text": [
      "[ 0.518  0.379 -0.086 -0.583  0.145 -0.469] -0.14418092560962564\n",
      "[-0.518 -0.379  0.086  0.583 -0.145  0.469] -0.14418092560962506\n",
      "[-0.518 -0.379  0.086  0.583 -0.145  0.469] -0.14418092560962598\n",
      "[ 0.518  0.379 -0.086 -0.583  0.145 -0.469] -0.14418092560962448\n",
      "[ 0.518  0.379 -0.086 -0.583  0.145 -0.469] -0.14418092560962734\n",
      "[-0.518 -0.379  0.086  0.583 -0.145  0.469] -0.1441809256096223\n",
      "[ 0.518  0.379 -0.086 -0.583  0.145 -0.469] -0.14418092560962306\n",
      "[ 0.518  0.379 -0.086 -0.583  0.145 -0.469] -0.14418092560962414\n",
      "[-0.518 -0.379  0.086  0.583 -0.145  0.469] -0.14418092560962323\n",
      "[-0.518 -0.379  0.086  0.583 -0.145  0.469] -0.1441809256096235\n"
     ]
    }
   ],
   "source": [
    "#clear\n",
    "for i in range(10):\n",
    "    sigma = np.dot(x, np.dot(A, x))/np.dot(x, x)\n",
    "    x = la.solve(A-sigma*np.eye(n), x)\n",
    "    x = x/la.norm(x)\n",
    "    print(x, sigma)"
   ]
  },
  {
   "cell_type": "markdown",
   "metadata": {},
   "source": [
    "* What's a reasonable stopping criterion?\n",
    "* Computational downside of this iteration?"
   ]
  }
 ],
 "metadata": {
  "kernelspec": {
   "display_name": "Python 3",
   "language": "python",
   "name": "python3"
  },
  "language_info": {
   "codemirror_mode": {
    "name": "ipython",
    "version": 3
   },
   "file_extension": ".py",
   "mimetype": "text/x-python",
   "name": "python",
   "nbconvert_exporter": "python",
   "pygments_lexer": "ipython3",
   "version": "3.11.5"
  }
 },
 "nbformat": 4,
 "nbformat_minor": 4
}
